{
 "cells": [
  {
   "cell_type": "markdown",
   "metadata": {},
   "source": [
    "# Dieses Notebook war nur zum ausprobieren!!"
   ]
  },
  {
   "cell_type": "markdown",
   "metadata": {},
   "source": [
    "# Early-Stopping für Softmax-Regression\n",
    "Implementieren sie das Batch-Gradientenverfahren mit Early Stopping für die Softmax-Regression (ohne Scikit-Learn)"
   ]
  },
  {
   "cell_type": "code",
   "execution_count": 1,
   "metadata": {},
   "outputs": [],
   "source": [
    "import numpy as np\n",
    "import matplotlib.pyplot as plt\n",
    "%matplotlib inline"
   ]
  },
  {
   "cell_type": "code",
   "execution_count": 2,
   "metadata": {},
   "outputs": [],
   "source": [
    "from sklearn.datasets import load_iris\n",
    "\n",
    "iris = load_iris()"
   ]
  },
  {
   "cell_type": "code",
   "execution_count": 3,
   "metadata": {},
   "outputs": [
    {
     "data": {
      "text/plain": [
       "dict_keys(['data', 'target', 'target_names', 'DESCR', 'feature_names'])"
      ]
     },
     "execution_count": 3,
     "metadata": {},
     "output_type": "execute_result"
    }
   ],
   "source": [
    "iris.keys()"
   ]
  },
  {
   "cell_type": "code",
   "execution_count": 4,
   "metadata": {},
   "outputs": [
    {
     "name": "stdout",
     "output_type": "stream",
     "text": [
      "(150,)\n"
     ]
    },
    {
     "data": {
      "text/plain": [
       "array([0, 0, 0])"
      ]
     },
     "execution_count": 4,
     "metadata": {},
     "output_type": "execute_result"
    }
   ],
   "source": [
    "# [classes]\n",
    "y = iris['target']\n",
    "print(y.shape)\n",
    "y[:3]"
   ]
  },
  {
   "cell_type": "code",
   "execution_count": 5,
   "metadata": {},
   "outputs": [
    {
     "name": "stdout",
     "output_type": "stream",
     "text": [
      "(150, 2)\n"
     ]
    },
    {
     "data": {
      "text/plain": [
       "array([[1.4, 0.2],\n",
       "       [1.4, 0.2],\n",
       "       [1.3, 0.2]])"
      ]
     },
     "execution_count": 5,
     "metadata": {},
     "output_type": "execute_result"
    }
   ],
   "source": [
    "# [['petal length', 'petal width']]\n",
    "X = iris['data'][:, (2,3)]\n",
    "print(X.shape)\n",
    "X[:3]"
   ]
  },
  {
   "cell_type": "code",
   "execution_count": 6,
   "metadata": {},
   "outputs": [],
   "source": [
    "eta = 0.1\n",
    "n_iter = 1000\n",
    "m = len(X)"
   ]
  },
  {
   "cell_type": "markdown",
   "metadata": {},
   "source": [
    "**Softmax-Score für Kategorie k**  \n",
    "$$s_k(x) = (\\theta^{(k)})^T*x$$"
   ]
  },
  {
   "cell_type": "code",
   "execution_count": 7,
   "metadata": {},
   "outputs": [
    {
     "name": "stdout",
     "output_type": "stream",
     "text": [
      "(3, 2)\n"
     ]
    },
    {
     "data": {
      "text/plain": [
       "array([[ 0.38078309, -2.54293602],\n",
       "       [ 1.34484207, -0.31075688],\n",
       "       [-0.13690439,  0.6465947 ]])"
      ]
     },
     "execution_count": 7,
     "metadata": {},
     "output_type": "execute_result"
    }
   ],
   "source": [
    "theta = np.random.randn(3, 2)\n",
    "print(theta.shape)\n",
    "theta"
   ]
  },
  {
   "cell_type": "code",
   "execution_count": 8,
   "metadata": {},
   "outputs": [
    {
     "data": {
      "text/plain": [
       "(150, 2)"
      ]
     },
     "execution_count": 8,
     "metadata": {},
     "output_type": "execute_result"
    }
   ],
   "source": [
    "X.shape"
   ]
  },
  {
   "cell_type": "code",
   "execution_count": 9,
   "metadata": {},
   "outputs": [
    {
     "name": "stdout",
     "output_type": "stream",
     "text": [
      "(150, 3)\n"
     ]
    },
    {
     "data": {
      "text/plain": [
       "array([[ 0.02450913,  1.82062752, -0.06234721],\n",
       "       [ 0.02450913,  1.82062752, -0.06234721]])"
      ]
     },
     "execution_count": 9,
     "metadata": {},
     "output_type": "execute_result"
    }
   ],
   "source": [
    "#softmax-score für jeden datenpunkt und jede kategorie\n",
    "# [\n",
    "# [cat1, cat2], -> erster Datenpunkt\n",
    "# [cat1, cat2] -> zweiter Datenpunkt\n",
    "#]\n",
    "score = []\n",
    "for row in X:\n",
    "    row_score = []\n",
    "    for cat in theta:\n",
    "        cat_score = cat.T.dot(row)\n",
    "        row_score.append(cat_score)\n",
    "    score.append(row_score)\n",
    "score = np.array(score)\n",
    "print(score.shape)\n",
    "score[:2]"
   ]
  },
  {
   "cell_type": "markdown",
   "metadata": {},
   "source": [
    "**Softmax-Funktion**  \n",
    "$$\\hat p_k = \\sigma(s(x())_k = \\frac{exp(s_k(x))}{\\sum_{j=1}^Kexp(s_j(x))}$$\n",
    "* $K$ ist die Anzahl der Kategorien\n",
    "* $s(x)$ ist ein Vektor der die Scores jeder Kategorie für den Datenpunkt x enthält\n",
    "* $\\sigma(s(x))_k$ ist die anhand der Sores geschätze Wahrscheinlichkeit dafür, dass der Datenpunkt $x$ zur Kategorie $k$ gehört."
   ]
  },
  {
   "cell_type": "code",
   "execution_count": 10,
   "metadata": {},
   "outputs": [
    {
     "name": "stdout",
     "output_type": "stream",
     "text": [
      "(150, 3)\n"
     ]
    },
    {
     "data": {
      "text/plain": [
       "array([[0.12589671, 0.75868008, 0.11542321],\n",
       "       [0.12589671, 0.75868008, 0.11542321]])"
      ]
     },
     "execution_count": 10,
     "metadata": {},
     "output_type": "execute_result"
    }
   ],
   "source": [
    "softmax = []\n",
    "for p in score:\n",
    "    p_softmax = []\n",
    "    cat_score_sum = np.sum([np.exp(cat_score) for cat_score in p])\n",
    "    for cat_score in p:\n",
    "        cat_softmax = np.exp(cat_score) / cat_score_sum\n",
    "        p_softmax.append(cat_softmax)\n",
    "    softmax.append(p_softmax)\n",
    "softmax = np.array(softmax)\n",
    "print(softmax.shape)\n",
    "softmax[:2]"
   ]
  },
  {
   "cell_type": "markdown",
   "metadata": {},
   "source": [
    "**Vorhersage eines Klassifikators mit Softmax-Regression**  \n",
    "$$\\hat y = argmax \\sigma(s(x))_k = argmax s_k(x) = argmax ((\\theta^{(k)})^T * x))$$\n",
    "* Der Operator argmax liefert den Wert einer Variable, der eine Funktion maximiert. Hier liefert er denjenigen Wert für $k$, für den die geschätzte Wahrscheinlichkeit $\\sigma(s(x))_k$ maximal wird"
   ]
  },
  {
   "cell_type": "code",
   "execution_count": 11,
   "metadata": {},
   "outputs": [
    {
     "name": "stdout",
     "output_type": "stream",
     "text": [
      "(150,)\n"
     ]
    },
    {
     "data": {
      "text/plain": [
       "array([1, 1])"
      ]
     },
     "execution_count": 11,
     "metadata": {},
     "output_type": "execute_result"
    }
   ],
   "source": [
    "probas = []\n",
    "for proba in softmax:\n",
    "    probas.append(np.argmax(proba))\n",
    "probas = np.array(probas)\n",
    "print(probas.shape)\n",
    "probas[:2]"
   ]
  },
  {
   "cell_type": "markdown",
   "metadata": {},
   "source": [
    "**Kreuzentropie als Kostenfunktion**  \n",
    "$$J(\\Theta) = -\\frac{1}{m}\\sum_{i=1}^m\\sum_{k=1}y_k^{(i)}log(\\hat p_k^{(i)})$$\n",
    "* $y_k^{(i)}$ ist gleich 1, wenn die Zielkategorie des $i^{ten}$ Datenpunkts $k$ ist, sonst 0."
   ]
  },
  {
   "cell_type": "markdown",
   "metadata": {},
   "source": [
    "**Gradientenvektor der Kreuzentropie für Kategorie k**  \n",
    "$$\\nabla_{\\theta}J(\\Theta) = \\frac{1}{m}\\sum_{i=1}^m(\\hat p_k^{(i)} - y_k^{(i)})x^{(i)}$$"
   ]
  },
  {
   "cell_type": "code",
   "execution_count": 12,
   "metadata": {},
   "outputs": [
    {
     "name": "stdout",
     "output_type": "stream",
     "text": [
      "(3, 2)\n",
      "(150,)\n",
      "(150, 3)\n",
      "(150, 3)\n",
      "(150, 2)\n",
      "(150,)\n"
     ]
    }
   ],
   "source": [
    "print(theta.shape, probas.shape, softmax.shape, score.shape, X.shape, y.shape, sep='\\n')"
   ]
  },
  {
   "cell_type": "code",
   "execution_count": 13,
   "metadata": {},
   "outputs": [
    {
     "name": "stdout",
     "output_type": "stream",
     "text": [
      "(150, 3)\n"
     ]
    },
    {
     "data": {
      "text/plain": [
       "array([[1, 0, 0],\n",
       "       [1, 0, 0],\n",
       "       [1, 0, 0]])"
      ]
     },
     "execution_count": 13,
     "metadata": {},
     "output_type": "execute_result"
    }
   ],
   "source": [
    "one = y == 0\n",
    "two = y == 1\n",
    "three = y == 2\n",
    "y_new = np.array([one,two,three]).astype(np.int).T\n",
    "print(y_new.shape)\n",
    "y_new[:3]"
   ]
  },
  {
   "cell_type": "code",
   "execution_count": 14,
   "metadata": {},
   "outputs": [],
   "source": [
    "# Training\n",
    "for epoch in range(1000):\n",
    "    for i, cat_theta in enumerate(theta):\n",
    "        bla = 1 / m * np.sum((softmax[:,i] - y_new[:,i]).dot(X))\n",
    "        theta[i] = cat_theta - eta * bla"
   ]
  },
  {
   "cell_type": "code",
   "execution_count": 15,
   "metadata": {},
   "outputs": [
    {
     "data": {
      "text/plain": [
       "array([[  50.84406186,   47.92034275],\n",
       "       [-293.44557302, -295.10117197],\n",
       "       [ 244.19023193,  244.97373102]])"
      ]
     },
     "execution_count": 15,
     "metadata": {},
     "output_type": "execute_result"
    }
   ],
   "source": [
    "theta"
   ]
  },
  {
   "cell_type": "markdown",
   "metadata": {},
   "source": [
    "# Hier beginnt das richtige!!"
   ]
  },
  {
   "cell_type": "code",
   "execution_count": 16,
   "metadata": {},
   "outputs": [],
   "source": [
    "# Softmax-Score für jede Kategorie und jeden Datenpunkt\n",
    "def get_score(theta, X):\n",
    "    score = []\n",
    "    for cat in theta:\n",
    "        cat_score = []\n",
    "        for row in X:\n",
    "            row_score = cat.T.dot(row)\n",
    "            cat_score.append(row_score)\n",
    "        score.append(cat_score)\n",
    "    score = np.array(score).T\n",
    "    print(score.shape)\n",
    "    return score"
   ]
  },
  {
   "cell_type": "code",
   "execution_count": 17,
   "metadata": {},
   "outputs": [
    {
     "name": "stdout",
     "output_type": "stream",
     "text": [
      "(150, 3)\n"
     ]
    },
    {
     "data": {
      "text/plain": [
       "array([[  80.76575515, -469.84403662,  390.86107091],\n",
       "       [  80.76575515, -469.84403662,  390.86107091],\n",
       "       [  75.68134897, -440.49947932,  366.44204772]])"
      ]
     },
     "execution_count": 17,
     "metadata": {},
     "output_type": "execute_result"
    }
   ],
   "source": [
    "get_score(theta, X)[:3]"
   ]
  },
  {
   "cell_type": "code",
   "execution_count": 18,
   "metadata": {},
   "outputs": [],
   "source": [
    "# Softmax-Funktion\n",
    "def get_softmax(score):\n",
    "    softmax = []\n",
    "    for p in score:\n",
    "        p_softmax = []\n",
    "        cat_score_sum = np.sum([np.exp(cat_score) for cat_score in p])\n",
    "        for cat_score in p:\n",
    "            cat_softmax = np.exp(cat_score) / cat_score_sum\n",
    "            p_softmax.append(cat_softmax)\n",
    "        softmax.append(p_softmax)\n",
    "    softmax = np.array(softmax)\n",
    "    print(softmax.shape)\n",
    "    return softmax"
   ]
  },
  {
   "cell_type": "code",
   "execution_count": 19,
   "metadata": {},
   "outputs": [
    {
     "name": "stdout",
     "output_type": "stream",
     "text": [
      "(150, 3)\n",
      "(150, 3)\n"
     ]
    },
    {
     "name": "stderr",
     "output_type": "stream",
     "text": [
      "/opt/conda/lib/python3.6/site-packages/ipykernel_launcher.py:8: RuntimeWarning: invalid value encountered in double_scalars\n",
      "  \n"
     ]
    },
    {
     "data": {
      "text/plain": [
       "array([[2.12478750e-135, 0.00000000e+000, 1.00000000e+000],\n",
       "       [2.12478750e-135, 0.00000000e+000, 1.00000000e+000],\n",
       "       [5.29947659e-127, 0.00000000e+000, 1.00000000e+000]])"
      ]
     },
     "execution_count": 19,
     "metadata": {},
     "output_type": "execute_result"
    }
   ],
   "source": [
    "get_softmax(get_score(theta, X))[:3]"
   ]
  },
  {
   "cell_type": "code",
   "execution_count": 20,
   "metadata": {},
   "outputs": [],
   "source": [
    "# Prediction\n",
    "def predict(softmax):\n",
    "    probas = []\n",
    "    for proba in softmax:\n",
    "        probas.append(np.argmax(proba))\n",
    "    probas = np.array(probas)\n",
    "    print(probas.shape)\n",
    "    return probas"
   ]
  },
  {
   "cell_type": "code",
   "execution_count": 21,
   "metadata": {},
   "outputs": [
    {
     "name": "stdout",
     "output_type": "stream",
     "text": [
      "(150, 3)\n",
      "(150, 3)\n",
      "(150,)\n"
     ]
    },
    {
     "name": "stderr",
     "output_type": "stream",
     "text": [
      "/opt/conda/lib/python3.6/site-packages/ipykernel_launcher.py:8: RuntimeWarning: invalid value encountered in double_scalars\n",
      "  \n"
     ]
    },
    {
     "data": {
      "text/plain": [
       "array([2, 2, 2, 2, 2, 2, 2, 2, 2, 2, 2, 2, 2, 2, 2, 2, 2, 2, 2, 2, 2, 2,\n",
       "       2, 2, 2, 2, 2, 2, 2, 2, 2, 2, 2, 2, 2, 2, 2, 2, 2, 2, 2, 2, 2, 2,\n",
       "       2, 2, 2, 2, 2, 2, 2, 2, 2, 2, 2, 2, 2, 2, 2, 2, 2, 2, 2, 2, 2, 2,\n",
       "       2, 2, 2, 2, 2, 2, 2, 2, 2, 2, 2, 2, 2, 2, 2, 2, 2, 2, 2, 2, 2, 2,\n",
       "       2, 2, 2, 2, 2, 2, 2, 2, 2, 2, 2, 2, 2, 2, 2, 2, 2, 2, 2, 2, 2, 2,\n",
       "       2, 2, 2, 2, 2, 2, 2, 2, 2, 2, 2, 2, 2, 2, 2, 2, 2, 2, 2, 2, 2, 2,\n",
       "       2, 2, 2, 2, 2, 2, 2, 2, 2, 2, 2, 2, 2, 2, 2, 2, 2, 2])"
      ]
     },
     "execution_count": 21,
     "metadata": {},
     "output_type": "execute_result"
    }
   ],
   "source": [
    "predict(get_softmax(get_score(theta, X)))"
   ]
  },
  {
   "cell_type": "code",
   "execution_count": 22,
   "metadata": {},
   "outputs": [],
   "source": [
    "# Training\n",
    "# TODO: softmax muss als parameter übergeben werden!!!\n",
    "# TODO: predict und sgd funktionieren noch nicht\n",
    "def fit(softmax, X, y, eta=0.1, n_iter=100):\n",
    "    theta = np.random.randn(3, 2)\n",
    "    for epoch in range(n_iter):\n",
    "        for i, cat_theta in enumerate(theta):\n",
    "            gradient = 1 / m * np.sum((softmax[:,i] - y[:,i]).dot(X))\n",
    "            theta[i] = cat_theta - eta * gradient\n",
    "    return theta"
   ]
  },
  {
   "cell_type": "code",
   "execution_count": 31,
   "metadata": {},
   "outputs": [
    {
     "ename": "SyntaxError",
     "evalue": "invalid syntax (<ipython-input-31-1d5dcca2bca2>, line 3)",
     "output_type": "error",
     "traceback": [
      "\u001b[0;36m  File \u001b[0;32m\"<ipython-input-31-1d5dcca2bca2>\"\u001b[0;36m, line \u001b[0;32m3\u001b[0m\n\u001b[0;31m    fit(softmax, X, y_new).shape\u001b[0m\n\u001b[0m      ^\u001b[0m\n\u001b[0;31mSyntaxError\u001b[0m\u001b[0;31m:\u001b[0m invalid syntax\n"
     ]
    }
   ],
   "source": [
    "softmax = get_softmax(get_score(theta, X)\n",
    "                      \n",
    "fit(softmax, X, y_new).shape"
   ]
  },
  {
   "cell_type": "code",
   "execution_count": 27,
   "metadata": {},
   "outputs": [
    {
     "data": {
      "text/plain": [
       "array([[1, 0, 0],\n",
       "       [1, 0, 0],\n",
       "       [1, 0, 0]])"
      ]
     },
     "execution_count": 27,
     "metadata": {},
     "output_type": "execute_result"
    }
   ],
   "source": [
    "y_new[:3]"
   ]
  },
  {
   "cell_type": "code",
   "execution_count": 24,
   "metadata": {},
   "outputs": [
    {
     "data": {
      "text/plain": [
       "array([[  55.89038974,   52.96667063],\n",
       "       [-322.92461453, -324.58021348],\n",
       "       [ 268.62294557,  269.40644465]])"
      ]
     },
     "execution_count": 24,
     "metadata": {},
     "output_type": "execute_result"
    }
   ],
   "source": [
    "theta\n",
    "np.app"
   ]
  },
  {
   "cell_type": "markdown",
   "metadata": {},
   "source": [
    "Reihenfolge\n",
    "1. score berechnen\n",
    "2. softmax funktion berechnen\n",
    "3. trainieren\n",
    "4. validieren\n",
    "5. trainieren\n",
    "6. validieren\n",
    "7. ...\n",
    "8. testen"
   ]
  },
  {
   "cell_type": "code",
   "execution_count": 45,
   "metadata": {},
   "outputs": [
    {
     "ename": "TypeError",
     "evalue": "vstack() got an unexpected keyword argument 'axis'",
     "output_type": "error",
     "traceback": [
      "\u001b[0;31m---------------------------------------------------------------------------\u001b[0m",
      "\u001b[0;31mTypeError\u001b[0m                                 Traceback (most recent call last)",
      "\u001b[0;32m<ipython-input-45-0471f921f8e5>\u001b[0m in \u001b[0;36m<module>\u001b[0;34m()\u001b[0m\n\u001b[0;32m----> 1\u001b[0;31m \u001b[0mnp\u001b[0m\u001b[0;34m.\u001b[0m\u001b[0mvstack\u001b[0m\u001b[0;34m(\u001b[0m\u001b[0;34m(\u001b[0m\u001b[0;34m[\u001b[0m\u001b[0;34m[\u001b[0m\u001b[0;36m1\u001b[0m\u001b[0;34m]\u001b[0m\u001b[0;34m,\u001b[0m\u001b[0;34m[\u001b[0m\u001b[0;36m2\u001b[0m\u001b[0;34m]\u001b[0m\u001b[0;34m]\u001b[0m\u001b[0;34m,\u001b[0m\u001b[0;34m[\u001b[0m\u001b[0;34m[\u001b[0m\u001b[0;36m2\u001b[0m\u001b[0;34m]\u001b[0m\u001b[0;34m]\u001b[0m\u001b[0;34m)\u001b[0m\u001b[0;34m,\u001b[0m \u001b[0maxis\u001b[0m\u001b[0;34m=\u001b[0m\u001b[0;36m0\u001b[0m\u001b[0;34m)\u001b[0m\u001b[0;34m\u001b[0m\u001b[0m\n\u001b[0m",
      "\u001b[0;31mTypeError\u001b[0m: vstack() got an unexpected keyword argument 'axis'"
     ]
    }
   ],
   "source": [
    "np.vstack(([[1],[2]],[[2]]))"
   ]
  },
  {
   "cell_type": "code",
   "execution_count": 50,
   "metadata": {},
   "outputs": [
    {
     "data": {
      "text/plain": [
       "array([[1],\n",
       "       [2],\n",
       "       [2]])"
      ]
     },
     "execution_count": 50,
     "metadata": {},
     "output_type": "execute_result"
    }
   ],
   "source": [
    "np.append([[1],[2]],[[2]], axis=0)"
   ]
  },
  {
   "cell_type": "code",
   "execution_count": null,
   "metadata": {},
   "outputs": [],
   "source": []
  },
  {
   "cell_type": "code",
   "execution_count": null,
   "metadata": {},
   "outputs": [],
   "source": []
  },
  {
   "cell_type": "code",
   "execution_count": null,
   "metadata": {},
   "outputs": [],
   "source": []
  },
  {
   "cell_type": "code",
   "execution_count": null,
   "metadata": {},
   "outputs": [],
   "source": []
  },
  {
   "cell_type": "code",
   "execution_count": null,
   "metadata": {},
   "outputs": [],
   "source": []
  },
  {
   "cell_type": "code",
   "execution_count": null,
   "metadata": {},
   "outputs": [],
   "source": []
  }
 ],
 "metadata": {
  "kernelspec": {
   "display_name": "Python 3",
   "language": "python",
   "name": "python3"
  },
  "language_info": {
   "codemirror_mode": {
    "name": "ipython",
    "version": 3
   },
   "file_extension": ".py",
   "mimetype": "text/x-python",
   "name": "python",
   "nbconvert_exporter": "python",
   "pygments_lexer": "ipython3",
   "version": "3.6.5"
  }
 },
 "nbformat": 4,
 "nbformat_minor": 2
}
