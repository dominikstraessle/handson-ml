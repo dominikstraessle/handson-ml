{
 "cells": [
  {
   "cell_type": "markdown",
   "metadata": {},
   "source": [
    "# Support Vector Machines\n",
    "\n",
    "SVM sind ein flexibles und mächtiges ML-Modell. Man kann mit ihnen sowohl lineare als auch nicht-lineare Klassifikationsaufgaben, Regression und die Erkennung von Ausfreissern bewältigen.  \n",
    "## Large Margin Klassifikation\n",
    "Probiert eine möglichst breite Strasse zwischen die Kategorien zu bauen um diese zu separieren.\n",
    "Diese Strasse wird durch die Punkte am Rande der Strasse gestützt/determiniert. Diese Punkte heissen support vectors (Stützvektoren).  \n",
    "\n",
    "**Skalierung:**  \n",
    "SVMs sind sehr empfindlich auf Skalierungen. Mit Skalierten Merkmalen können sie viel präzisere Vorhersagen treffen.\n",
    "\n",
    "### Hard Margin Klassifikation\n",
    "Hard Margin probiert eine möglichst breite Strasse zwischen den Kategorien zu erstellen.  \n",
    "Die Hard Margin Klassifikation hat zwei Nachteile:\n",
    "* Funktioniert nur, wenn die Daten linear separierbar sind\n",
    "* Anfällig für Ausreisser (Margin-Verletzungen, dies sind Punkte, welche auf der Strasse liegen)\n",
    "\n",
    "### Soft Margin Klassifikation\n",
    "Findet im gegensatz zur Hard-Margin-Klassifikation eine gute Balance zwischen der Strassenbreite und der Anzahl von Margin-Verletzungen.  \n",
    "\n",
    "**Hyperparameter C:**  \n",
    "Dieser Hyperparameter steuert die Balance zwischen Strassenbreite und Margin-Verletzungen.\n",
    "* kleiner Wert für C:\n",
    "    * breite Strasse\n",
    "    * mehr Margin-Verletzungen\n",
    "* grosser Wert für C:\n",
    "    * schmale Strasse\n",
    "    * weniger Margin-Verletzungen\n",
    "\n",
    "**Overfitting:**  \n",
    "Wenn SVM overfittet, kann man es durch Senken von **C** regularisieren."
   ]
  },
  {
   "cell_type": "code",
   "execution_count": 1,
   "metadata": {},
   "outputs": [],
   "source": [
    "import numpy as np\n",
    "from sklearn.datasets import load_iris\n",
    "from sklearn.pipeline import Pipeline\n",
    "from sklearn.preprocessing import StandardScaler\n",
    "from sklearn.svm import LinearSVC"
   ]
  },
  {
   "cell_type": "code",
   "execution_count": 3,
   "metadata": {},
   "outputs": [],
   "source": [
    "iris = load_iris()\n",
    "X = iris['data'][:, (2,3)]\n",
    "y = (iris['target'] == 2).astype(np.float64)"
   ]
  },
  {
   "cell_type": "code",
   "execution_count": 4,
   "metadata": {},
   "outputs": [],
   "source": [
    "svm_clf = Pipeline([\n",
    "    ('scaler', StandardScaler()),\n",
    "    ('linear_svc', LinearSVC(C=1, loss='hinge'))\n",
    "])"
   ]
  },
  {
   "cell_type": "code",
   "execution_count": 5,
   "metadata": {},
   "outputs": [
    {
     "data": {
      "text/plain": [
       "Pipeline(memory=None,\n",
       "     steps=[('scaler', StandardScaler(copy=True, with_mean=True, with_std=True)), ('linear_svc', LinearSVC(C=1, class_weight=None, dual=True, fit_intercept=True,\n",
       "     intercept_scaling=1, loss='hinge', max_iter=1000, multi_class='ovr',\n",
       "     penalty='l2', random_state=None, tol=0.0001, verbose=0))])"
      ]
     },
     "execution_count": 5,
     "metadata": {},
     "output_type": "execute_result"
    }
   ],
   "source": [
    "svm_clf.fit(X, y)"
   ]
  },
  {
   "cell_type": "code",
   "execution_count": 8,
   "metadata": {},
   "outputs": [
    {
     "data": {
      "text/plain": [
       "array([1.])"
      ]
     },
     "execution_count": 8,
     "metadata": {},
     "output_type": "execute_result"
    }
   ],
   "source": [
    "svm_clf.predict([[5.5, 1.7]])"
   ]
  },
  {
   "cell_type": "code",
   "execution_count": null,
   "metadata": {},
   "outputs": [],
   "source": []
  }
 ],
 "metadata": {
  "kernelspec": {
   "display_name": "Python 3",
   "language": "python",
   "name": "python3"
  },
  "language_info": {
   "codemirror_mode": {
    "name": "ipython",
    "version": 3
   },
   "file_extension": ".py",
   "mimetype": "text/x-python",
   "name": "python",
   "nbconvert_exporter": "python",
   "pygments_lexer": "ipython3",
   "version": "3.6.5"
  }
 },
 "nbformat": 4,
 "nbformat_minor": 2
}
