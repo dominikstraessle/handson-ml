{
 "cells": [
  {
   "cell_type": "markdown",
   "metadata": {},
   "source": [
    "# Support Vector Machines\n",
    "\n",
    "SVM sind ein flexibles und mächtiges ML-Modell. Man kann mit ihnen sowohl lineare als auch nicht-lineare Klassifikationsaufgaben, Regression und die Erkennung von Ausfreissern bewältigen.  \n",
    "## Large Margin Klassifikation\n",
    "Probiert eine möglichst breite Strasse zwischen die Kategorien zu bauen um diese zu separieren.\n",
    "Diese Strasse wird durch die Punkte am Rande der Strasse gestützt/determiniert. Diese Punkte heissen support vectors (Stützvektoren).  \n",
    "\n",
    "**Skalierung:**  \n",
    "SVMs sind sehr empfindlich auf Skalierungen. Mit Skalierten Merkmalen können sie viel präzisere Vorhersagen treffen.\n",
    "\n",
    "### Hard Margin Klassifikation\n",
    "Hard Margin probiert eine möglichst breite Strasse zwischen den Kategorien zu erstellen.  \n",
    "Die Hard Margin Klassifikation hat zwei Nachteile:\n",
    "* Funktioniert nur, wenn die Daten linear separierbar sind\n",
    "* Anfällig für Ausreisser (Margin-Verletzungen, dies sind Punkte, welche auf der Strasse liegen)\n",
    "\n",
    "### Soft Margin Klassifikation\n",
    "Findet im gegensatz zur Hard-Margin-Klassifikation eine gute Balance zwischen der Strassenbreite und der Anzahl von Margin-Verletzungen.  \n",
    "\n",
    "**Hyperparameter C:**  \n",
    "Dieser Hyperparameter steuert die Balance zwischen Strassenbreite und Margin-Verletzungen.\n",
    "* kleiner Wert für C:\n",
    "    * breite Strasse\n",
    "    * mehr Margin-Verletzungen\n",
    "* grosser Wert für C:\n",
    "    * schmale Strasse\n",
    "    * weniger Margin-Verletzungen\n",
    "\n",
    "**Overfitting:**  \n",
    "Wenn SVM overfittet, kann man es durch Senken von **C** regularisieren."
   ]
  },
  {
   "cell_type": "code",
   "execution_count": 1,
   "metadata": {},
   "outputs": [],
   "source": [
    "import numpy as np\n",
    "from sklearn.datasets import load_iris\n",
    "from sklearn.pipeline import Pipeline\n",
    "from sklearn.preprocessing import StandardScaler\n",
    "from sklearn.svm import LinearSVC, SVC\n",
    "from sklearn.linear_model import SGDClassifier"
   ]
  },
  {
   "cell_type": "code",
   "execution_count": 2,
   "metadata": {},
   "outputs": [],
   "source": [
    "iris = load_iris()\n",
    "X = iris['data'][:, (2, 3)]\n",
    "y = (iris['target'] == 2).astype(np.float64)"
   ]
  },
  {
   "cell_type": "markdown",
   "metadata": {},
   "source": [
    "## Mit LinearSVC und C=1\n",
    "Regularisiert den Bias-Term (Achsenabschnitt). Daher sollten die Trainingsdaten zuvor durch Subtrahieren des Mittelwertes zentriert werden. Der StandardScaler macht dies automatisch."
   ]
  },
  {
   "cell_type": "code",
   "execution_count": 3,
   "metadata": {},
   "outputs": [],
   "source": [
    "svm_clf = Pipeline([\n",
    "    ('scaler', StandardScaler()),\n",
    "    ('linear_svc', LinearSVC(C=1, loss='hinge'))\n",
    "])"
   ]
  },
  {
   "cell_type": "code",
   "execution_count": 4,
   "metadata": {},
   "outputs": [
    {
     "data": {
      "text/plain": [
       "Pipeline(memory=None,\n",
       "     steps=[('scaler', StandardScaler(copy=True, with_mean=True, with_std=True)), ('linear_svc', LinearSVC(C=1, class_weight=None, dual=True, fit_intercept=True,\n",
       "     intercept_scaling=1, loss='hinge', max_iter=1000, multi_class='ovr',\n",
       "     penalty='l2', random_state=None, tol=0.0001, verbose=0))])"
      ]
     },
     "execution_count": 4,
     "metadata": {},
     "output_type": "execute_result"
    }
   ],
   "source": [
    "svm_clf.fit(X, y)"
   ]
  },
  {
   "cell_type": "code",
   "execution_count": 5,
   "metadata": {},
   "outputs": [
    {
     "data": {
      "text/plain": [
       "array([1.])"
      ]
     },
     "execution_count": 5,
     "metadata": {},
     "output_type": "execute_result"
    }
   ],
   "source": [
    "svm_clf.predict([[5.5, 1.7]])"
   ]
  },
  {
   "cell_type": "markdown",
   "metadata": {},
   "source": [
    "## Mit SVC und kernel='linear', C=1\n",
    "Ist langsamer, vorallem bei grossen Datensätzen"
   ]
  },
  {
   "cell_type": "code",
   "execution_count": 6,
   "metadata": {},
   "outputs": [],
   "source": [
    "svm_clf = Pipeline([\n",
    "    ('scaler', StandardScaler()),\n",
    "    ('svc', SVC(kernel='linear', C=1))\n",
    "])"
   ]
  },
  {
   "cell_type": "code",
   "execution_count": 7,
   "metadata": {},
   "outputs": [
    {
     "data": {
      "text/plain": [
       "Pipeline(memory=None,\n",
       "     steps=[('scaler', StandardScaler(copy=True, with_mean=True, with_std=True)), ('svc', SVC(C=1, cache_size=200, class_weight=None, coef0=0.0,\n",
       "  decision_function_shape='ovr', degree=3, gamma='auto_deprecated',\n",
       "  kernel='linear', max_iter=-1, probability=False, random_state=None,\n",
       "  shrinking=True, tol=0.001, verbose=False))])"
      ]
     },
     "execution_count": 7,
     "metadata": {},
     "output_type": "execute_result"
    }
   ],
   "source": [
    "svm_clf.fit(X, y)"
   ]
  },
  {
   "cell_type": "code",
   "execution_count": 8,
   "metadata": {},
   "outputs": [
    {
     "data": {
      "text/plain": [
       "array([1.])"
      ]
     },
     "execution_count": 8,
     "metadata": {},
     "output_type": "execute_result"
    }
   ],
   "source": [
    "svm_clf.predict([[5.5, 1.7]])"
   ]
  },
  {
   "cell_type": "markdown",
   "metadata": {},
   "source": [
    "## Mit SGDClassifier und loss='hinge', alpha=1/(m*C)\n",
    "* Verwendet das stochastische Gradientenverfahren\n",
    "* Konvergiert nicht so schnell\n",
    "* Geeignet bei grossen Datenmengen, Out-of-Core-Training und Online-Klassifikation"
   ]
  },
  {
   "cell_type": "code",
   "execution_count": 9,
   "metadata": {},
   "outputs": [],
   "source": [
    "svm_clf = Pipeline([\n",
    "    ('scaler', StandardScaler()),\n",
    "    ('sgd_classifier', SGDClassifier(loss='hinge', alpha=1/(len(X))))\n",
    "])"
   ]
  },
  {
   "cell_type": "code",
   "execution_count": 10,
   "metadata": {},
   "outputs": [
    {
     "name": "stderr",
     "output_type": "stream",
     "text": [
      "/home/devel/.local/lib/python3.6/site-packages/sklearn/linear_model/stochastic_gradient.py:166: FutureWarning: max_iter and tol parameters have been added in SGDClassifier in 0.19. If both are left unset, they default to max_iter=5 and tol=None. If tol is not None, max_iter defaults to max_iter=1000. From 0.21, default max_iter will be 1000, and default tol will be 1e-3.\n",
      "  FutureWarning)\n"
     ]
    },
    {
     "data": {
      "text/plain": [
       "Pipeline(memory=None,\n",
       "     steps=[('scaler', StandardScaler(copy=True, with_mean=True, with_std=True)), ('sgd_classifier', SGDClassifier(alpha=0.006666666666666667, average=False, class_weight=None,\n",
       "       early_stopping=False, epsilon=0.1, eta0=0.0, fit_intercept=True,\n",
       "       l1_ratio=0.15, learning_rate='optimal', loss='hin...m_state=None, shuffle=True, tol=None,\n",
       "       validation_fraction=0.1, verbose=0, warm_start=False))])"
      ]
     },
     "execution_count": 10,
     "metadata": {},
     "output_type": "execute_result"
    }
   ],
   "source": [
    "svm_clf.fit(X, y)"
   ]
  },
  {
   "cell_type": "code",
   "execution_count": 11,
   "metadata": {},
   "outputs": [
    {
     "data": {
      "text/plain": [
       "array([1.])"
      ]
     },
     "execution_count": 11,
     "metadata": {},
     "output_type": "execute_result"
    }
   ],
   "source": [
    "svm_clf.predict([[5.5, 1.7]])"
   ]
  },
  {
   "cell_type": "markdown",
   "metadata": {},
   "source": [
    "# Nichtlineare SVM-Klassifikation\n",
    "Wenn die Daten nicht linear separierbar sind, kann man sie womöglich durch das Hinzufügen zusätzlicher Merkmale (polynomielle Merkmale) linear separierbar machen."
   ]
  },
  {
   "cell_type": "code",
   "execution_count": 12,
   "metadata": {},
   "outputs": [],
   "source": [
    "from sklearn.datasets import make_moons\n",
    "from sklearn.preprocessing import PolynomialFeatures"
   ]
  },
  {
   "cell_type": "code",
   "execution_count": 13,
   "metadata": {},
   "outputs": [],
   "source": [
    "X, y = make_moons()"
   ]
  },
  {
   "cell_type": "code",
   "execution_count": 14,
   "metadata": {},
   "outputs": [
    {
     "data": {
      "text/plain": [
       "((100, 2), (100,))"
      ]
     },
     "execution_count": 14,
     "metadata": {},
     "output_type": "execute_result"
    }
   ],
   "source": [
    "X.shape, y.shape"
   ]
  },
  {
   "cell_type": "code",
   "execution_count": 15,
   "metadata": {},
   "outputs": [
    {
     "data": {
      "text/plain": [
       "(array([0.1595999 , 0.98718178]), 0)"
      ]
     },
     "execution_count": 15,
     "metadata": {},
     "output_type": "execute_result"
    }
   ],
   "source": [
    "X[48], y[48]"
   ]
  },
  {
   "cell_type": "code",
   "execution_count": 16,
   "metadata": {},
   "outputs": [],
   "source": [
    "polynomial_svm = Pipeline([\n",
    "    ('poly_features', PolynomialFeatures(degree=3)),\n",
    "    ('scaler', StandardScaler()),\n",
    "    ('svm_clf', LinearSVC(C=10, loss='hinge'))\n",
    "])"
   ]
  },
  {
   "cell_type": "code",
   "execution_count": 17,
   "metadata": {},
   "outputs": [
    {
     "name": "stderr",
     "output_type": "stream",
     "text": [
      "/home/devel/.local/lib/python3.6/site-packages/sklearn/svm/base.py:931: ConvergenceWarning: Liblinear failed to converge, increase the number of iterations.\n",
      "  \"the number of iterations.\", ConvergenceWarning)\n"
     ]
    },
    {
     "data": {
      "text/plain": [
       "Pipeline(memory=None,\n",
       "     steps=[('poly_features', PolynomialFeatures(degree=3, include_bias=True, interaction_only=False)), ('scaler', StandardScaler(copy=True, with_mean=True, with_std=True)), ('svm_clf', LinearSVC(C=10, class_weight=None, dual=True, fit_intercept=True,\n",
       "     intercept_scaling=1, loss='hinge', max_iter=1000, multi_class='ovr',\n",
       "     penalty='l2', random_state=None, tol=0.0001, verbose=0))])"
      ]
     },
     "execution_count": 17,
     "metadata": {},
     "output_type": "execute_result"
    }
   ],
   "source": [
    "polynomial_svm.fit(X, y)"
   ]
  },
  {
   "cell_type": "code",
   "execution_count": 18,
   "metadata": {},
   "outputs": [],
   "source": [
    "import matplotlib.pyplot as plt\n",
    "%matplotlib inline"
   ]
  },
  {
   "cell_type": "code",
   "execution_count": 19,
   "metadata": {},
   "outputs": [
    {
     "data": {
      "text/plain": [
       "<matplotlib.collections.PathCollection at 0x7f1a42b7f438>"
      ]
     },
     "execution_count": 19,
     "metadata": {},
     "output_type": "execute_result"
    },
    {
     "data": {
      "image/png": "[encoded data removed]",
      "text/plain": [
       "<Figure size 432x288 with 1 Axes>"
      ]
     },
     "metadata": {},
     "output_type": "display_data"
    }
   ],
   "source": [
    "plt.scatter(X[:,0], X[:,1], c=y)"
   ]
  },
  {
   "cell_type": "code",
   "execution_count": 20,
   "metadata": {},
   "outputs": [],
   "source": [
    "X_poly = PolynomialFeatures(degree=3).fit_transform(X)"
   ]
  },
  {
   "cell_type": "code",
   "execution_count": 21,
   "metadata": {},
   "outputs": [
    {
     "data": {
      "text/plain": [
       "<matplotlib.collections.PathCollection at 0x7f1a42b16fd0>"
      ]
     },
     "execution_count": 21,
     "metadata": {},
     "output_type": "execute_result"
    },
    {
     "data": {
      "image/png": "[encoded data removed]",
      "text/plain": [
       "<Figure size 432x288 with 1 Axes>"
      ]
     },
     "metadata": {},
     "output_type": "display_data"
    }
   ],
   "source": [
    "plt.scatter(X_poly[:, 4], X_poly[:, 5], c=y)"
   ]
  },
  {
   "cell_type": "markdown",
   "metadata": {},
   "source": [
    "## Polynomieller Kernel\n",
    "Polynome niedrigen Grades funktionieren nicht gut mit komplexen Daten aber höhergradige Polynome erzugen eine unmenge an Merkmalen, welche das Modell verlangsamen.\n",
    "\n",
    "### Kernel-Trick\n",
    "Mithilfe dieses Tricks kann dasselbe Ergebniss wie beim Hinzufügen polynomieller Merkmale erreicht werden, ohne diese explizit hinzuzufügen. Dadurch bleibt man von der explosionsartigen Steigerung der Anzahl Merkmale verschont.\n",
    "\n",
    "**Overfitting:**  \n",
    "Der polynomielle Grad muss gesenkt werden.  \n",
    "\n",
    "**Underfitting:**  \n",
    "Der polynomielle Grad muss erhöht werden.\n",
    "\n",
    "**coef0:**  \n",
    "Dieser Hyperparameter steuert, wie stark das Modell von den höhergradigen gegenüber den niedriggradigen Polynomialtermen beeinflusst wird."
   ]
  },
  {
   "cell_type": "code",
   "execution_count": 22,
   "metadata": {},
   "outputs": [],
   "source": [
    "poly_kernel_svm = Pipeline([\n",
    "    ('scaler', StandardScaler()),\n",
    "    ('svm_clf', SVC(kernel='poly', degree=3, coef0=1, C=5))\n",
    "])"
   ]
  },
  {
   "cell_type": "code",
   "execution_count": 23,
   "metadata": {},
   "outputs": [
    {
     "data": {
      "text/plain": [
       "Pipeline(memory=None,\n",
       "     steps=[('scaler', StandardScaler(copy=True, with_mean=True, with_std=True)), ('svm_clf', SVC(C=5, cache_size=200, class_weight=None, coef0=1,\n",
       "  decision_function_shape='ovr', degree=3, gamma='auto_deprecated',\n",
       "  kernel='poly', max_iter=-1, probability=False, random_state=None,\n",
       "  shrinking=True, tol=0.001, verbose=False))])"
      ]
     },
     "execution_count": 23,
     "metadata": {},
     "output_type": "execute_result"
    }
   ],
   "source": [
    "poly_kernel_svm.fit(X, y)"
   ]
  },
  {
   "cell_type": "markdown",
   "metadata": {},
   "source": [
    "# Ähnlichkeitsbasierte Merkmale\n",
    "Dies ist eine weitere Methode um neuen Merkmale zu berechnen. Es funktioniert mit einer Ähnlichkeitsfunktion.  \n",
    "\n",
    "**Gausssche radiale Basisfunktion:**  \n",
    "$\\phi y(x, l) = exp -(y \\| x-l\\|^2)$\n",
    "\n",
    "Landmarke 1: $x_1 = -2$  \n",
    "Landmarke 2: $x_2 = 1$  \n",
    "$y=0.3$  \n",
    "Datenpunkt: $x_1 = -1$  \n",
    "Dies ist eine glockenförmige Funktion die zwischen 0 (sehr weit von der Landmarke) und 1 (genau bei der Landmarke) liegt.\n",
    "\n",
    "$x_2 = exp - (0.3 * 1^2) \\approx 0.74$  \n",
    "$x_3 = exp - (0.3 * 2^2) \\approx 0.30$\n",
    "\n",
    "**Wie werden die Landmarken ausgesucht?**  \n",
    "Am einfachsten ist es, wenn man für jeden Datenpunkt eine Landmarke erzeugt. Dadurch wird aber aus einem Datensatz (m, n) ein Datensatz (m, m), wenn man die alten Merkmale weglässt."
   ]
  },
  {
   "cell_type": "markdown",
   "metadata": {},
   "source": [
    "# Gausssche RBF-Kernel\n",
    "Dieser Kernel ermöglicht es, ein zu vielen ähnlichen Merkmalen äquivalentes Ergebnis zu erhalten, ohne diese tatsächlich hinzuzufügen. Dies wird durch den Kernel-Trick möglich.\n",
    "\n",
    "**gamma ($\\gamma$):**  \n",
    "$\\gamma$ verhält sich ein wenig wie ein Regularisierungsparameter.\n",
    "* grosser Wert\n",
    "    * Macht die glockenförmige Kurve schmaler\n",
    "    * Verringert den Einfluss der einzelnen Datenpunkte\n",
    "    * Macht die Entscheidungsgrenze unregelmässig\n",
    "* tiefer Wert\n",
    "    * Macht die glockenförmige Kurve breiter\n",
    "    * Erhöt den Einflussbereich der einzelnen Datenpunkte\n",
    "    * Macht die Entscheidungsgrenze weicher\n",
    "    \n",
    "**Overfitting:**  \n",
    "Bei Overfitting muss man $\\gamma$ verringern.\n",
    "\n",
    "**Underfitting:**  \n",
    "Bei Underfitting muss man $\\gamma$ erhöhen.\n",
    "\n",
    "### Spezialisierte Kernel\n",
    "Es gibt noch spezialisiert Kernel, welche bei Datensätzen mit bestimmten Datenstrukturen zum Einsatz kommen.\n",
    "\n",
    "**String-Kernels:**  \n",
    "Diese Kernel sollte man verwenden, wenn man Texte oder DNA-Sequenzen klassifizieren möchte.\n",
    "\n",
    "* string-subsequence-Kernel\n",
    "* Levenshtein-Distanz Kernel\n",
    "\n",
    "### Welchen Kernel soll ich verwenden?\n",
    "Faustregel:\n",
    "1. Linearen Kernel ausprobieren\n",
    "    * LinearSVC ist schneller als SVC mit `kernel='linear'`\n",
    "2. Ist der Datensatz nicht zu gross SGDClassifier ausprobieren\n",
    "3. Gausschen RBF-Kernel ausprobieren\n",
    "\n",
    "Wenn verfügbar, dann einen spezialisierten Kernel verwenden."
   ]
  },
  {
   "cell_type": "code",
   "execution_count": 24,
   "metadata": {},
   "outputs": [],
   "source": [
    "rbf_kernel_svm_clf = Pipeline([\n",
    "    ('scaler', StandardScaler()),\n",
    "    ('svm_clf', SVC(kernel='rbf', gamma=5, C=0.001))\n",
    "])"
   ]
  },
  {
   "cell_type": "code",
   "execution_count": 25,
   "metadata": {},
   "outputs": [
    {
     "data": {
      "text/plain": [
       "Pipeline(memory=None,\n",
       "     steps=[('scaler', StandardScaler(copy=True, with_mean=True, with_std=True)), ('svm_clf', SVC(C=0.001, cache_size=200, class_weight=None, coef0=0.0,\n",
       "  decision_function_shape='ovr', degree=3, gamma=5, kernel='rbf',\n",
       "  max_iter=-1, probability=False, random_state=None, shrinking=True,\n",
       "  tol=0.001, verbose=False))])"
      ]
     },
     "execution_count": 25,
     "metadata": {},
     "output_type": "execute_result"
    }
   ],
   "source": [
    "rbf_kernel_svm_clf.fit(X, y)"
   ]
  },
  {
   "cell_type": "code",
   "execution_count": 35,
   "metadata": {},
   "outputs": [],
   "source": [
    "clf = rbf_kernel_svm_clf.named_steps['svm_clf']"
   ]
  },
  {
   "cell_type": "code",
   "execution_count": 39,
   "metadata": {},
   "outputs": [
    {
     "data": {
      "text/plain": [
       "array([[-0.109221  ,  1.35435668]])"
      ]
     },
     "execution_count": 39,
     "metadata": {},
     "output_type": "execute_result"
    }
   ],
   "source": [
    "clf.support_vectors_[:1]"
   ]
  },
  {
   "cell_type": "markdown",
   "metadata": {},
   "source": [
    "# Vor- und Nachteile\n",
    "|Klasse|zeitl. Komplexität|Out-of-Core|Skalierung nötig|Kernel-Trick|\n",
    "|-|-|-|-|-|\n",
    "|LinearSVC|$O(m\\times n)$|Nein|Ja|Nein|\n",
    "|SGDClassifier|$O(m\\times n)$|Ja|Ja|Nein|\n",
    "|SVC|$O(m^2\\times n)$ bis $O(m^3\\times n)$|Nein|Ja|Ja|"
   ]
  },
  {
   "cell_type": "markdown",
   "metadata": {},
   "source": [
    "# SVM-Regression\n",
    "Bei der Regression wird genau das Gegenteil von dem Versucht was bei der SVM-Klassifikation gemacht wird.  \n",
    "Es wird versucht, möglichst viele Datenpunkte auf der Strasse zu platzieren und Grenzverletzungen (Punkte neben der Strasse) werden minimiert. Hier wird die Strasse aber auch mit den Labels erstellt und nicht nur mit den Merkmalen wie bei der Klassifikation.\n",
    "\n",
    "**epsilon ($\\epsilon$):**  \n",
    "Dieser Hyperparameter legt das Margin fest. Dies bestimmt die breite der Strasse.\n",
    "* hohes Margin\n",
    "    * breite Strasse\n",
    "* tiefes Margin\n",
    "    * schmale Strasse\n",
    "    \n",
    "Werden weitere Trainingsdatenpunkte innerhalb der Strasse (des Margins) hinzugefügt, so wird die Vorhersage der Modells **nicht** beeinflusst. Es ist **$\\epsilon$-insensitiv**.\n",
    "\n",
    "**Skalierung und Zentrieren:**  \n",
    "Auch bei der SVM-Regression sollten die Daten sklaliert und zentriert werden.\n",
    "\n",
    "Die Klassen für SVM-Regression heissen alle fast gleich (R statt C) und teilen die gleichen Eigenschaften."
   ]
  },
  {
   "cell_type": "code",
   "execution_count": 26,
   "metadata": {},
   "outputs": [],
   "source": [
    "from sklearn.svm import LinearSVR\n",
    "from sklearn.datasets import make_regression"
   ]
  },
  {
   "cell_type": "code",
   "execution_count": 27,
   "metadata": {},
   "outputs": [],
   "source": [
    "X, y = make_regression()"
   ]
  },
  {
   "cell_type": "code",
   "execution_count": 28,
   "metadata": {},
   "outputs": [
    {
     "data": {
      "text/plain": [
       "Pipeline(memory=None,\n",
       "     steps=[('scaler', StandardScaler(copy=True, with_mean=True, with_std=True)), ('svr', LinearSVR(C=1.0, dual=True, epsilon=1.5, fit_intercept=True,\n",
       "     intercept_scaling=1.0, loss='epsilon_insensitive', max_iter=1000,\n",
       "     random_state=None, tol=0.0001, verbose=0))])"
      ]
     },
     "execution_count": 28,
     "metadata": {},
     "output_type": "execute_result"
    }
   ],
   "source": [
    "svm_reg = Pipeline([\n",
    "    ('scaler', StandardScaler()),\n",
    "    ('svr', LinearSVR(epsilon=1.5))\n",
    "])\n",
    "svm_reg.fit(X, y)"
   ]
  },
  {
   "cell_type": "code",
   "execution_count": 29,
   "metadata": {},
   "outputs": [
    {
     "data": {
      "text/plain": [
       "array([-145.99271876,   52.21249654])"
      ]
     },
     "execution_count": 29,
     "metadata": {},
     "output_type": "execute_result"
    }
   ],
   "source": [
    "svm_reg.predict(X[:2])"
   ]
  },
  {
   "cell_type": "code",
   "execution_count": 30,
   "metadata": {},
   "outputs": [
    {
     "data": {
      "text/plain": [
       "array([-250.27699382,  -15.45499503])"
      ]
     },
     "execution_count": 30,
     "metadata": {},
     "output_type": "execute_result"
    }
   ],
   "source": [
    "y[:2]"
   ]
  },
  {
   "cell_type": "code",
   "execution_count": 31,
   "metadata": {},
   "outputs": [],
   "source": [
    "from sklearn.svm import SVR"
   ]
  },
  {
   "cell_type": "code",
   "execution_count": 32,
   "metadata": {},
   "outputs": [
    {
     "data": {
      "text/plain": [
       "Pipeline(memory=None,\n",
       "     steps=[('scaler', StandardScaler(copy=True, with_mean=True, with_std=True)), ('svr', SVR(C=100, cache_size=200, coef0=0.0, degree=2, epsilon=0.1,\n",
       "  gamma='auto_deprecated', kernel='poly', max_iter=-1, shrinking=True,\n",
       "  tol=0.001, verbose=False))])"
      ]
     },
     "execution_count": 32,
     "metadata": {},
     "output_type": "execute_result"
    }
   ],
   "source": [
    "svm_poly_reg = Pipeline([\n",
    "    ('scaler', StandardScaler()),\n",
    "    ('svr', SVR(kernel='poly', degree=2, C=100, epsilon=0.1))\n",
    "])\n",
    "svm_poly_reg.fit(X, y)"
   ]
  },
  {
   "cell_type": "code",
   "execution_count": 33,
   "metadata": {},
   "outputs": [
    {
     "data": {
      "text/plain": [
       "array([-126.32136928,  -15.55498722])"
      ]
     },
     "execution_count": 33,
     "metadata": {},
     "output_type": "execute_result"
    }
   ],
   "source": [
    "svm_poly_reg.predict(X[:2])"
   ]
  },
  {
   "cell_type": "markdown",
   "metadata": {},
   "source": [
    "# Übersprungen: Hinter den Kulissen (S.156-S.164)"
   ]
  },
  {
   "cell_type": "markdown",
   "metadata": {},
   "source": [
    "# Aufgaben"
   ]
  },
  {
   "cell_type": "markdown",
   "metadata": {},
   "source": [
    "**Was ist die Support Vector Machines zugrunde liegende Idee?**  \n",
    "Es wird versucht eine möglichst breite Strasse zwischen die Kategorien zu bauen um diese zu separieren."
   ]
  },
  {
   "cell_type": "markdown",
   "metadata": {},
   "source": [
    "**Was ist ein Stützvektor?**  \n",
    "Ein Stützvektor besteht aus allen Punkten, welche am Rande der separierenden Strasse liegen."
   ]
  },
  {
   "cell_type": "markdown",
   "metadata": {},
   "source": [
    "**Warum ist es wichtig, beim Verwenden von SVMs die Eingabedaten zu skalieren?**  \n",
    "Ohne eine Skalierung ist die Entscheidungsgrenze schlechter (es kann keine breite Strasse gebaut werden). Die Skalierung zb. mit dem StandardScaler verbessert daher das Ergebnis."
   ]
  },
  {
   "cell_type": "markdown",
   "metadata": {},
   "source": [
    "**Kann ein SVM-Klassifikator einen Konfidenzwert ausgeben, wenn er einen Datenpunkt klassifiziert? Wie sieht es mit einer Wahrscheinlichkeit aus?**  \n",
    "* Konfidenzwert:\n",
    "    * Anteil einer Menge\n",
    "* Wahrscheinlichkeit:\n",
    "    * Ja es können Wahrscheinlichkeiten berechnet werden. Mit sklearn muss man den Parameter `probability=True` angeben."
   ]
  },
  {
   "cell_type": "markdown",
   "metadata": {},
   "source": [
    "**Sollten Sie die primale oder die duale From des SVM-Problems verwenden, um einModell mit Millionen Datenpunkten und Hunderten Merkmale zu trainieren?**  \n",
    "?"
   ]
  },
  {
   "cell_type": "markdown",
   "metadata": {},
   "source": [
    "**Nehmen wir an, Sie hätten einen SVM-Klassifikator mit RBF-Kernel trainiert. Es seiht so aus, als würde Underfitting der Trainingsdaten vorliegen: Sollten Sie $\\gamma$ (gamma) erhöhen oder senken? Wie sieht es mit C aus?**  \n",
    "* $\\gamma$\n",
    "    * Gamma muss erhöht werden um die Regularisierung zu senken damit das Modell besser aus den Daten lernen kann.\n",
    "* C\n",
    "    * Bei Underfitting muss C erhöht werden. Es macht die Strassen schmaler und verringert die Margin-Fehler."
   ]
  },
  {
   "cell_type": "markdown",
   "metadata": {},
   "source": [
    "**Wie sollten Sie die QP-Parameter(H, f, A und b) setzen, um ein lineares SVM-Klassifikationsproblem mit Soft-Margin mit einem herkömmlichen QP-Solver zu lösen?**  \n",
    "?"
   ]
  },
  {
   "cell_type": "markdown",
   "metadata": {},
   "source": [
    "**Trainieren Sie einen LinearSVC auf linear separierbaren Daten. Trainieren Sie anschliessend einen SVC und einen SGDClassifier auf dem gleichen Datensatz. Schauen Sie, ob Sie beide dazu bringen können, ein in etwa gleiches Modell zu berechnen.**  \n",
    "TODO"
   ]
  },
  {
   "cell_type": "markdown",
   "metadata": {},
   "source": [
    "**Trainieren Sie einen SVM-Klassifikator auf dem MNIST-Datensatz. Da SVM-Klassifikatoren binäre Klassifikatoren sind, müssen Sie die One-versus-All-Strategie einsetzen, um alle zehn Ziffern zu klassifizieren. Sie müssen eventuell zur Optimierung der hyperparameter kleinere Datensätze zur Validierung verwenden, m den Vorgang zu beschleunigen. Was für eine Genauigkeit erreichen Sie?**  \n",
    "TODO"
   ]
  },
  {
   "cell_type": "markdown",
   "metadata": {},
   "source": [
    "**Trainieren Sie einen SVM-Klassifikator auf dem Datensatz zu Immobilienpreisen in Kalifornien.**  \n",
    "TODO"
   ]
  },
  {
   "cell_type": "code",
   "execution_count": null,
   "metadata": {},
   "outputs": [],
   "source": []
  },
  {
   "cell_type": "code",
   "execution_count": null,
   "metadata": {},
   "outputs": [],
   "source": []
  },
  {
   "cell_type": "code",
   "execution_count": null,
   "metadata": {},
   "outputs": [],
   "source": []
  },
  {
   "cell_type": "code",
   "execution_count": null,
   "metadata": {},
   "outputs": [],
   "source": []
  },
  {
   "cell_type": "code",
   "execution_count": null,
   "metadata": {},
   "outputs": [],
   "source": []
  },
  {
   "cell_type": "code",
   "execution_count": null,
   "metadata": {},
   "outputs": [],
   "source": []
  },
  {
   "cell_type": "code",
   "execution_count": null,
   "metadata": {},
   "outputs": [],
   "source": []
  },
  {
   "cell_type": "code",
   "execution_count": null,
   "metadata": {},
   "outputs": [],
   "source": []
  },
  {
   "cell_type": "code",
   "execution_count": null,
   "metadata": {},
   "outputs": [],
   "source": []
  },
  {
   "cell_type": "code",
   "execution_count": null,
   "metadata": {},
   "outputs": [],
   "source": []
  },
  {
   "cell_type": "code",
   "execution_count": null,
   "metadata": {},
   "outputs": [],
   "source": []
  }
 ],
 "metadata": {
  "kernelspec": {
   "display_name": "Python 3",
   "language": "python",
   "name": "python3"
  },
  "language_info": {
   "codemirror_mode": {
    "name": "ipython",
    "version": 3
   },
   "file_extension": ".py",
   "mimetype": "text/x-python",
   "name": "python",
   "nbconvert_exporter": "python",
   "pygments_lexer": "ipython3",
   "version": "3.6.5"
  },
  "toc": {
   "base_numbering": 1,
   "nav_menu": {},
   "number_sections": true,
   "sideBar": true,
   "skip_h1_title": false,
   "title_cell": "Table of Contents",
   "title_sidebar": "Contents",
   "toc_cell": false,
   "toc_position": {
    "height": "calc(100% - 180px)",
    "left": "10px",
    "top": "150px",
    "width": "372px"
   },
   "toc_section_display": true,
   "toc_window_display": true
  }
 },
 "nbformat": 4,
 "nbformat_minor": 2
}
