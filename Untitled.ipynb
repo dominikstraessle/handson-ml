{
 "cells": [
  {
   "cell_type": "code",
   "execution_count": 1,
   "metadata": {},
   "outputs": [],
   "source": [
    "import numpy as np\n",
    "import matplotlib.pyplot as plt\n",
    "%matplotlib inline"
   ]
  },
  {
   "cell_type": "code",
   "execution_count": 243,
   "metadata": {},
   "outputs": [],
   "source": [
    "class Softmax:\n",
    "    def __init__(self, eta=0.1, max_iter=100, n_categories=3, n_inputs=2):\n",
    "        self.eta = eta\n",
    "        self.max_iter = max_iter\n",
    "        self.theta = np.random.randn(n_categories, n_inputs)\n",
    "        pass\n",
    "    \n",
    "    def get_score(self, X):\n",
    "        score = []\n",
    "        for cat in self.theta:\n",
    "            cat_score = []\n",
    "            for row in X:\n",
    "                row_score = cat.T.dot(row)\n",
    "                cat_score.append(row_score)\n",
    "                pass\n",
    "            score.append(cat_score)\n",
    "            pass\n",
    "        return np.array(score).T\n",
    "    \n",
    "    def get_softmax(self, X):\n",
    "        score = self.get_score(X)\n",
    "        softmax = []\n",
    "        for s in score:\n",
    "            p_softmax = []\n",
    "            cat_score_sum = np.sum([np.exp(cat_score) for cat_score in s], axis=0)\n",
    "            for cat_score in s:\n",
    "                cat_softmax = np.exp(cat_score) / cat_score_sum\n",
    "                p_softmax.append(cat_softmax)\n",
    "                pass\n",
    "            softmax.append(p_softmax)\n",
    "        return np.array(softmax)\n",
    "    \n",
    "    def predict(self, X):\n",
    "        softmax = self.get_softmax(X)\n",
    "        probas = []\n",
    "        for proba in softmax:\n",
    "            probas.append(np.argmax(proba))\n",
    "            pass\n",
    "        return np.array(probas)\n",
    "    \n",
    "    def fit(self, X, y):\n",
    "        softmax = self.get_softmax(X)\n",
    "        m = len(X)\n",
    "        self.losses = []\n",
    "        for epoch in range(self.max_iter):\n",
    "            for i, cat_theta in enumerate(self.theta):\n",
    "                gradient = 1 / m * np.sum((softmax[:,i] - y[:,i]).dot(X))\n",
    "                self.theta[i] = cat_theta - self.eta * gradient\n",
    "                pass\n",
    "            pass\n",
    "        return self"
   ]
  },
  {
   "cell_type": "code",
   "execution_count": 13,
   "metadata": {},
   "outputs": [],
   "source": [
    "from sklearn.datasets import load_iris\n",
    "\n",
    "iris = load_iris()\n",
    "y = iris['target']\n",
    "X = iris['data'][:, (2,3)]\n",
    "one = y == 0\n",
    "two = y == 1\n",
    "three = y == 2\n",
    "y = np.array([one,two,three]).astype(np.int).T"
   ]
  },
  {
   "cell_type": "code",
   "execution_count": 14,
   "metadata": {},
   "outputs": [],
   "source": [
    "eta = 0.1\n",
    "n_iter = 1000"
   ]
  },
  {
   "cell_type": "code",
   "execution_count": 244,
   "metadata": {},
   "outputs": [],
   "source": [
    "clf = Softmax()"
   ]
  },
  {
   "cell_type": "code",
   "execution_count": 240,
   "metadata": {},
   "outputs": [
    {
     "data": {
      "text/plain": [
       "array([[-25.91841892, -23.20595897],\n",
       "       [-14.21360952, -13.79264107],\n",
       "       [ 36.14933517,  36.82786354]])"
      ]
     },
     "execution_count": 240,
     "metadata": {},
     "output_type": "execute_result"
    }
   ],
   "source": [
    "clf.theta"
   ]
  },
  {
   "cell_type": "code",
   "execution_count": 264,
   "metadata": {},
   "outputs": [
    {
     "data": {
      "text/plain": [
       "array([2, 2, 2, 2, 2, 2, 2, 2, 2, 2, 2, 2, 2, 2, 2, 2, 2, 2, 2, 2, 2, 2,\n",
       "       2, 2, 2, 2, 2, 2, 2, 2, 2, 2, 2, 2, 2, 2, 2, 2, 2, 2, 2, 2, 2, 2,\n",
       "       2, 2, 2, 2, 2, 2, 2, 2, 2, 2, 2, 2, 2, 2, 2, 2, 2, 2, 2, 2, 2, 2,\n",
       "       2, 2, 2, 2, 2, 2, 2, 2, 2, 2, 2, 2, 2, 2, 2, 2, 2, 2, 2, 2, 2, 2,\n",
       "       2, 2, 2, 2, 2, 2, 2, 2, 2, 2, 2, 2, 2, 2, 2, 2, 2, 2, 2, 2, 2, 2,\n",
       "       2, 2, 2, 2, 2, 2, 2, 2, 2, 2, 2, 2, 2, 2, 2, 2, 2, 2, 2, 2, 2, 2,\n",
       "       2, 2, 2, 2, 2, 2, 2, 2, 2, 2, 2, 2, 2, 2, 2, 2, 2, 2])"
      ]
     },
     "execution_count": 264,
     "metadata": {},
     "output_type": "execute_result"
    }
   ],
   "source": [
    "clf.fit(X, y)\n",
    "clf.predict(X)"
   ]
  },
  {
   "cell_type": "code",
   "execution_count": 146,
   "metadata": {},
   "outputs": [
    {
     "data": {
      "text/plain": [
       "array([0, 0, 0, 0, 0, 0, 0, 0, 0, 0, 0, 0, 0, 0, 0, 0, 0, 0, 0, 0, 0, 0,\n",
       "       0, 0, 0, 0, 0, 0, 0, 0, 0, 0, 0, 0, 0, 0, 0, 0, 0, 0, 0, 0, 0, 0,\n",
       "       0, 0, 0, 0, 0, 0, 1, 1, 1, 1, 1, 1, 1, 1, 1, 1, 1, 1, 1, 1, 1, 1,\n",
       "       1, 1, 1, 1, 1, 1, 1, 1, 1, 1, 1, 1, 1, 1, 1, 1, 1, 1, 1, 1, 1, 1,\n",
       "       1, 1, 1, 1, 1, 1, 1, 1, 1, 1, 1, 1, 2, 2, 2, 2, 2, 2, 2, 2, 2, 2,\n",
       "       2, 2, 2, 2, 2, 2, 2, 2, 2, 2, 2, 2, 2, 2, 2, 2, 2, 2, 2, 2, 2, 2,\n",
       "       2, 2, 2, 2, 2, 2, 2, 2, 2, 2, 2, 2, 2, 2, 2, 2, 2, 2])"
      ]
     },
     "execution_count": 146,
     "metadata": {},
     "output_type": "execute_result"
    }
   ],
   "source": [
    "y.argmax(1)"
   ]
  },
  {
   "cell_type": "code",
   "execution_count": 266,
   "metadata": {},
   "outputs": [],
   "source": [
    "import pandas as pd\n",
    "import numpy as np\n",
    "import math\n",
    "import warnings\n",
    "warnings.filterwarnings('ignore')"
   ]
  },
  {
   "cell_type": "code",
   "execution_count": 447,
   "metadata": {},
   "outputs": [],
   "source": [
    "class Bla:\n",
    "    def __init__(self, eta=0.1, max_iter=100):\n",
    "        self.eta = eta\n",
    "        self.max_iter = max_iter\n",
    "        pass\n",
    "\n",
    "    def fit(self, theta, X, y):\n",
    "        self.loss = 0\n",
    "        grad = np.zeros_like(theta)\n",
    "        dim, num_train = X.shape\n",
    "        \n",
    "        scores = theta.dot(X)\n",
    "        \n",
    "        scores -= np.max(scores)\n",
    "        scores_exp = np.exp(scores)\n",
    "        \n",
    "        scores_exp_sum = np.sum(scores_exp, axis=0)\n",
    "        \n",
    "        scores_exp_normalized = scores_exp / scores_exp_sum\n",
    "        \n",
    "        scores_exp_normalized[y] -= 1 # [K, N]\n",
    "        grad = scores_exp_normalized.dot(X.T)\n",
    "        grad /= num_train\n",
    "        grad += self.eta * theta\n",
    "        \n",
    "        return grad\n",
    "    \n",
    "    def predict(self, theta, X):\n",
    "        self.loss = 0\n",
    "        grad = np.zeros_like(theta)\n",
    "        dim, num_train = X.shape\n",
    "        \n",
    "        scores = theta.dot(X)\n",
    "        \n",
    "        scores -= np.max(scores)\n",
    "        scores_exp = np.exp(scores)\n",
    "        \n",
    "        scores_exp_sum = np.sum(scores_exp, axis=0)\n",
    "        \n",
    "        scores_exp_normalized = scores_exp / scores_exp_sum\n",
    "        return np.argmax(scores_exp_normalized, axis=0)"
   ]
  },
  {
   "cell_type": "code",
   "execution_count": null,
   "metadata": {},
   "outputs": [],
   "source": [
    "bla = Bla()\n",
    "theta = np.random.rand(3,2)\n",
    "for epoch in range(1000):\n",
    "    theta = bla.fit(theta, X.T, y)\n",
    "    print(precision_score(np.argmax(y, axis=1), bla.predict(theta, X.T), average='macro'))"
   ]
  },
  {
   "cell_type": "code",
   "execution_count": 436,
   "metadata": {},
   "outputs": [
    {
     "data": {
      "text/plain": [
       "array([[ 2.97215498,  1.0155697 ],\n",
       "       [-1.29015565, -0.4016979 ],\n",
       "       [-1.68199934, -0.6138718 ]])"
      ]
     },
     "execution_count": 436,
     "metadata": {},
     "output_type": "execute_result"
    }
   ],
   "source": [
    "theta"
   ]
  },
  {
   "cell_type": "code",
   "execution_count": 437,
   "metadata": {},
   "outputs": [
    {
     "data": {
      "text/plain": [
       "array([0, 0, 0, 0, 0, 0, 0, 0, 0, 0, 0, 0, 0, 0, 0, 0, 0, 0, 0, 0, 0, 0,\n",
       "       0, 0, 0, 0, 0, 0, 0, 0, 0, 0, 0, 0, 0, 0, 0, 0, 0, 0, 0, 0, 0, 0,\n",
       "       0, 0, 0, 0, 0, 0, 0, 0, 0, 0, 0, 0, 0, 0, 0, 0, 0, 0, 0, 0, 0, 0,\n",
       "       0, 0, 0, 0, 0, 0, 0, 0, 0, 0, 0, 0, 0, 0, 0, 0, 0, 0, 0, 0, 0, 0,\n",
       "       0, 0, 0, 0, 0, 0, 0, 0, 0, 0, 0, 0, 0, 0, 0, 0, 0, 0, 0, 0, 0, 0,\n",
       "       0, 0, 0, 0, 0, 0, 0, 0, 0, 0, 0, 0, 0, 0, 0, 0, 0, 0, 0, 0, 0, 0,\n",
       "       0, 0, 0, 0, 0, 0, 0, 0, 0, 0, 0, 0, 0, 0, 0, 0, 0, 0])"
      ]
     },
     "execution_count": 437,
     "metadata": {},
     "output_type": "execute_result"
    }
   ],
   "source": [
    "bla.predict(theta, X.T)"
   ]
  },
  {
   "cell_type": "code",
   "execution_count": 423,
   "metadata": {},
   "outputs": [],
   "source": [
    "from sklearn.metrics import precision_score, recall_score"
   ]
  },
  {
   "cell_type": "code",
   "execution_count": 432,
   "metadata": {},
   "outputs": [
    {
     "data": {
      "text/plain": [
       "(150,)"
      ]
     },
     "execution_count": 432,
     "metadata": {},
     "output_type": "execute_result"
    }
   ],
   "source": [
    "np.argmax(y, axis=1).shape"
   ]
  },
  {
   "cell_type": "code",
   "execution_count": 441,
   "metadata": {},
   "outputs": [
    {
     "data": {
      "text/plain": [
       "0.1111111111111111"
      ]
     },
     "execution_count": 441,
     "metadata": {},
     "output_type": "execute_result"
    }
   ],
   "source": [
    "precision_score(np.argmax(y, axis=1), bla.predict(theta, X.T), average='macro')"
   ]
  },
  {
   "cell_type": "code",
   "execution_count": 376,
   "metadata": {},
   "outputs": [
    {
     "data": {
      "text/plain": [
       "[<matplotlib.lines.Line2D at 0x7fa59a212400>]"
      ]
     },
     "execution_count": 376,
     "metadata": {},
     "output_type": "execute_result"
    },
    {
     "data": {
      "image/png": "[encoded data removed]",
      "text/plain": [
       "<Figure size 432x288 with 1 Axes>"
      ]
     },
     "metadata": {},
     "output_type": "display_data"
    }
   ],
   "source": [
    "plt.plot(np.arange(1,100), losses)"
   ]
  },
  {
   "cell_type": "code",
   "execution_count": 358,
   "metadata": {},
   "outputs": [
    {
     "data": {
      "text/plain": [
       "(15567.241560984025, array([[-4.17629251, -1.33185124],\n",
       "        [-4.17629251, -1.33185124],\n",
       "        [ 4.17628872,  1.33185064]]))"
      ]
     },
     "execution_count": 358,
     "metadata": {},
     "output_type": "execute_result"
    }
   ],
   "source": [
    "bla.fit(theta, X.T, y)"
   ]
  },
  {
   "cell_type": "code",
   "execution_count": 451,
   "metadata": {},
   "outputs": [
    {
     "data": {
      "text/plain": [
       "(150, 3)"
      ]
     },
     "execution_count": 451,
     "metadata": {},
     "output_type": "execute_result"
    }
   ],
   "source": [
    "y.shape"
   ]
  },
  {
   "cell_type": "code",
   "execution_count": 464,
   "metadata": {},
   "outputs": [],
   "source": [
    "class Foo:\n",
    "    def foo(self, theta, X, y):\n",
    "        \"\"\"\n",
    "        theta[3,2] -> [categories, inputs]\n",
    "        X[2, 150] -> [inputs, samples]\n",
    "        y[150, 3] -> [samples, categories]\n",
    "        \"\"\"\n",
    "        softmax_score = theta.dot(X)\n",
    "        print(F'softmax_score: {softmax_score.shape}')\n",
    "        \n",
    "        softmax_score_exp = np.exp(softmax_score)\n",
    "        print(F'softmax_score_exp: {softmax_score_exp.shape}')\n",
    "        \n",
    "        softmax_score_exp_sum = np.sum(softmax_score_exp, axis=1)\n",
    "        print(F'softmax_score_exp_sum: {softmax_score_exp_sum.shape}')\n",
    "        \n",
    "        softmax_score_exp_normalized = softmax_score_exp.T / softmax_score_exp_sum\n",
    "        print(F'softmax_score_exp_normalized: {softmax_score_exp_normalized.shape}')\n",
    "        return softmax_score_exp_normalized"
   ]
  },
  {
   "cell_type": "code",
   "execution_count": 465,
   "metadata": {},
   "outputs": [
    {
     "name": "stdout",
     "output_type": "stream",
     "text": [
      "softmax_score: (3, 150)\n",
      "softmax_score_exp: (3, 150)\n",
      "softmax_score_exp_sum: (3,)\n",
      "softmax_score_exp_normalized: (150, 3)\n"
     ]
    },
    {
     "data": {
      "text/plain": [
       "array([[0.00115659, 0.0002642 , 0.00103222],\n",
       "       [0.00115659, 0.0002642 , 0.00103222],\n",
       "       [0.0011362 , 0.00025038, 0.00098874],\n",
       "       [0.00117735, 0.00027878, 0.00107761],\n",
       "       [0.00115659, 0.0002642 , 0.00103222],\n",
       "       [0.00146302, 0.00037628, 0.00127091],\n",
       "       [0.00126657, 0.00029089, 0.00107376],\n",
       "       [0.00117735, 0.00027878, 0.00107761],\n",
       "       [0.00115659, 0.0002642 , 0.00103222],\n",
       "       [0.00107512, 0.00025319, 0.00103592],\n",
       "       [0.00117735, 0.00027878, 0.00107761],\n",
       "       [0.00119848, 0.00029416, 0.001125  ],\n",
       "       [0.00105617, 0.00023995, 0.00099228],\n",
       "       [0.00100129, 0.00020424, 0.0008721 ],\n",
       "       [0.00111617, 0.00023729, 0.00094709],\n",
       "       [0.00141189, 0.00033796, 0.0011661 ],\n",
       "       [0.00136254, 0.00030353, 0.00106993],\n",
       "       [0.00126657, 0.00029089, 0.00107376],\n",
       "       [0.00133599, 0.00034175, 0.00122174],\n",
       "       [0.0012893 , 0.00030694, 0.00112098],\n",
       "       [0.00121999, 0.00031039, 0.00117447],\n",
       "       [0.00141189, 0.00033796, 0.0011661 ],\n",
       "       [0.00107716, 0.00021312, 0.00086899],\n",
       "       [0.00160213, 0.0004143 , 0.00132206],\n",
       "       [0.00126417, 0.00034559, 0.00128003],\n",
       "       [0.00119848, 0.00029416, 0.001125  ],\n",
       "       [0.00143723, 0.00035661, 0.00121738],\n",
       "       [0.00117735, 0.00027878, 0.00107761],\n",
       "       [0.00115659, 0.0002642 , 0.00103222],\n",
       "       [0.00119848, 0.00029416, 0.001125  ],\n",
       "       [0.00119848, 0.00029416, 0.001125  ],\n",
       "       [0.00141189, 0.00033796, 0.0011661 ],\n",
       "       [0.00107512, 0.00025319, 0.00103592],\n",
       "       [0.00115659, 0.0002642 , 0.00103222],\n",
       "       [0.00107512, 0.00025319, 0.00103592],\n",
       "       [0.00111617, 0.00023729, 0.00094709],\n",
       "       [0.0011362 , 0.00025038, 0.00098874],\n",
       "       [0.00107512, 0.00025319, 0.00103592],\n",
       "       [0.0011362 , 0.00025038, 0.00098874],\n",
       "       [0.00117735, 0.00027878, 0.00107761],\n",
       "       [0.00124424, 0.00027568, 0.00102853],\n",
       "       [0.00124424, 0.00027568, 0.00102853],\n",
       "       [0.0011362 , 0.00025038, 0.00098874],\n",
       "       [0.00172353, 0.00043231, 0.00131734],\n",
       "       [0.001516  , 0.00041896, 0.00138514],\n",
       "       [0.00126657, 0.00029089, 0.00107376],\n",
       "       [0.00119848, 0.00029416, 0.001125  ],\n",
       "       [0.00115659, 0.0002642 , 0.00103222],\n",
       "       [0.00117735, 0.00027878, 0.00107761],\n",
       "       [0.00115659, 0.0002642 , 0.00103222],\n",
       "       [0.00618688, 0.00493589, 0.00685769],\n",
       "       [0.00653837, 0.00488105, 0.00654538],\n",
       "       [0.00702051, 0.00605095, 0.00777489],\n",
       "       [0.00498827, 0.00307802, 0.00487767],\n",
       "       [0.00665571, 0.0051504 , 0.00683321],\n",
       "       [0.00545223, 0.00402632, 0.00604869],\n",
       "       [0.00741936, 0.00598372, 0.00742081],\n",
       "       [0.00335377, 0.00158333, 0.00320607],\n",
       "       [0.00555008, 0.0042485 , 0.00631467],\n",
       "       [0.00536627, 0.00321178, 0.00486026],\n",
       "       [0.00347523, 0.00176289, 0.00349424],\n",
       "       [0.00619861, 0.00415462, 0.00575262],\n",
       "       [0.00379846, 0.00230602, 0.00433313],\n",
       "       [0.00618688, 0.00493589, 0.00685769],\n",
       "       [0.00464569, 0.00248291, 0.00410632],\n",
       "       [0.00586539, 0.0042013 , 0.0060271 ],\n",
       "       [0.00653837, 0.00488105, 0.00654538],\n",
       "       [0.00386663, 0.00243327, 0.00452367],\n",
       "       [0.00653837, 0.00488105, 0.00654538],\n",
       "       [0.0040863 , 0.00240624, 0.00431766],\n",
       "       [0.00905704, 0.00765427, 0.0083833 ],\n",
       "       [0.00498827, 0.00307802, 0.00487767],\n",
       "       [0.00702051, 0.00605095, 0.00777489],\n",
       "       [0.00515913, 0.00407156, 0.00633729],\n",
       "       [0.00526168, 0.00361621, 0.00554985],\n",
       "       [0.00586539, 0.0042013 , 0.0060271 ],\n",
       "       [0.00629791, 0.00520827, 0.00715925],\n",
       "       [0.00857015, 0.00774027, 0.0087833 ],\n",
       "       [0.00653837, 0.00488105, 0.00654538],\n",
       "       [0.00347523, 0.00176289, 0.00349424],\n",
       "       [0.00401426, 0.0022804 , 0.00413579],\n",
       "       [0.00360108, 0.00196282, 0.00380831],\n",
       "       [0.00447484, 0.00264936, 0.00449144],\n",
       "       [0.00796647, 0.0074179 , 0.00881476],\n",
       "       [0.00653837, 0.00488105, 0.00654538],\n",
       "       [0.00716006, 0.00537423, 0.00680882],\n",
       "       [0.00677515, 0.00543461, 0.00713369],\n",
       "       [0.00535611, 0.00381576, 0.0057939 ],\n",
       "       [0.00507779, 0.00324787, 0.00509216],\n",
       "       [0.00498827, 0.00307802, 0.00487767],\n",
       "       [0.00489105, 0.0034656 , 0.00556973],\n",
       "       [0.0060778 , 0.00467776, 0.00656883],\n",
       "       [0.00455515, 0.00279556, 0.00468895],\n",
       "       [0.00335377, 0.00158333, 0.00320607],\n",
       "       [0.00516892, 0.00342709, 0.00531608],\n",
       "       [0.00472011, 0.0031126 , 0.0051104 ],\n",
       "       [0.00516892, 0.00342709, 0.00531608],\n",
       "       [0.00526168, 0.00361621, 0.00554985],\n",
       "       [0.00348182, 0.00148385, 0.00293117],\n",
       "       [0.00507779, 0.00324787, 0.00509216],\n",
       "       [0.0211747 , 0.02860563, 0.01852042],\n",
       "       [0.01046185, 0.00990122, 0.00992251],\n",
       "       [0.01446447, 0.01844648, 0.01515003],\n",
       "       [0.01044204, 0.01176314, 0.0118286 ],\n",
       "       [0.01556056, 0.01924814, 0.01509595],\n",
       "       [0.01638238, 0.02686616, 0.02047585],\n",
       "       [0.00784087, 0.00591723, 0.00708286],\n",
       "       [0.0118266 , 0.01713229, 0.01598681],\n",
       "       [0.0108202 , 0.01309719, 0.01289178],\n",
       "       [0.02155471, 0.03018415, 0.01933484],\n",
       "       [0.01145661, 0.01090163, 0.01032187],\n",
       "       [0.01084072, 0.01102411, 0.01081436],\n",
       "       [0.0134711 , 0.01488003, 0.01275423],\n",
       "       [0.01125463, 0.01033151, 0.00988709],\n",
       "       [0.01647577, 0.01602145, 0.01208665],\n",
       "       [0.01559007, 0.01620146, 0.01266335],\n",
       "       [0.01025795, 0.01114797, 0.01133036],\n",
       "       [0.01826204, 0.03121301, 0.02223661],\n",
       "       [0.02072271, 0.03826425, 0.02521071],\n",
       "       [0.00714651, 0.00638485, 0.00811678],\n",
       "       [0.0167397 , 0.02008463, 0.01504207],\n",
       "       [0.01105621, 0.00979121, 0.00947063],\n",
       "       [0.0152284 , 0.02574722, 0.02054919],\n",
       "       [0.00921958, 0.00807665, 0.00875195],\n",
       "       [0.01395895, 0.01656756, 0.01390061],\n",
       "       [0.01121205, 0.01458253, 0.01405052],\n",
       "       [0.00905704, 0.00765427, 0.0083833 ],\n",
       "       [0.00921958, 0.00807665, 0.00875195],\n",
       "       [0.01371286, 0.01570114, 0.01331509],\n",
       "       [0.00902278, 0.01080371, 0.01191349],\n",
       "       [0.01249849, 0.01694194, 0.01525876],\n",
       "       [0.01443709, 0.02191533, 0.01806032],\n",
       "       [0.01501673, 0.01728756, 0.013851  ],\n",
       "       [0.00727476, 0.00673718, 0.00847371],\n",
       "       [0.00726099, 0.0080041 , 0.01010149],\n",
       "       [0.01797411, 0.02489853, 0.01786762],\n",
       "       [0.0180082 , 0.02095748, 0.01498839],\n",
       "       [0.01025795, 0.01114797, 0.01133036],\n",
       "       [0.00905704, 0.00765427, 0.0083833 ],\n",
       "       [0.0132336 , 0.01410186, 0.012217  ],\n",
       "       [0.0180082 , 0.02095748, 0.01498839],\n",
       "       [0.01504521, 0.01455122, 0.01161901],\n",
       "       [0.01046185, 0.00990122, 0.00992251],\n",
       "       [0.01734593, 0.02236242, 0.01639409],\n",
       "       [0.0200744 , 0.02434833, 0.01627727],\n",
       "       [0.01531522, 0.01535418, 0.01212995],\n",
       "       [0.01027741, 0.00938342, 0.00950455],\n",
       "       [0.01166221, 0.0115032 , 0.01077576],\n",
       "       [0.01586986, 0.01709549, 0.01322021],\n",
       "       [0.00955347, 0.00899262, 0.0095386 ]])"
      ]
     },
     "execution_count": 465,
     "metadata": {},
     "output_type": "execute_result"
    }
   ],
   "source": [
    "Foo().foo(np.random.rand(3,2), X.T, y)"
   ]
  },
  {
   "cell_type": "code",
   "execution_count": null,
   "metadata": {},
   "outputs": [],
   "source": []
  },
  {
   "cell_type": "code",
   "execution_count": null,
   "metadata": {},
   "outputs": [],
   "source": []
  },
  {
   "cell_type": "code",
   "execution_count": null,
   "metadata": {},
   "outputs": [],
   "source": []
  },
  {
   "cell_type": "code",
   "execution_count": null,
   "metadata": {},
   "outputs": [],
   "source": []
  },
  {
   "cell_type": "code",
   "execution_count": null,
   "metadata": {},
   "outputs": [],
   "source": []
  },
  {
   "cell_type": "code",
   "execution_count": null,
   "metadata": {},
   "outputs": [],
   "source": []
  },
  {
   "cell_type": "code",
   "execution_count": null,
   "metadata": {},
   "outputs": [],
   "source": []
  },
  {
   "cell_type": "code",
   "execution_count": null,
   "metadata": {},
   "outputs": [],
   "source": []
  },
  {
   "cell_type": "code",
   "execution_count": null,
   "metadata": {},
   "outputs": [],
   "source": []
  }
 ],
 "metadata": {
  "kernelspec": {
   "display_name": "Python 3",
   "language": "python",
   "name": "python3"
  },
  "language_info": {
   "codemirror_mode": {
    "name": "ipython",
    "version": 3
   },
   "file_extension": ".py",
   "mimetype": "text/x-python",
   "name": "python",
   "nbconvert_exporter": "python",
   "pygments_lexer": "ipython3",
   "version": "3.6.5"
  }
 },
 "nbformat": 4,
 "nbformat_minor": 2
}
