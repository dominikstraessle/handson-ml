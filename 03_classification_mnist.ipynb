{
 "cells": [
  {
   "cell_type": "code",
   "execution_count": 1,
   "metadata": {},
   "outputs": [],
   "source": [
    "from sklearn.datasets import fetch_mldata"
   ]
  },
  {
   "cell_type": "code",
   "execution_count": 2,
   "metadata": {},
   "outputs": [
    {
     "data": {
      "text/plain": [
       "{'COL_NAMES': ['label', 'data'],\n",
       " 'DESCR': 'mldata.org dataset: mnist-original',\n",
       " 'data': array([[0, 0, 0, ..., 0, 0, 0],\n",
       "        [0, 0, 0, ..., 0, 0, 0],\n",
       "        [0, 0, 0, ..., 0, 0, 0],\n",
       "        ..., \n",
       "        [0, 0, 0, ..., 0, 0, 0],\n",
       "        [0, 0, 0, ..., 0, 0, 0],\n",
       "        [0, 0, 0, ..., 0, 0, 0]], dtype=uint8),\n",
       " 'target': array([ 0.,  0.,  0., ...,  9.,  9.,  9.])}"
      ]
     },
     "execution_count": 2,
     "metadata": {},
     "output_type": "execute_result"
    }
   ],
   "source": [
    "mnist = fetch_mldata('MNIST original')\n",
    "mnist"
   ]
  },
  {
   "cell_type": "code",
   "execution_count": 3,
   "metadata": {},
   "outputs": [
    {
     "data": {
      "text/plain": [
       "(70000, 784)"
      ]
     },
     "execution_count": 3,
     "metadata": {},
     "output_type": "execute_result"
    }
   ],
   "source": [
    "X, y = mnist['data'], mnist['target']\n",
    "X.shape"
   ]
  },
  {
   "cell_type": "code",
   "execution_count": 4,
   "metadata": {},
   "outputs": [
    {
     "name": "stderr",
     "output_type": "stream",
     "text": [
      "/home/nbuser/anaconda3_501/lib/python3.6/site-packages/matplotlib/font_manager.py:280: UserWarning: Matplotlib is building the font cache using fc-list. This may take a moment.\n",
      "  'Matplotlib is building the font cache using fc-list. '\n"
     ]
    }
   ],
   "source": [
    "%matplotlib inline\n",
    "import matplotlib\n",
    "import matplotlib.pyplot as plt"
   ]
  },
  {
   "cell_type": "code",
   "execution_count": 5,
   "metadata": {},
   "outputs": [
    {
     "data": {
      "image/png": "[encoded data removed]",
      "text/plain": [
       "<matplotlib.figure.Figure at 0x7fd974a725f8>"
      ]
     },
     "metadata": {},
     "output_type": "display_data"
    },
    {
     "name": "stdout",
     "output_type": "stream",
     "text": [
      "1.0\n"
     ]
    }
   ],
   "source": [
    "some_digit = X[12334]\n",
    "some_digit_as_img = some_digit.reshape(28,28)\n",
    "\n",
    "plt.imshow(some_digit_as_img, cmap=matplotlib.cm.binary, interpolation='nearest')\n",
    "plt.axis('off')\n",
    "plt.show()\n",
    "print(y[12334])"
   ]
  },
  {
   "cell_type": "code",
   "execution_count": 6,
   "metadata": {},
   "outputs": [],
   "source": [
    "X_train, X_test, y_train, y_test = X[:60000], X[60000:], y[:60000], y[60000:]"
   ]
  },
  {
   "cell_type": "markdown",
   "metadata": {},
   "source": [
    "**Index mischeln**  \n",
    "Damit bei der Kreuzvalidierung sämtliche Mengen ähnlich sind, müssen die Index gemischelt werden."
   ]
  },
  {
   "cell_type": "code",
   "execution_count": 7,
   "metadata": {},
   "outputs": [],
   "source": [
    "import numpy as np"
   ]
  },
  {
   "cell_type": "code",
   "execution_count": 8,
   "metadata": {},
   "outputs": [],
   "source": [
    "shuffle_index = np.random.permutation(60000)\n",
    "\n",
    "X_train, y_train = X_train[shuffle_index], y_train[shuffle_index]"
   ]
  },
  {
   "cell_type": "markdown",
   "metadata": {},
   "source": [
    "# Binärer Klassifikator\n",
    "Ein binärer Klassifikator kann genau **2 Kategorien** unterscheiden.\n",
    "\n",
    "In unserem Beispiel **3 oder Nicht-3**\n",
    "\n",
    "## Klassifikator für das stochastische Gradientenverfahren\n",
    "Ein effizienter Klassifikator bei grossen Datensätzen, ausserdem geeignet für Online-Learning"
   ]
  },
  {
   "cell_type": "code",
   "execution_count": 9,
   "metadata": {},
   "outputs": [],
   "source": [
    "y_train_3 = (y_train == 3)\n",
    "y_test_3 = (y_test == 3)"
   ]
  },
  {
   "cell_type": "code",
   "execution_count": 10,
   "metadata": {},
   "outputs": [],
   "source": [
    "from sklearn.linear_model import SGDClassifier"
   ]
  },
  {
   "cell_type": "code",
   "execution_count": 11,
   "metadata": {},
   "outputs": [
    {
     "name": "stderr",
     "output_type": "stream",
     "text": [
      "/home/nbuser/anaconda3_501/lib/python3.6/site-packages/sklearn/linear_model/stochastic_gradient.py:84: FutureWarning: max_iter and tol parameters have been added in <class 'sklearn.linear_model.stochastic_gradient.SGDClassifier'> in 0.19. If both are left unset, they default to max_iter=5 and tol=None. If tol is not None, max_iter defaults to max_iter=1000. From 0.21, default max_iter will be 1000, and default tol will be 1e-3.\n",
      "  \"and default tol will be 1e-3.\" % type(self), FutureWarning)\n"
     ]
    },
    {
     "data": {
      "text/plain": [
       "SGDClassifier(alpha=0.0001, average=False, class_weight=None, epsilon=0.1,\n",
       "       eta0=0.0, fit_intercept=True, l1_ratio=0.15,\n",
       "       learning_rate='optimal', loss='hinge', max_iter=5, n_iter=None,\n",
       "       n_jobs=1, penalty='l2', power_t=0.5, random_state=42, shuffle=True,\n",
       "       tol=None, verbose=0, warm_start=False)"
      ]
     },
     "execution_count": 11,
     "metadata": {},
     "output_type": "execute_result"
    }
   ],
   "source": [
    "sgd_clf = SGDClassifier(random_state=42)\n",
    "sgd_clf.fit(X_train, y_train_3)"
   ]
  },
  {
   "cell_type": "code",
   "execution_count": 12,
   "metadata": {},
   "outputs": [
    {
     "data": {
      "text/plain": [
       "array([False, False,  True, False, False, False, False, False, False, False], dtype=bool)"
      ]
     },
     "execution_count": 12,
     "metadata": {},
     "output_type": "execute_result"
    }
   ],
   "source": [
    "sgd_clf.predict(X_train[:10])"
   ]
  },
  {
   "cell_type": "markdown",
   "metadata": {},
   "source": [
    "# Qualitätsmasse bei Klassifikationen\n",
    "Wir messen die Genauigkeit über die Kreuzvalidierung um das Problem beim Messen von Klassifikationen aufzuzeigen.  \n",
    "Wie man sieht sind bei allen 6 durchläufen Genauigkeiten im Bereich 95% erzielt worden.  \n",
    "Das Problem ist, das 90% der Datenpunkte Nicht-3 sind.\n",
    "> Die **Genauigkeit** bei Klassifikatoren ist für gewöhnlich **nicht das empfehlenswerte Qualitätsmass**. Besonders dann nicht, wenn man es mit **unbalancierten Datensätzen** zu tun hat, sprich, Datensätze, bei denen manche Kategorien viel häufiger vorkommen als andere.  "
   ]
  },
  {
   "cell_type": "code",
   "execution_count": 13,
   "metadata": {},
   "outputs": [],
   "source": [
    "from sklearn.model_selection import cross_val_score"
   ]
  },
  {
   "cell_type": "code",
   "execution_count": 14,
   "metadata": {},
   "outputs": [
    {
     "data": {
      "text/plain": [
       "array([ 0.96940153,  0.9453    ,  0.94934747])"
      ]
     },
     "execution_count": 14,
     "metadata": {},
     "output_type": "execute_result"
    }
   ],
   "source": [
    "# mit crossvalidation von sklearn\n",
    "cross_val_score(sgd_clf, X_train, y_train_3, cv=3, scoring='accuracy')"
   ]
  },
  {
   "cell_type": "code",
   "execution_count": 15,
   "metadata": {},
   "outputs": [
    {
     "name": "stdout",
     "output_type": "stream",
     "text": [
      "0.969401529924\n",
      "0.9453\n",
      "0.949347467373\n"
     ]
    }
   ],
   "source": [
    "# eigene Implementierung der cross_validation\n",
    "# die Folds sind in diesem Beispiel stratifiziert\n",
    "from sklearn.model_selection import StratifiedKFold\n",
    "from sklearn.base import clone\n",
    "\n",
    "skfolds = StratifiedKFold(n_splits=3, random_state=42)\n",
    "\n",
    "for train_index, test_index in skfolds.split(X_train, y_train_3):\n",
    "    clone_clf = clone(sgd_clf)\n",
    "    \n",
    "    # trainingsdaten\n",
    "    X_train_folds = X_train[train_index]\n",
    "    y_train_folds = y_train_3[train_index]\n",
    "    \n",
    "    # validierungsdaten\n",
    "    X_test_folds = X_train[test_index]\n",
    "    y_test_folds = y_train_3[test_index]\n",
    "    \n",
    "    # trainiere den klassifikator\n",
    "    clone_clf.fit(X_train_folds, y_train_folds)\n",
    "    \n",
    "    # vorhersage treffen\n",
    "    y_pred = clone_clf.predict(X_test_folds)\n",
    "    \n",
    "    # ergebniss berechnen\n",
    "    n_correct = sum(y_pred == y_test_folds)\n",
    "    print(n_correct / len(y_pred))"
   ]
  },
  {
   "cell_type": "markdown",
   "metadata": {},
   "source": [
    "# Konfusionsmatrix\n",
    "* 00 -> richtige Negative:\n",
    "    * Wurden richtig als Nicht-3en Klassifieziert\n",
    "* 01 -> falsche Negative:\n",
    "    * Wurden falsch als Nicht-3en Klassifiziert\n",
    "* 10 -> falsche Positive:\n",
    "    * Wurden falsch als 3en Klassiifiziert\n",
    "* 11 -> richtige Positive:\n",
    "    * Wurden richtig als 3en Klassifiziert"
   ]
  },
  {
   "cell_type": "code",
   "execution_count": 16,
   "metadata": {},
   "outputs": [],
   "source": [
    "from sklearn.model_selection import cross_val_predict"
   ]
  },
  {
   "cell_type": "code",
   "execution_count": 17,
   "metadata": {},
   "outputs": [],
   "source": [
    "y_train_pred = cross_val_predict(sgd_clf, X_train, y_train_3, cv=3)"
   ]
  },
  {
   "cell_type": "code",
   "execution_count": 18,
   "metadata": {},
   "outputs": [],
   "source": [
    "from sklearn.metrics import confusion_matrix"
   ]
  },
  {
   "cell_type": "code",
   "execution_count": 19,
   "metadata": {},
   "outputs": [
    {
     "data": {
      "text/plain": [
       "array([[52759,  1110],\n",
       "       [ 1609,  4522]])"
      ]
     },
     "execution_count": 19,
     "metadata": {},
     "output_type": "execute_result"
    }
   ],
   "source": [
    "confusion_matrix(y_train_3, y_train_pred)"
   ]
  },
  {
   "cell_type": "markdown",
   "metadata": {},
   "source": [
    "# Relevanz und Sensitivität (precision and recall)\n",
    "Die Relevanz ist ein kompakteres Qualitätsmass welches die Genauigkeit der positiven Vorhersagen beschreibt.  \n",
    "$Relevanz = \\frac{RP}{RP + FP}$  \n",
    "$RP =$ richtige Positive  \n",
    "$FP =$ falsche Positive  \n",
    "\n",
    "**Hohe Relevanz:**  \n",
    "Verwirft viele gute Ergebnisse, aber zeigt bestimmt nur korrekte Ergebnisse an. Keine falschen Positiven, viele falsche Negative.  \n",
    "**Hohe Sensitivität:**  \n",
    "Umgekehrt. Keine falschen Negativen, viele falsche Positive. Verfehlt keine Positiven.  \n",
    "\n",
    "$Sensitivität = \\frac{RP}{RP + FN}$  \n",
    "$FN =$ falsche Negative  "
   ]
  },
  {
   "cell_type": "code",
   "execution_count": 20,
   "metadata": {},
   "outputs": [],
   "source": [
    "from sklearn.metrics import precision_score, recall_score"
   ]
  },
  {
   "cell_type": "code",
   "execution_count": 21,
   "metadata": {},
   "outputs": [
    {
     "data": {
      "text/plain": [
       "0.80291193181818177"
      ]
     },
     "execution_count": 21,
     "metadata": {},
     "output_type": "execute_result"
    }
   ],
   "source": [
    "precision_score(y_train_3, y_train_pred)"
   ]
  },
  {
   "cell_type": "code",
   "execution_count": 22,
   "metadata": {},
   "outputs": [
    {
     "data": {
      "text/plain": [
       "0.73756320339259496"
      ]
     },
     "execution_count": 22,
     "metadata": {},
     "output_type": "execute_result"
    }
   ],
   "source": [
    "recall_score(y_train_3, y_train_pred)"
   ]
  },
  {
   "cell_type": "markdown",
   "metadata": {},
   "source": [
    "# $F_1$-Score\n",
    "Mit diesem lassen sich zwei Klassifikatoren miteinander vergleichen.  \n",
    "Er rechnet mit dem harmonischen Mittelwert, welchen auch niedrigen Mittelwerten ein hohes Gewicht verleiht.  \n",
    "Der $F_1$-Score stellt zudem die Relevanz und die Sensitivität ins Verhältnis zueinander.\n",
    "\n",
    "Achtung: Der $F_1$-Score begünstigt Klassifikatoren mit ähnlicher Relevanz und Sensitivität.\n",
    "\n",
    "> Ein Erhöhen der Relevanz senkt die Sensitivität und umgekehrt. Dies nennt man auch die **Wechselbeziehung zwischen Relevanz und Sensitivität**."
   ]
  },
  {
   "cell_type": "markdown",
   "metadata": {},
   "source": [
    "# Wechselbeziehung zwischen Relevanz und Sensitivität"
   ]
  },
  {
   "cell_type": "code",
   "execution_count": 23,
   "metadata": {},
   "outputs": [
    {
     "data": {
      "text/plain": [
       "array([-153172.67856833])"
      ]
     },
     "execution_count": 23,
     "metadata": {},
     "output_type": "execute_result"
    }
   ],
   "source": [
    "y_scores = sgd_clf.decision_function([some_digit])\n",
    "y_scores"
   ]
  },
  {
   "cell_type": "code",
   "execution_count": 24,
   "metadata": {},
   "outputs": [
    {
     "data": {
      "text/plain": [
       "array([False], dtype=bool)"
      ]
     },
     "execution_count": 24,
     "metadata": {},
     "output_type": "execute_result"
    }
   ],
   "source": [
    "threshold = 0\n",
    "y_some_digit_pred = (y_scores > threshold)\n",
    "y_some_digit_pred"
   ]
  },
  {
   "cell_type": "code",
   "execution_count": 25,
   "metadata": {},
   "outputs": [
    {
     "data": {
      "text/plain": [
       "array([False], dtype=bool)"
      ]
     },
     "execution_count": 25,
     "metadata": {},
     "output_type": "execute_result"
    }
   ],
   "source": [
    "threshold = -40000\n",
    "y_some_digit_pred = (y_scores > threshold)\n",
    "y_some_digit_pred"
   ]
  },
  {
   "cell_type": "code",
   "execution_count": 28,
   "metadata": {},
   "outputs": [
    {
     "data": {
      "text/plain": [
       "(60000, 2)"
      ]
     },
     "execution_count": 28,
     "metadata": {},
     "output_type": "execute_result"
    }
   ],
   "source": [
    "# berechnung aller scores\n",
    "y_scores = cross_val_predict(sgd_clf,\n",
    "                             X_train,\n",
    "                             y_train_3,\n",
    "                             cv=3,\n",
    "                             method='decision_function')\n",
    "y_scores.shape"
   ]
  },
  {
   "cell_type": "code",
   "execution_count": 45,
   "metadata": {},
   "outputs": [],
   "source": [
    "y_scores = y_scores[:,1]"
   ]
  },
  {
   "cell_type": "code",
   "execution_count": 46,
   "metadata": {},
   "outputs": [],
   "source": [
    "# anzeige der relevanz und sensitivität anhand jedes berrechneten schwellwerts\n",
    "from sklearn.metrics import precision_recall_curve\n",
    "\n",
    "precisions, recalls, thresholds = precision_recall_curve(y_train_3, y_scores)"
   ]
  },
  {
   "cell_type": "code",
   "execution_count": 47,
   "metadata": {},
   "outputs": [],
   "source": [
    "# plotten\n",
    "def plot_precision_recall_vs_threshold(precision, recalls, thresholds):\n",
    "    fig, ax = plt.subplots(figsize=(15,6))\n",
    "    ax.plot(thresholds, precisions[:-1], 'b--', label='Relevanz')\n",
    "    ax.plot(thresholds, recalls[:-1], 'g-', label='Sensitivität')\n",
    "    \n",
    "    ax.set_xlabel('Schwellenwert')\n",
    "    ax.legend(loc='center left')\n",
    "    ax.set_ylim([-0.01,1.01])\n",
    "    ax.set_xlim([thresholds.min(), thresholds.max()])\n",
    "    ax.grid()"
   ]
  },
  {
   "cell_type": "code",
   "execution_count": 48,
   "metadata": {},
   "outputs": [
    {
     "data": {
      "image/png": "[encoded data removed]",
      "text/plain": [
       "<matplotlib.figure.Figure at 0x7fd973e8aa20>"
      ]
     },
     "metadata": {},
     "output_type": "display_data"
    }
   ],
   "source": [
    "plot_precision_recall_vs_threshold(precisions, recalls, thresholds)"
   ]
  },
  {
   "cell_type": "code",
   "execution_count": 49,
   "metadata": {},
   "outputs": [],
   "source": [
    "# relevanz gegen sensitivität\n",
    "def plot_precision_vs_recall(precisions, recalls):\n",
    "    fig, ax = plt.subplots(figsize=(9,7))\n",
    "    ax.plot(recalls, precisions, 'g-', label='Relevanz vs. Sensitibität')\n",
    "    \n",
    "    major_ticks = np.arange(0, 1.2, 0.2)\n",
    "    minor_ticks = np.arange(0, 1.05, 0.05)\n",
    "    ax.set_xticks(major_ticks)\n",
    "    ax.set_xticks(minor_ticks, minor=True)\n",
    "    ax.set_yticks(major_ticks)\n",
    "    ax.set_yticks(minor_ticks, minor=True)\n",
    "    \n",
    "    ax.set_xlabel('Sensitivität')\n",
    "    ax.set_ylabel('Relevanz')\n",
    "    ax.legend(loc='center left')\n",
    "    ax.grid(which='major', alpha=0.5)\n",
    "    ax.grid(which='minor', alpha=0.2)\n",
    "    ax.set_title('Verhältniss')"
   ]
  },
  {
   "cell_type": "code",
   "execution_count": 50,
   "metadata": {},
   "outputs": [
    {
     "data": {
      "image/png": "[encoded data removed]",
      "text/plain": [
       "<matplotlib.figure.Figure at 0x7fd973b0d6d8>"
      ]
     },
     "metadata": {},
     "output_type": "display_data"
    }
   ],
   "source": [
    "plot_precision_vs_recall(precisions, recalls)"
   ]
  },
  {
   "cell_type": "code",
   "execution_count": 51,
   "metadata": {},
   "outputs": [],
   "source": [
    "# klassifiktator mit schwellewert bei 70'000 -> relevanz von 90% und sensitivität von 70%\n",
    "y_train_pred_90 = (y_scores > 20000)"
   ]
  },
  {
   "cell_type": "code",
   "execution_count": 52,
   "metadata": {},
   "outputs": [
    {
     "data": {
      "text/plain": [
       "0.832601641534644"
      ]
     },
     "execution_count": 52,
     "metadata": {},
     "output_type": "execute_result"
    }
   ],
   "source": [
    "precision_score(y_train_3, y_train_pred_90)"
   ]
  },
  {
   "cell_type": "code",
   "execution_count": 53,
   "metadata": {},
   "outputs": [
    {
     "data": {
      "text/plain": [
       "0.7114663187082042"
      ]
     },
     "execution_count": 53,
     "metadata": {},
     "output_type": "execute_result"
    }
   ],
   "source": [
    "recall_score(y_train_3, y_train_pred_90)"
   ]
  },
  {
   "cell_type": "markdown",
   "metadata": {},
   "source": [
    "# ROC-Kurve (Receiver Operating Characteristic)\n",
    "Es werden für jeden Messpunkt die **Richtig-Positiv-Rate(=Sensitivität)** und die **Falsch-Positiv-Rate(=1-Spezifität)** gegenainander aufgetragen.  \n",
    "**Richtig-Positiv-Rate(=Sensitivität):**  \n",
    "$$\\frac{RP}{RP+FN}$$\n",
    "\n",
    "**Falsch-Positiv-Rate(=1-Spezifität):**  \n",
    "$$1-\\frac{RN}{RN+FP}$$\n"
   ]
  },
  {
   "cell_type": "code",
   "execution_count": 54,
   "metadata": {},
   "outputs": [],
   "source": [
    "from sklearn.metrics import roc_curve"
   ]
  },
  {
   "cell_type": "code",
   "execution_count": 55,
   "metadata": {},
   "outputs": [],
   "source": [
    "fpr, tpr, thresholds = roc_curve(y_train_3, y_scores)"
   ]
  },
  {
   "cell_type": "code",
   "execution_count": 69,
   "metadata": {},
   "outputs": [],
   "source": [
    "def plot_roc_curve(fpr, tpr,  label=None):\n",
    "    fig, ax = plt.subplots()\n",
    "    ax.plot(fpr, tpr, linewidth=2, label=label)\n",
    "    ax.plot([0,1],[0,1], 'k--')\n",
    "    ax.set_xlim([0,1])\n",
    "    ax.set_ylim([0,1])\n",
    "    ax.set_xlabel('Falsch-Positiv-Rate(=1-Spezifität)')\n",
    "    ax.set_ylabel('Richtig-Positiv-Rate(=Sensitivität)')\n",
    "    return ax"
   ]
  },
  {
   "cell_type": "code",
   "execution_count": 70,
   "metadata": {},
   "outputs": [
    {
     "data": {
      "text/plain": [
       "<matplotlib.axes._subplots.AxesSubplot at 0x7fd96f9de668>"
      ]
     },
     "execution_count": 70,
     "metadata": {},
     "output_type": "execute_result"
    },
    {
     "data": {
      "image/png": "[encoded data removed]",
      "text/plain": [
       "<matplotlib.figure.Figure at 0x7fd96f9fb710>"
      ]
     },
     "metadata": {},
     "output_type": "display_data"
    }
   ],
   "source": [
    "plot_roc_curve(fpr, tpr)"
   ]
  },
  {
   "cell_type": "code",
   "execution_count": 58,
   "metadata": {},
   "outputs": [],
   "source": [
    "from sklearn.metrics import roc_auc_score"
   ]
  },
  {
   "cell_type": "code",
   "execution_count": 59,
   "metadata": {},
   "outputs": [
    {
     "data": {
      "text/plain": [
       "0.95089383292480145"
      ]
     },
     "execution_count": 59,
     "metadata": {},
     "output_type": "execute_result"
    }
   ],
   "source": [
    "roc_auc_score(y_train_3, y_scores)"
   ]
  },
  {
   "cell_type": "markdown",
   "metadata": {},
   "source": [
    "# ROC- vs. PR-Kurve\n",
    "**Wann sollte man welche Kurve benutzen?**  \n",
    "Die **PR-Kurve** sollte man dann bevorzugen, wenn die positive Kategorie selten ist oder wenn die falsch Positiven wichtiger als die falsch Negativen sind.  \n",
    "\n",
    "Andernfalls sollte man die **ROC-Kurve** verwenden.  "
   ]
  },
  {
   "cell_type": "code",
   "execution_count": 60,
   "metadata": {},
   "outputs": [],
   "source": [
    "from sklearn.ensemble import RandomForestClassifier"
   ]
  },
  {
   "cell_type": "code",
   "execution_count": 61,
   "metadata": {},
   "outputs": [],
   "source": [
    "forest_clf = RandomForestClassifier(random_state=42)\n",
    "y_probas_forest = cross_val_predict(forest_clf, X_train, y_train_3, cv=3, method='predict_proba')"
   ]
  },
  {
   "cell_type": "code",
   "execution_count": 63,
   "metadata": {},
   "outputs": [],
   "source": [
    "y_scores_forest = y_probas_forest[:,1] # score = Wahrscheinlichkeit der positiven Kategorie\n",
    "fpr_forest, tpr_forest, thresholds_forest = roc_curve(y_train_3, y_scores_forest)"
   ]
  },
  {
   "cell_type": "code",
   "execution_count": 75,
   "metadata": {},
   "outputs": [
    {
     "data": {
      "text/plain": [
       "<matplotlib.legend.Legend at 0x7fd96f491208>"
      ]
     },
     "execution_count": 75,
     "metadata": {},
     "output_type": "execute_result"
    },
    {
     "data": {
      "image/png": "[encoded data removed]",
      "text/plain": [
       "<matplotlib.figure.Figure at 0x7fd96f565588>"
      ]
     },
     "metadata": {},
     "output_type": "display_data"
    }
   ],
   "source": [
    "ax = plot_roc_curve(fpr_forest, tpr_forest, \"Random Forest\")\n",
    "ax.plot(fpr, tpr,'g', label='SGD')\n",
    "ax.legend(loc='lower right')"
   ]
  },
  {
   "cell_type": "code",
   "execution_count": 76,
   "metadata": {},
   "outputs": [
    {
     "data": {
      "text/plain": [
       "0.98732978360223922"
      ]
     },
     "execution_count": 76,
     "metadata": {},
     "output_type": "execute_result"
    }
   ],
   "source": [
    "roc_auc_score(y_train_3, y_scores_forest)"
   ]
  },
  {
   "cell_type": "code",
   "execution_count": 78,
   "metadata": {},
   "outputs": [],
   "source": [
    "precision_forest, recall_forest, thresholds_forest = precision_recall_curve(y_train_3, y_scores_forest)"
   ]
  },
  {
   "cell_type": "code",
   "execution_count": 79,
   "metadata": {},
   "outputs": [
    {
     "data": {
      "image/png": "[encoded data removed]",
      "text/plain": [
       "<matplotlib.figure.Figure at 0x7fd96f0f8f60>"
      ]
     },
     "metadata": {},
     "output_type": "display_data"
    }
   ],
   "source": [
    "plot_precision_vs_recall(precision_forest, recall_forest)"
   ]
  },
  {
   "cell_type": "code",
   "execution_count": 81,
   "metadata": {},
   "outputs": [],
   "source": [
    "# kreuzvalidierung zum auswerten\n",
    "y_train_pred_forest = cross_val_predict(forest_clf, X_train, y_train_3, cv=3)"
   ]
  },
  {
   "cell_type": "code",
   "execution_count": 82,
   "metadata": {},
   "outputs": [
    {
     "data": {
      "text/plain": [
       "0.98632094732543896"
      ]
     },
     "execution_count": 82,
     "metadata": {},
     "output_type": "execute_result"
    }
   ],
   "source": [
    "precision_score(y_train_3, y_train_pred_forest)"
   ]
  },
  {
   "cell_type": "code",
   "execution_count": 83,
   "metadata": {},
   "outputs": [
    {
     "data": {
      "text/plain": [
       "0.78796281193932471"
      ]
     },
     "execution_count": 83,
     "metadata": {},
     "output_type": "execute_result"
    }
   ],
   "source": [
    "recall_score(y_train_3, y_train_pred_forest)"
   ]
  },
  {
   "cell_type": "markdown",
   "metadata": {},
   "source": [
    "# Klassifikatoren mit mehreren Kategorien / multinominale Klassifikatoren\n",
    "Manche Algorithmen sind stets binäre Klassifikatoren (SVM-, Lineareklassifikatoren), während andere direkt mehrere Kategorien berücksichtigen können ( Bayes-, Random-Forest-Klassifikatoren).  \n",
    "\n",
    "Man kann jedoch auch mit mehreren binären Klassifikatoren einen multinominalen Klassifikator erstellen. Hierfür gibt es zwei Strategien:  \n",
    "\n",
    "**One-versus-all(OvA):**\n",
    "Es werden für jede Kategorie ein binärer Klassifikator trainiert. Im Beispiel mit MNIST wäre das ein 1-Detektor, ein 2-Detektor usw.  \n",
    "**One-versus-One(OvO):**  \n",
    "Es werden für alle Kategorienpaare (hier Zahlenpaare 0/1, 1/2 usw.) ein Klassifikator trainiert der dieses Paar unterscheiden kann. Zum Klassifizieren muss der Input alle Klassifikatoren durchlaufen und derjenige mit der höchsten Wahrscheinlichkeit wird genommen.  \n",
    "Anzahl Klassifikatoren: $$\\frac{N * (N-1)}{2}$$\n",
    "Der Vorteil von OvO liegt darin, dass jeder Klassifikator nur mit den Trainingsdaten der zu unterschiedenden Kategorien trainiert werden muss.  \n",
    "\n",
    "Bei SVM-Klassifikatoren sollte die OvO-Strategie bevorzugt werden, da SVM schlecht mit grossen Datensätzen skaliert."
   ]
  },
  {
   "cell_type": "code",
   "execution_count": 84,
   "metadata": {},
   "outputs": [
    {
     "data": {
      "text/plain": [
       "array([ 1.])"
      ]
     },
     "execution_count": 84,
     "metadata": {},
     "output_type": "execute_result"
    }
   ],
   "source": [
    "# scikit-learn erkennt selbst, wenn man einen binären Klassifikator für eine Aufgabe mit mehreren Klassifikatoren einsetzt.\n",
    "# es wendet automatisch OvA an, ausser bei SVM OvO\n",
    "sgd_clf.fit(X_train, y_train) # alle Daten\n",
    "sgd_clf.predict([some_digit])"
   ]
  },
  {
   "cell_type": "code",
   "execution_count": 90,
   "metadata": {},
   "outputs": [
    {
     "data": {
      "image/png": "[encoded data removed]",
      "text/plain": [
       "<matplotlib.figure.Figure at 0x7fd96e9afac8>"
      ]
     },
     "metadata": {},
     "output_type": "display_data"
    },
    {
     "name": "stdout",
     "output_type": "stream",
     "text": [
      "1.0\n"
     ]
    }
   ],
   "source": [
    "plt.imshow(some_digit_as_img, cmap=matplotlib.cm.binary, interpolation='nearest')\n",
    "plt.axis('off')\n",
    "plt.show()\n",
    "print(y[12334])"
   ]
  },
  {
   "cell_type": "code",
   "execution_count": 91,
   "metadata": {},
   "outputs": [
    {
     "data": {
      "text/plain": [
       "array([[-694826.48091741,  115927.47582019, -130496.32366464,\n",
       "        -153172.67856833, -399720.36373839, -181701.81048809,\n",
       "        -226113.26032749,  -88228.93385091, -189801.21770067,\n",
       "         -97281.71088874]])"
      ]
     },
     "execution_count": 91,
     "metadata": {},
     "output_type": "execute_result"
    }
   ],
   "source": [
    "# Gibt für jede Kategorie einen Wert zurück, dieser  vom zutreffendem ist am höchsten\n",
    "some_digit_score = sgd_clf.decision_function([some_digit])\n",
    "some_digit_score"
   ]
  },
  {
   "cell_type": "code",
   "execution_count": 92,
   "metadata": {},
   "outputs": [
    {
     "data": {
      "text/plain": [
       "1"
      ]
     },
     "execution_count": 92,
     "metadata": {},
     "output_type": "execute_result"
    }
   ],
   "source": [
    "np.argmax(some_digit_score)"
   ]
  },
  {
   "cell_type": "code",
   "execution_count": 93,
   "metadata": {},
   "outputs": [
    {
     "data": {
      "text/plain": [
       "array([ 0.,  1.,  2.,  3.,  4.,  5.,  6.,  7.,  8.,  9.])"
      ]
     },
     "execution_count": 93,
     "metadata": {},
     "output_type": "execute_result"
    }
   ],
   "source": [
    "# alle Kategorien\n",
    "sgd_clf.classes_"
   ]
  },
  {
   "cell_type": "code",
   "execution_count": 94,
   "metadata": {},
   "outputs": [
    {
     "name": "stderr",
     "output_type": "stream",
     "text": [
      "/home/nbuser/anaconda3_501/lib/python3.6/site-packages/sklearn/linear_model/stochastic_gradient.py:84: FutureWarning: max_iter and tol parameters have been added in <class 'sklearn.linear_model.stochastic_gradient.SGDClassifier'> in 0.19. If both are left unset, they default to max_iter=5 and tol=None. If tol is not None, max_iter defaults to max_iter=1000. From 0.21, default max_iter will be 1000, and default tol will be 1e-3.\n",
      "  \"and default tol will be 1e-3.\" % type(self), FutureWarning)\n"
     ]
    },
    {
     "data": {
      "text/plain": [
       "array([ 1.])"
      ]
     },
     "execution_count": 94,
     "metadata": {},
     "output_type": "execute_result"
    }
   ],
   "source": [
    "# möchte man sklearn eine andere Strategie aufzwingen, so kann man die Klassen OneVsOne bzw OneVsRestClassifier verwenden\n",
    "from sklearn.multiclass import OneVsOneClassifier\n",
    "ovo_clf = OneVsOneClassifier(SGDClassifier(random_state=42))\n",
    "ovo_clf.fit(X_train, y_train)\n",
    "ovo_clf.predict([some_digit])"
   ]
  },
  {
   "cell_type": "code",
   "execution_count": 96,
   "metadata": {},
   "outputs": [
    {
     "data": {
      "text/plain": [
       "45"
      ]
     },
     "execution_count": 96,
     "metadata": {},
     "output_type": "execute_result"
    }
   ],
   "source": [
    "len(ovo_clf.estimators_) # anzahl binärer Klassifikatoren"
   ]
  },
  {
   "cell_type": "code",
   "execution_count": 97,
   "metadata": {},
   "outputs": [
    {
     "data": {
      "text/plain": [
       "array([ 1.])"
      ]
     },
     "execution_count": 97,
     "metadata": {},
     "output_type": "execute_result"
    }
   ],
   "source": [
    "# Nun noch ein Beispiel mit einem RandomForestClassifier\n",
    "forest_clf.fit(X_train, y_train)\n",
    "forest_clf.predict([some_digit])"
   ]
  },
  {
   "cell_type": "code",
   "execution_count": 98,
   "metadata": {},
   "outputs": [
    {
     "data": {
      "text/plain": [
       "array([[ 0. ,  0.9,  0. ,  0. ,  0. ,  0. ,  0. ,  0.1,  0. ,  0. ]])"
      ]
     },
     "execution_count": 98,
     "metadata": {},
     "output_type": "execute_result"
    }
   ],
   "source": [
    "forest_clf.predict_proba([some_digit]) # ermittelt die Wahrscheinlichkeit für jede Kategorie"
   ]
  },
  {
   "cell_type": "code",
   "execution_count": 99,
   "metadata": {},
   "outputs": [
    {
     "data": {
      "text/plain": [
       "array([ 0.8744751 ,  0.85514276,  0.86437966])"
      ]
     },
     "execution_count": 99,
     "metadata": {},
     "output_type": "execute_result"
    }
   ],
   "source": [
    "# Kreuzvalidierung nach genauigkeit\n",
    "cross_val_score(sgd_clf, X_train, y_train, cv=3, scoring='accuracy')"
   ]
  },
  {
   "cell_type": "code",
   "execution_count": 101,
   "metadata": {},
   "outputs": [
    {
     "data": {
      "text/plain": [
       "array([ 0.9105179 ,  0.90949547,  0.90848627])"
      ]
     },
     "execution_count": 101,
     "metadata": {},
     "output_type": "execute_result"
    }
   ],
   "source": [
    "# Wenn wir die Eingaben skalieren erhalten wir ein viel besseres ergebnis\n",
    "from sklearn.preprocessing import StandardScaler\n",
    "scaler = StandardScaler()\n",
    "X_train_scaled = scaler.fit_transform(X_train.astype(np.float64))\n",
    "cross_val_score(sgd_clf, X_train_scaled, y_train, cv=3, scoring='accuracy')"
   ]
  },
  {
   "cell_type": "code",
   "execution_count": null,
   "metadata": {},
   "outputs": [],
   "source": []
  }
 ],
 "metadata": {
  "kernelspec": {
   "display_name": "Python 3",
   "language": "python",
   "name": "python3"
  },
  "language_info": {
   "codemirror_mode": {
    "name": "ipython",
    "version": 3
   },
   "file_extension": ".py",
   "mimetype": "text/x-python",
   "name": "python",
   "nbconvert_exporter": "python",
   "pygments_lexer": "ipython3",
   "version": "3.6.5"
  }
 },
 "nbformat": 4,
 "nbformat_minor": 2
}
