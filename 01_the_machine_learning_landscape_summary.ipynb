{
 "cells": [
  {
   "cell_type": "markdown",
   "metadata": {},
   "source": [
    "# Was ist Machine Learning?\n",
    "\n",
    "> Machine Learning ist die Wissenschaft, Computer so zu programmieren, dass sie anhand von Daten lernen.\n",
    "\n",
    "Gelernt wird mit Trainingsdaten(einem Trainingsdatensatz) wobei jedes Trainingsbeispiel auch Trainingsdatenpunkt-/Instanz genannt wird"
   ]
  },
  {
   "cell_type": "markdown",
   "metadata": {},
   "source": [
    "# Warum wird ML verwendet?\n",
    "\n",
    "ML wird verwendet, wenn:\n",
    "* die Aufgabe zu komplex für herkömmliche Aufgaben ist  \n",
    "* eine Menge Handarbeit und lange Regeln geschrieben werden müssten\n",
    "* kein bekannter Algorithmus für diese Aufgabe existert\n",
    "* die Aufgabe mit sich stark verändernden Daten beschäftigt(ML ist Anpassungsfähig)\n",
    "* man riesige Datenmengen besitzt und daraus  erkenntnisse gewinnen soll.(auch hier ist die Aufgabenstellung komplex)"
   ]
  },
  {
   "cell_type": "markdown",
   "metadata": {},
   "source": [
    "# Arten von ML\n",
    "\n",
    "Es wird unterschieden nach:\n",
    "* Überwachtes, unüberwachtes und halbüberwachtes Lernen sowie Reinforcement Learning\n",
    "* ständig dazu lernen(Online-learning) oder nicht(Batch-Learning)\n",
    "* Vergleicht der Algorithmus neue Datenpunkte mit bereits bekannten oder erkenner er Muster in den Daten"
   ]
  },
  {
   "cell_type": "markdown",
   "metadata": {},
   "source": [
    "## Überwachtes Lernen\n",
    "\n",
    "Die Trainingsdaten sind **gelabelt**(sie enthalten die gewünschten Lösungen)\n",
    "\n",
    "### Beispiele\n",
    "\n",
    "* Spamfilter -> **Klassifikation**\n",
    "* Vorhersagen eine Preises(nummerische Grösse) aufgrund von Merkmalen(**Prädikatoren**) -> **Regression**\n",
    "\n",
    "\n",
    "### Algorithmen\n",
    "\n",
    "* **k-nearest-Neighbors**\n",
    "* **linear Regression**\n",
    "* **logistic Regression**\n",
    "* **Support Vector Machines**\n",
    "* **decision trees / random forests**\n",
    "* **neural networks**"
   ]
  },
  {
   "cell_type": "markdown",
   "metadata": {},
   "source": [
    "## Unüberwachtes Lernen\n",
    "\n",
    "Es wird versucht ohne Anleitung zu lernen. Die Daten sind nicht gelabelt.\n",
    "\n",
    "### Beispiele\n",
    "\n",
    "* Visualisierung -> Um grosse Datenmengen zu verstehen\n",
    "* Clustering -> Einteilung anhand von grossen Datenmengen vornehmen\n",
    "* Erkennen von Anomalien\n",
    "    * Abfangen von Produktionsfehlern und entfernen von Ausreissern in Datensätzen\n",
    "* Lernen von Assoziationsregeln\n",
    "\n",
    "### Algorithmen\n",
    "\n",
    "* **Clustering**\n",
    "    * k-Means\n",
    "    * hierarchical Cluster Analysis -> HCA\n",
    "    * Expectaiton Maximation\n",
    "* Visualizing and Dimensionreduction\n",
    "    * Principal component analysis -> PCA\n",
    "    * Kernel PCA\n",
    "    * locally-linear Embedding(LLE)\n",
    "    * t-distributed stochastic neighbor embedding\n",
    "* learning with assoziation rules\n",
    "    * apriori\n",
    "    * eclat\n",
    "\n",
    "### Dimensionsreduktion\n",
    "\n",
    "Die Daten vereinfachen, ohne Informationen zu verlieren.  \n",
    "Auch **Extraktion von Merkmalen** genannt.\n"
   ]
  },
  {
   "cell_type": "markdown",
   "metadata": {},
   "source": [
    "## Halbüberwachtes Lernen\n",
    "\n",
    "Der Grossteil der Trainingsdaten sind **nichtt** gelabelt, der kleine Teil dafür.\n",
    "Meist sind halbüberwachte Algorithmen Mischungen aus Überwachten- und Unüberwachten Algorithmen, diese werden einfach kobiniert für ein besseres Resultat.\n",
    "\n",
    "### Beispiele\n",
    "\n",
    "* Google Photots erkennt mithilfe eines unüberwachten lernens, dass eine Person auf mehreren Fotos sichtbar ist. Aber um zu lernen, wie diese Person heisst, braucht es mindestens einen gelabelten Datensatz mit dem Namen.\n",
    "\n",
    "### Algorithmen\n",
    "\n",
    "* Wie bereits erwähnt, sind dies meist Kombinationen von Überwachtem- und Unüberwachtem Lernen.\n"
   ]
  },
  {
   "cell_type": "markdown",
   "metadata": {},
   "source": [
    "## Reinforcement Learning / Verstärkendes Lernen\n",
    "\n",
    "Der **Agent** hat verschiedene Möglichkeiten zu handeln.  \n",
    "Diese führt er aus und wird danach **belohnt oder bestraft**(mit negativen Belohnungen).  \n",
    "Durch diese Erfahrungen kann der Agent seine **Policy/Strategie** anpassen und weiss das nächste mal, welches die richtige Entscheidung ist.  \n"
   ]
  },
  {
   "cell_type": "markdown",
   "metadata": {},
   "source": [
    "# Batch Learning\n",
    "\n",
    "Beim Batch-Lernen wird das System mit allen verfügbaren Daten trainiert und danach kann es verwendet werden.  \n",
    "Ein solches System kann allerding nicht mit neuen Daten gefüttert/erweitert werden.  \n",
    "Wenn das System trotzdem mit neuen Trainingsdaten erweitert werden soll, so muss es nochmals mit allen alten **und** den neuen Trainingsdaten trainiert werden.  \n",
    "Dies benötigt sehr viel ressource, kann teuer werden und das trainierte System ist nicht anpassungsfähig.\n",
    "\n",
    "# Online Learning\n",
    "\n",
    "Die Trainingsdaten werden als erstes in kleine Stücke(batches) aufgeteilt, welche dann nacheinander trainiert werden und nach dem Training verworfen werden können, ausser man möchte einen alten Zustand wiederherstellen können.  \n",
    "Das Aufteilen wird auch **out-of-core-lernen** genannt. Es werden weniger Ressourcen als beim Batch-Lernen benötigt.  \n",
    "\n",
    "Ein Vorteil hier ist auch, das das System anpassungsfähig an neue Daten ist.  \n",
    "Die Anpassungsfähigkeit kann eingestellt werden mithilfe einer **Lernrate**.\n",
    "Eine hohe Lernrate führt dazu, dass neues schnell angewendet und altes schnell vergessen wird.  \n",
    "Eine tiefe sorgt im Gegenzug für eine gewisse Trägheit des System.  \n",
    "\n",
    "Bei einer hohen Lernrate ist Vorsicht geboten, da Anomalien oder gefälschte Trainingsdaten die Qualität beeinflussen. Ein solches System sollte überwacht werden oder Anomalien zuvor entfernt werden."
   ]
  },
  {
   "cell_type": "markdown",
   "metadata": {},
   "source": [
    "# Instanzbasiertes Lernen\n",
    "\n",
    "Das System wird mit den Trainingsdaten trainiert und lernt diese dadurch \"Auswendig\".  \n",
    "Zusätzlich wird ein **Ähnlichkeitsmass** festgelegt. -> Bei **k-nearest-Neighbors** etwa die Anzahl Nachbarn **k**.  \n",
    "Mit diesen zwei Dingen kann Verallgemeinert werden und neue Datensätze können vorhergesagt werden.(aufgrund der Ähnlichkeit mit bereits Trainierten Daten).\n",
    "\n",
    "# Modellbasiertes Lernen\n",
    "\n",
    "Das System versucht aus den Trainingsdaten ein Modell zu erstellen, welches auf möglichst alle Trainingsdaten möglichst gut zutrifft. Dieses Modell kann etwa eine lineare Gleichung sein. Neue Datensätze können in die Gleichung eingesetzt und somit vorhergesagt werden. Ein Beispiel ist die **Lineare Regression**.  \n",
    "Die beste Gleichung wird durch den Algorithmus ermittelt.\n",
    "\n",
    "Der Algorithmus muss die Gleichung anhand der Trainingsdaten verbessern. Dazu muss er erst in der Lage sein die **Leistung der aktuellen Gleichung** zu messen.  \n",
    "Dies wird mit einer  \n",
    "* **Kostenfunktion** -> Wie schlecht ist das Modell?  \n",
    "* Oder mit einer **Nutzenfunktion** -> Wie gut ist das Modell? /Güte des Modells\n",
    "\n",
    "geprüft.\n",
    "\n",
    "## Lineare Gleichung\n",
    "\n",
    "Die Parameter **m** und **q** werden ermittelt um für **x** eine Vorhersage **y** zu treffen.  \n",
    "$y=mx+q$  \n",
    "$y=\\Theta_0*x+\\Theta_1$  \n",
    "Im ML wird für die Parameter **m** und **q** der griechische Buchstabe **$\\Theta$** verwendet.  "
   ]
  },
  {
   "cell_type": "markdown",
   "metadata": {},
   "source": [
    "# Erstes Beispiel"
   ]
  },
  {
   "cell_type": "code",
   "execution_count": 47,
   "metadata": {},
   "outputs": [],
   "source": [
    "import matplotlib\n",
    "import matplotlib.pyplot as plt\n",
    "import numpy as np\n",
    "import pandas as pd\n",
    "from sklearn import linear_model, neighbors"
   ]
  },
  {
   "cell_type": "code",
   "execution_count": 48,
   "metadata": {},
   "outputs": [],
   "source": [
    "def prepare_country_stats(satisfaction, bipp):\n",
    "    satisfaction = satisfaction[satisfaction[\"INEQUALITY\"]==\"TOT\"]\n",
    "    satisfaction = satisfaction.pivot(index=\"Country\", columns=\"Indicator\", values=\"Value\")\n",
    "    bipp.rename(columns={\"2015\": \"BIPP\"}, inplace=True)\n",
    "    bipp.set_index(\"Country\", inplace=True)\n",
    "    full_country_stats = pd.merge(left=satisfaction, right=bipp,\n",
    "                                  left_index=True, right_index=True)\n",
    "    full_country_stats.sort_values(by=\"BIPP\", inplace=True)\n",
    "    remove_indices = [0, 1, 6, 8, 33, 34, 35]\n",
    "    keep_indices = list(set(range(36)) - set(remove_indices))\n",
    "    return full_country_stats[[\"BIPP\", 'Life satisfaction']].iloc[keep_indices]"
   ]
  },
  {
   "cell_type": "code",
   "execution_count": 49,
   "metadata": {},
   "outputs": [],
   "source": [
    "import os\n",
    "datapath = os.path.join(\"datasets\", \"lifesat\", \"\")"
   ]
  },
  {
   "cell_type": "code",
   "execution_count": 50,
   "metadata": {},
   "outputs": [],
   "source": [
    "#Laden der Daten\n",
    "satisfaction = pd.read_csv(datapath+'oecd_bli_2015.csv', thousands=',')\n",
    "bipp = pd.read_csv(datapath +'gdp_per_capita.csv', thousands=',', delimiter='\\t', encoding='latin1', na_values='n/a')"
   ]
  },
  {
   "cell_type": "code",
   "execution_count": 51,
   "metadata": {},
   "outputs": [],
   "source": [
    "#Vorbereiten der Daten\n",
    "country_stats = prepare_country_stats(satisfaction, bipp)\n",
    "x = np.c_[country_stats['BIPP']]\n",
    "y = np.c_[country_stats['Life satisfaction']]"
   ]
  },
  {
   "cell_type": "code",
   "execution_count": 52,
   "metadata": {},
   "outputs": [
    {
     "data": {
      "image/png": "[encoded data removed]",
      "text/plain": [
       "<Figure size 432x288 with 1 Axes>"
      ]
     },
     "metadata": {},
     "output_type": "display_data"
    }
   ],
   "source": [
    "#Visualisieren\n",
    "country_stats.plot(kind='scatter', x='BIPP', y='Life satisfaction')\n",
    "plt.show()"
   ]
  },
  {
   "cell_type": "code",
   "execution_count": 53,
   "metadata": {},
   "outputs": [],
   "source": [
    "#Asuwahl des Algorithmus\n",
    "#Modelbasiert\n",
    "#model = linear_model.LinearRegression()\n",
    "#Instanzbasiert\n",
    "model = neighbors.KNeighborsRegressor()"
   ]
  },
  {
   "cell_type": "code",
   "execution_count": 54,
   "metadata": {},
   "outputs": [
    {
     "data": {
      "text/plain": [
       "KNeighborsRegressor(algorithm='auto', leaf_size=30, metric='minkowski',\n",
       "          metric_params=None, n_jobs=1, n_neighbors=5, p=2,\n",
       "          weights='uniform')"
      ]
     },
     "execution_count": 54,
     "metadata": {},
     "output_type": "execute_result"
    }
   ],
   "source": [
    "model.fit(x, y)"
   ]
  },
  {
   "cell_type": "code",
   "execution_count": 46,
   "metadata": {},
   "outputs": [
    {
     "name": "stdout",
     "output_type": "stream",
     "text": [
      "[[5.82]]\n"
     ]
    }
   ],
   "source": [
    "#Vorhersage treffen\n",
    "x_new = [[25000]]# Pro kopf BIP für Zypern\n",
    "print(model.predict(x_new))"
   ]
  },
  {
   "cell_type": "markdown",
   "metadata": {},
   "source": [
    "# Schlechte Daten: Müll rein -> Müll raus\n",
    "\n",
    "* Zu wenig Trainingsdaten\n",
    "* Nicht repräsentative Trainingsdaten\n",
    "* Minderwertige Daten\n",
    "* Irrevelante Merkmale\n",
    "\n",
    "## Zu wenig Trainingsdaten\n",
    "Hat man sehr viele Trainingsdaten zur verfügung, dann können primitive Algorithmen ähnlich gut Vorhersagen wie komplexe Algorithmen. Dies zeigt, wie wichtig die Menge an Trainingsdaten ist.  \n",
    "Allerdings sollte man die Algorithmen trotzdem nicht ausser Acht lassen, denn auch sie spielen noch eine Rolle, gerade, wenn nicht viele Trainingsdaten zur verfügung stehen.  \n",
    "\n",
    "## Nicht repsäsentative Trainingsdaten\n",
    "Die Trainingsdaten sollten mit Vorsicht erhoben werden. Etwa bei einer Umfrage über das Kaufverhalten muss darauf geachtet werden, dass alle Demografischen Gruppen befragt werden, und von allen auch eine grosse Menge.\n",
    "\n",
    "## Minderewertige Daten\n",
    "Die Daten können lückenhaft sein oder Ausreisser enthalten. Diese sollten korrigiert oder entfernt werden.  \n",
    "Man könnte aber auch zwei Systeme trainieren, 1x mit den lückenhaften Daten und 1x ohne...\n",
    "\n",
    "## Irrevelante Merkmale\n",
    "* Die Merkmale sollten sorgfältig ausgewählt werden, da das System aus wesentlichen/aussagekräftigen Merkmalen lernen soll.  \n",
    "* Die Merkmale könnten etwa mit Dimensionsreduktion extrahiert werden\n",
    "* Neue Merkmale könnten erhoben werden."
   ]
  },
  {
   "cell_type": "markdown",
   "metadata": {},
   "source": [
    "# Schlechter Algorithmus\n",
    "* Overfitting\n",
    "* Underfitting\n",
    "\n",
    "## Overfitting\n",
    "Wie Menschen, so können auch Maschinen zu einer **übermässigen Verallgemeinerung** neigen, dies nennt man **Overfitting**.  \n",
    "Bei ML tritt dies unter folgenden Bedingungen auf:\n",
    "1. Zu komplexes Modell angesichts der Trainingsdaten:  \n",
    "   * Zu komplex bedeutet z.B, dass zu viele Parameter erwartet werden.\n",
    "* Zu wenig Trainingsdaten\n",
    "* Zu viel Rauschen und Ausreisser(Anomalien) in den Trainingsdaten\n",
    "\n",
    "Dem ersten kann man entgegewirken, indem man ein einfacheres Modell wählt oder man legt dem Modell Restriktionen auf, dies nennt man **Regularisieren**.  \n",
    "\n",
    "$y=mx+q$  \n",
    "$y=\\Theta_0*x+\\Theta_1$\n",
    "\n",
    "Man stelle sich nun vor, man würde $\\Theta_1=0$ setzen, dann wäre das Modell vereinfacht, da sich nur noch $\\Theta_0$ anpassen kann beim Trainieren.  \n",
    "Man spricht hier auch von **Freiheitsgraden**. Statt zwei Freiheitsgraden besitzt das Modell jetzt nur noch einen.  \n",
    "Würde man $\\Theta_1$ nicht gleich $0$ setzen, aber trotzdem einen kleinen Wert erzwingen, so hätte das Modell zwischen 1 und 2 Freiheitsgraden.  \n",
    "\n",
    "Um diese Regularisierung vorzunehmen, wendet man einen **Hyperparameter** auf die **Trainingsdaten**(nicht das Modell!) an. Dieser Hyperparameter bleibt konstant.  \n",
    "Ein grosser Hyperparameter verhindert zwar Overfitting, reduziert aber auch die Leistung des Systems.  \n",
    "\n",
    "## Underfitting\n",
    "\n",
    "Der Gegenzug von Overfitting ist Underfitting. Ursachen:\n",
    "* Das Modell ist zu einfach für die Realität oder:\n",
    ">Die Realität ist komplexer als das Modell\n",
    "\n",
    "Man kann dies Beheben indem man ein komplexeres Modell wählt, welches auch fähig ist die in den Daten enthaltene Sruktur zu lernen, oder man verringert die Restriktionen des Modells(z.B. Hyperparameter verkleinern).  \n"
   ]
  },
  {
   "cell_type": "markdown",
   "metadata": {},
   "source": [
    "# Testen und Validieren\n",
    "\n",
    "Um die Leistung(Wie gut verallgemeinert ein trainiertes Modell auf neue Datenpunkte) zu evaluieren testet man das Modell mit neuen Datenpunkten. Die Abweichung bei diesen neuen Datenpunkten nennt man **out-of-sample-error**.  \n",
    "\n",
    "Die Daten aufteilen:  \n",
    "80% Trainingsdaten  \n",
    "20% Testdaten  \n",
    "\n",
    "\n",
    "Man möchte den Besten Hyperparameter für ein Modell ermitteln.  \n",
    "Vorgehen:  \n",
    "1. Testdaten und Trainingsdaten festlegen\n",
    "* Die Trainingsdaten werden in komplementäre Untermengen eingeteilt(Trainingsdaten und Validierungsdaten).\n",
    "* Jedes Modell wird mit einer anderen Kombination dieser Untermengen trainiert\n",
    "* Und mit den restlichen Validiert\n",
    "* Das am Besten abschneidende Modell wird nun mit den Testdaten getestet um den **Verallgemeinerungsfehler** festzulegen.\n",
    "\n",
    "## No-Free-Lunch-Theorem\n",
    "Um zu bestimmen ob ein Modell \"besser oder schlechter\" ist als ein anderes, so muss zwingend eine Annahme über die Daten getroffen werden. Ohne eine Annahme über die Daten sind alle Modelle gleich gut/schlecht geeignet.  \n",
    ">Kein Modell ist a priori(ohne weitere Beweise, hier eine Annahme über die Daten) besser als ein anderes."
   ]
  },
  {
   "cell_type": "markdown",
   "metadata": {},
   "source": [
    "# Übungen\n",
    "\n",
    "**Wie würden sie ML definieren?**  \n",
    ">ML bedeutet Maschinen aus Daten lernen zu lassen um Vorhersagen zu treffen.\n",
    "\n",
    "**Können sie vier Arten von Aufgaben nennen, für die Machine Learning geeignet ist?\n",
    ">1. Bilder klassifizieren  \n",
    "* Preis eines Produktes anhand seiner Merkmale bestimmen\n",
    "* Einem Auto das Fahren beibringen\n",
    "* Die Kunden in Kategorien einordnen\n",
    "\n",
    "**Was ist ein gelabelter Trainingsdatensatz?**\n",
    "> Trainingsdaten mit den erwarteten Lösungen, also den erwünschten Ergebnissen.  \n",
    "z.B. Bilder welches Klassifiziert werden soll, enthalten zusätzlich die Stichworte von dem was darauf abgebildet ist.  \n",
    "\n",
    "**Was sind die zwei verbreitetesten Aufgaben beim überwachten Lernrn?**\n",
    ">1. Spamfilter für Emails\n",
    "* Preisvorhersagen aufgrund von Merkmalen\n",
    "\n",
    "**Können sie vier verbreitete Aufgaben für unüberwachtes Lernen nennen?**\n",
    ">1. Erkennen von Anomalien, etwa in Kreditkartentransaktionen\n",
    "* Erkennung von Assoziationen in riesigen Datenmengen, vielleicht sieht ein Modell mehr oder anderes als Menschen\n",
    "* Visualisierung von riesigen Datenmengen in 2d, oder 3d Diagrammen.\n",
    "* Clustering, Einteilungen anhand grosser Daten vornehmen\n",
    "\n",
    "**Was für einen ML-Algorithmus würden sie verewnden um einen Roboter über verschiedene Unbekannte Oberflächen laufen zu lassen?**\n",
    ">Einen Reinforcement-Learning Algorithmus eignet sich dazu, da er nicht direkt etwas vorhersagen muss, sondern eine Strategie lernen muss.\n",
    "\n",
    "**Welche Art Algorithmus würden sie verwenden, um  Ihre Kunden in unterschiedliche Gruppen einzuteilen?**\n",
    ">Einen Clustering oder hierarchischen Clustering Algorithmus.\n",
    "\n",
    "**Würden sie die Aufgabe, Spam zu erkennen, als überwachte oder unüberwachte Lernaufgabe einstufen?**\n",
    ">Als überwachte, das Modell soll mit bereits gelabelten E-Mails trainiert werden.\n",
    "\n",
    "**Was ist ein Online-Lernsystem?**\n",
    ">Ein System, bei welchem ständig neue Datensätze dazu trainiert werden können. Es ist Anpassungsfähig. Die Lernrate bestimmt ob das System träge sein soll oder sich schnell an die neuen Daten anpassen soll.\n",
    "\n",
    "**Was ist Out-of-Core-Lernen?**\n",
    ">Dies kann bei einem Online-Lernsystem angewendet werden. Wenn die Trainingsdaten zu gross sind um sie alle im Hauptspeicher zu halten, so wird der Trainingsdatensatz in kleine Einheiten(Batches) eingeteilt, welche dann nacheinander in den Hauptspeicher geladen, trainiert und verworfen werden.\n",
    "\n",
    "**Welche Art Lernalgorithmus beruht auf einem Ähnlichkeitsmass, um Vorhersagen zu treffen?**\n",
    ">Der k-nearest-Neighbors Algorithmus. Er ist ein überwachter Lernalgorithmus.\n",
    "\n",
    "**Was ist der Unterschied zwischen einem Modellparameter und einem Hyperparameter eines Lernalgorithmus?**\n",
    ">1. Der Modellparameter wird während des Trainigs auf das Modell angewendet. Die Modellparameter passen sich während des Lernprozesses an. Dies ist das eigentliche Lernen.\n",
    "* Der Hyperparameter wird vor dem Training auf alle Trainingsdaten angewendet und kommt nie mit dem Modell selber in Berührung, er ist ausserdem konstant.\n",
    "\n",
    "**Wonach suchen modelbasierte Lernalgorithmen? Welches ist die häufigste Strategie, die zum Erfolg führt? Wie treffen sie Vorhersagen?**\n",
    ">Sie suchen nach einem Modell, welches Bestmöglich verallgemeinert und somit gute Vorhersagen auf neue unbekannte Daten treffen kann. Das Modell ist eine Gleichung mit verschiedenen trainierten Parametern, wird nun ein neuer Datensatz eingespeisst, so rechnet es aus $x$ das $y$ aus. Beim trainieren wird ständig die Leistung mithilfe einer Kosten- oder Nutzenfunktion(meist ersteres) gemessen und die Parameter des Modell werden angepasst, um die Leistung bestmöglich zu steigern.\n",
    "\n",
    "**Können sie vier der wichtigsten Herausforderungen beim ML bennenen?**\n",
    ">1. Overfitting/Underfitting\n",
    "* Zu wenig Trainingsdaten\n",
    "* Nicht repräsentative Trainingsdaten\n",
    "* Irrelevante Merkmale\n",
    "\n",
    "**Welches Problem liegt vor, wenn ihr Modell auf den Trainigsdaten ein sehr gute leistung erbringt, aber schlecht auf neue Daten verallgemeinert? Nennen sie drei Lösungsansätze**\n",
    ">Das Problem ist Overfitting.\n",
    "1. Ein einfacheres Modell wählen\n",
    "* Regularisieren mithilfe von Hyperparametern\n",
    "* Mehr Trainingsdaten beschaffen.\n",
    "\n",
    "**Was ist ein Testdatensatz, und warum sollte man einen verwenden?**\n",
    ">Das Modell wurde mit Trainingsdaten trainiert und wird mit diesen eine sehr hohe Leistung erzielen, allerdings ist diese nicht Repräsentativ. Die Testdaten werden verwendet um die Leistung eines Modells zu bestimmen, da sie für das Modell noch unbekannt sind und wie neue reale Daten wirken.\n",
    "\n",
    "**Was ist der Zweck eines Validierungsdatensatzes?**\n",
    ">Er hilft, aus verschiedenen Varianten/Modellen das Beste auszusuchen. Er wird aber nicht zur Bestimmung der Leistung eines Modells verwendet.\n",
    "\n",
    "**Was kann schiefgehen, wenn sie Hyperparameter mithilfe der Testdaten einstellen?**\n",
    ">Der Hyperparameter wird dann so eingestelt, dass er zwar auf diese Testdaten eine Höchstleistung erzielt. Aber das Modell kann deswegen nicht gut verallgemeinern und wird auf neue Datensätze eine weniger gute Leistung erzielen.\n",
    "\n",
    "**Was ist Kreuzvalidierung, und warum sollten Sie diese einem Validierungsdatensatz vorziehen?**\n",
    ">Dies ist ein Vorgehen um Modelle miteinander zu vergleichen, ohne das weitere Daten benötigt werden.\n",
    "\n"
   ]
  }
 ],
 "metadata": {
  "kernelspec": {
   "display_name": "Python 3",
   "language": "python",
   "name": "python3"
  },
  "language_info": {
   "codemirror_mode": {
    "name": "ipython",
    "version": 3
   },
   "file_extension": ".py",
   "mimetype": "text/x-python",
   "name": "python",
   "nbconvert_exporter": "python",
   "pygments_lexer": "ipython3",
   "version": "3.6.4"
  }
 },
 "nbformat": 4,
 "nbformat_minor": 2
}
