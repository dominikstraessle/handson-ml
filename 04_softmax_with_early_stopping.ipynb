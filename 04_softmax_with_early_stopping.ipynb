{
 "cells": [
  {
   "cell_type": "markdown",
   "metadata": {},
   "source": [
    "# Early-Stopping für Softmax-Regression\n",
    "Implementieren sie das Batch-Gradientenverfahren mit Early Stopping für die Softmax-Regression (ohne Scikit-Learn)"
   ]
  },
  {
   "cell_type": "code",
   "execution_count": 5,
   "metadata": {},
   "outputs": [],
   "source": [
    "import numpy as np\n",
    "import matplotlib.pyplot as plt\n",
    "%matplotlib inline"
   ]
  },
  {
   "cell_type": "code",
   "execution_count": 10,
   "metadata": {},
   "outputs": [],
   "source": [
    "from sklearn.datasets import load_iris\n",
    "\n",
    "iris = load_iris()"
   ]
  },
  {
   "cell_type": "code",
   "execution_count": 12,
   "metadata": {},
   "outputs": [
    {
     "data": {
      "text/plain": [
       "dict_keys(['data', 'target', 'target_names', 'DESCR', 'feature_names'])"
      ]
     },
     "execution_count": 12,
     "metadata": {},
     "output_type": "execute_result"
    }
   ],
   "source": [
    "iris.keys()"
   ]
  },
  {
   "cell_type": "code",
   "execution_count": 85,
   "metadata": {},
   "outputs": [
    {
     "name": "stdout",
     "output_type": "stream",
     "text": [
      "(150,)\n"
     ]
    },
    {
     "data": {
      "text/plain": [
       "array([0, 0, 0])"
      ]
     },
     "execution_count": 85,
     "metadata": {},
     "output_type": "execute_result"
    }
   ],
   "source": [
    "# [classes]\n",
    "y = iris['target']\n",
    "print(y.shape)\n",
    "y[:3]"
   ]
  },
  {
   "cell_type": "code",
   "execution_count": 86,
   "metadata": {},
   "outputs": [
    {
     "name": "stdout",
     "output_type": "stream",
     "text": [
      "(150, 2)\n"
     ]
    },
    {
     "data": {
      "text/plain": [
       "array([[1.4, 0.2],\n",
       "       [1.4, 0.2],\n",
       "       [1.3, 0.2]])"
      ]
     },
     "execution_count": 86,
     "metadata": {},
     "output_type": "execute_result"
    }
   ],
   "source": [
    "# [['petal length', 'petal width']]\n",
    "X = iris['data'][:, (2,3)]\n",
    "print(X.shape)\n",
    "X[:3]"
   ]
  },
  {
   "cell_type": "code",
   "execution_count": 87,
   "metadata": {},
   "outputs": [],
   "source": [
    "eta = 0.1\n",
    "n_iter = 1000\n",
    "m = len(X)"
   ]
  },
  {
   "cell_type": "markdown",
   "metadata": {},
   "source": [
    "**Softmax-Score für Kategorie k**  \n",
    "$$s_k(x) = (\\theta^{(k)})^T*x$$"
   ]
  },
  {
   "cell_type": "code",
   "execution_count": 182,
   "metadata": {},
   "outputs": [
    {
     "name": "stdout",
     "output_type": "stream",
     "text": [
      "(3, 2)\n"
     ]
    },
    {
     "data": {
      "text/plain": [
       "array([[ 1.19316014,  1.02315672],\n",
       "       [-0.18731305,  1.31154586],\n",
       "       [ 0.58644648, -0.31855708]])"
      ]
     },
     "execution_count": 182,
     "metadata": {},
     "output_type": "execute_result"
    }
   ],
   "source": [
    "theta = np.random.randn(3, 2)\n",
    "print(theta.shape)\n",
    "theta"
   ]
  },
  {
   "cell_type": "code",
   "execution_count": 92,
   "metadata": {},
   "outputs": [
    {
     "data": {
      "text/plain": [
       "(150, 2)"
      ]
     },
     "execution_count": 92,
     "metadata": {},
     "output_type": "execute_result"
    }
   ],
   "source": [
    "X.shape"
   ]
  },
  {
   "cell_type": "code",
   "execution_count": 93,
   "metadata": {},
   "outputs": [
    {
     "name": "stdout",
     "output_type": "stream",
     "text": [
      "(150, 3)\n"
     ]
    },
    {
     "data": {
      "text/plain": [
       "array([[ 0.15274993, -0.64130152,  0.23222408],\n",
       "       [ 0.15274993, -0.64130152,  0.23222408]])"
      ]
     },
     "execution_count": 93,
     "metadata": {},
     "output_type": "execute_result"
    }
   ],
   "source": [
    "#softmax-score für jeden datenpunkt und jede kategorie\n",
    "# [\n",
    "# [cat1, cat2], -> erster Datenpunkt\n",
    "# [cat1, cat2] -> zweiter Datenpunkt\n",
    "#]\n",
    "score = []\n",
    "for row in X:\n",
    "    row_score = []\n",
    "    for cat in theta:\n",
    "        cat_score = cat.T.dot(row)\n",
    "        row_score.append(cat_score)\n",
    "    score.append(row_score)\n",
    "score = np.array(score)\n",
    "print(score.shape)\n",
    "score[:2]"
   ]
  },
  {
   "cell_type": "markdown",
   "metadata": {},
   "source": [
    "**Softmax-Funktion**  \n",
    "$$\\hat p_k = \\sigma(s(x())_k = \\frac{exp(s_k(x))}{\\sum_{j=1}^Kexp(s_j(x))}$$\n",
    "* $K$ ist die Anzahl der Kategorien\n",
    "* $s(x)$ ist ein Vektor der die Scores jeder Kategorie für den Datenpunkt x enthält\n",
    "* $\\sigma(s(x))_k$ ist die anhand der Sores geschätze Wahrscheinlichkeit dafür, dass der Datenpunkt $x$ zur Kategorie $k$ gehört."
   ]
  },
  {
   "cell_type": "code",
   "execution_count": 160,
   "metadata": {},
   "outputs": [
    {
     "name": "stdout",
     "output_type": "stream",
     "text": [
      "(150, 3)\n"
     ]
    },
    {
     "name": "stderr",
     "output_type": "stream",
     "text": [
      "/opt/conda/lib/python3.6/site-packages/ipykernel_launcher.py:6: RuntimeWarning: invalid value encountered in double_scalars\n",
      "  \n"
     ]
    },
    {
     "data": {
      "text/plain": [
       "array([[ 0., nan,  0.],\n",
       "       [ 0., nan,  0.]])"
      ]
     },
     "execution_count": 160,
     "metadata": {},
     "output_type": "execute_result"
    }
   ],
   "source": [
    "softmax = []\n",
    "for p in score:\n",
    "    p_softmax = []\n",
    "    cat_score_sum = np.sum([np.exp(cat_score) for cat_score in p])\n",
    "    for cat_score in p:\n",
    "        cat_softmax = np.exp(cat_score) / cat_score_sum\n",
    "        p_softmax.append(cat_softmax)\n",
    "    softmax.append(p_softmax)\n",
    "softmax = np.array(softmax)\n",
    "print(softmax.shape)\n",
    "softmax[:2]"
   ]
  },
  {
   "cell_type": "markdown",
   "metadata": {},
   "source": [
    "**Vorhersage eines Klassifikators mit Softmax-Regression**  \n",
    "$$\\hat y = argmax \\sigma(s(x))_k = argmax s_k(x) = argmax ((\\theta^{(k)})^T * x))$$\n",
    "* Der Operator argmax liefert den Wert einer Variable, der eine Funktion maximiert. Hier liefert er denjenigen Wert für $k$, für den die geschätzte Wahrscheinlichkeit $\\sigma(s(x))_k$ maximal wird"
   ]
  },
  {
   "cell_type": "code",
   "execution_count": 98,
   "metadata": {},
   "outputs": [
    {
     "name": "stdout",
     "output_type": "stream",
     "text": [
      "(150,)\n"
     ]
    },
    {
     "data": {
      "text/plain": [
       "array([2, 2])"
      ]
     },
     "execution_count": 98,
     "metadata": {},
     "output_type": "execute_result"
    }
   ],
   "source": [
    "probas = []\n",
    "for proba in softmax:\n",
    "    probas.append(np.argmax(proba))\n",
    "probas = np.array(probas)\n",
    "print(probas.shape)\n",
    "probas[:2]"
   ]
  },
  {
   "cell_type": "markdown",
   "metadata": {},
   "source": [
    "**Kreuzentropie als Kostenfunktion**  \n",
    "$$J(\\Theta) = -\\frac{1}{m}\\sum_{i=1}^m\\sum_{k=1}y_k^{(i)}log(\\hat p_k^{(i)})$$\n",
    "* $y_k^{(i)}$ ist gleich 1, wenn die Zielkategorie des $i^{ten}$ Datenpunkts $k$ ist, sonst 0."
   ]
  },
  {
   "cell_type": "markdown",
   "metadata": {},
   "source": [
    "**Gradientenvektor der Kreuzentropie für Kategorie k**  \n",
    "$$\\nabla_{\\theta}J(\\Theta) = \\frac{1}{m}\\sum_{i=1}^m(\\hat p_k^{(i)} - y_k^{(i)})x^{(i)}$$"
   ]
  },
  {
   "cell_type": "code",
   "execution_count": 118,
   "metadata": {},
   "outputs": [
    {
     "name": "stdout",
     "output_type": "stream",
     "text": [
      "(3, 2)\n",
      "(150,)\n",
      "(150, 3)\n",
      "(150, 3)\n",
      "(150, 2)\n",
      "(150,)\n"
     ]
    }
   ],
   "source": [
    "print(theta.shape, probas.shape, softmax.shape, score.shape, X.shape, y.shape, sep='\\n')"
   ]
  },
  {
   "cell_type": "code",
   "execution_count": 134,
   "metadata": {},
   "outputs": [
    {
     "name": "stdout",
     "output_type": "stream",
     "text": [
      "(150, 3)\n"
     ]
    },
    {
     "data": {
      "text/plain": [
       "array([[1, 0, 0],\n",
       "       [1, 0, 0],\n",
       "       [1, 0, 0]])"
      ]
     },
     "execution_count": 134,
     "metadata": {},
     "output_type": "execute_result"
    }
   ],
   "source": [
    "one = y == 0\n",
    "two = y == 1\n",
    "three = y == 2\n",
    "y_new = np.array([one,two,three]).astype(np.int).T\n",
    "print(y_new.shape)\n",
    "y_new[:3]"
   ]
  },
  {
   "cell_type": "code",
   "execution_count": 151,
   "metadata": {},
   "outputs": [],
   "source": [
    "# Training\n",
    "for epoch in range(1000):\n",
    "    for i, cat_theta in enumerate(theta):\n",
    "        bla = 1 / m * np.sum((softmax[:,i] - y_new[:,i]).dot(X))\n",
    "        theta[i] = cat_theta - eta * bla"
   ]
  },
  {
   "cell_type": "code",
   "execution_count": 152,
   "metadata": {},
   "outputs": [
    {
     "data": {
      "text/plain": [
       "array([[-557.97624485, -556.32278686],\n",
       "       [ 705.74726961,  704.00753978],\n",
       "       [-148.1389498 , -146.39091518]])"
      ]
     },
     "execution_count": 152,
     "metadata": {},
     "output_type": "execute_result"
    }
   ],
   "source": [
    "theta"
   ]
  },
  {
   "cell_type": "markdown",
   "metadata": {},
   "source": [
    "# Hier beginnt das richtige!!"
   ]
  },
  {
   "cell_type": "code",
   "execution_count": 164,
   "metadata": {},
   "outputs": [],
   "source": [
    "# Softmax-Score für jede Kategorie und jeden Datenpunkt\n",
    "def get_score(theta, X):\n",
    "    score = []\n",
    "    for cat in theta:\n",
    "        cat_score = []\n",
    "        for row in X:\n",
    "            row_score = cat.T.dot(row)\n",
    "            cat_score.append(row_score)\n",
    "        score.append(cat_score)\n",
    "    score = np.array(score).T\n",
    "    print(score.shape)\n",
    "    return score"
   ]
  },
  {
   "cell_type": "code",
   "execution_count": 166,
   "metadata": {},
   "outputs": [
    {
     "name": "stdout",
     "output_type": "stream",
     "text": [
      "(150, 3)\n"
     ]
    },
    {
     "data": {
      "text/plain": [
       "array([[-892.43130016, 1128.84768541, -236.67271275],\n",
       "       [-892.43130016, 1128.84768541, -236.67271275],\n",
       "       [-836.63367568, 1058.27295845, -221.85881777]])"
      ]
     },
     "execution_count": 166,
     "metadata": {},
     "output_type": "execute_result"
    }
   ],
   "source": [
    "get_score(theta, X)[:3]"
   ]
  },
  {
   "cell_type": "code",
   "execution_count": 170,
   "metadata": {},
   "outputs": [],
   "source": [
    "# Softmax-Funktion\n",
    "def get_softmax(score):\n",
    "    softmax = []\n",
    "    for p in score:\n",
    "        p_softmax = []\n",
    "        cat_score_sum = np.sum([np.exp(cat_score) for cat_score in p])\n",
    "        for cat_score in p:\n",
    "            cat_softmax = np.exp(cat_score) / cat_score_sum\n",
    "            p_softmax.append(cat_softmax)\n",
    "        softmax.append(p_softmax)\n",
    "    softmax = np.array(softmax)\n",
    "    print(softmax.shape)\n",
    "    return softmax"
   ]
  },
  {
   "cell_type": "code",
   "execution_count": 179,
   "metadata": {},
   "outputs": [
    {
     "name": "stdout",
     "output_type": "stream",
     "text": [
      "(150, 3)\n",
      "(150, 3)\n"
     ]
    },
    {
     "data": {
      "text/plain": [
       "array([[0.05388868, 0.93468103, 0.01143029],\n",
       "       [0.05388868, 0.93468103, 0.01143029],\n",
       "       [0.06695002, 0.91757013, 0.01547985]])"
      ]
     },
     "execution_count": 179,
     "metadata": {},
     "output_type": "execute_result"
    }
   ],
   "source": [
    "get_softmax(get_score(theta, X))[:3]"
   ]
  },
  {
   "cell_type": "code",
   "execution_count": 180,
   "metadata": {},
   "outputs": [],
   "source": [
    "# Prediction\n",
    "def predict(softmax):\n",
    "    probas = []\n",
    "    for proba in softmax:\n",
    "        probas.append(np.argmax(proba))\n",
    "    probas = np.array(probas)\n",
    "    print(probas.shape)\n",
    "    return probas"
   ]
  },
  {
   "cell_type": "code",
   "execution_count": 246,
   "metadata": {},
   "outputs": [
    {
     "name": "stdout",
     "output_type": "stream",
     "text": [
      "(150, 3)\n",
      "(150, 3)\n",
      "(150,)\n"
     ]
    },
    {
     "data": {
      "text/plain": [
       "array([0, 0, 0, 0, 0, 0, 0, 0, 0, 0, 0, 0, 0, 0, 0, 0, 0, 0, 0, 0, 0, 0,\n",
       "       0, 0, 0, 0, 0, 0, 0, 0, 0, 0, 0, 0, 0, 0, 0, 0, 0, 0, 0, 0, 0, 0,\n",
       "       0, 0, 0, 0, 0, 0, 0, 0, 0, 0, 0, 0, 0, 0, 0, 0, 0, 0, 0, 0, 0, 0,\n",
       "       0, 0, 0, 0, 0, 0, 0, 0, 0, 0, 0, 0, 0, 0, 0, 0, 0, 0, 0, 0, 0, 0,\n",
       "       0, 0, 0, 0, 0, 0, 0, 0, 0, 0, 0, 0, 0, 0, 0, 0, 0, 0, 0, 0, 0, 0,\n",
       "       0, 0, 0, 0, 0, 0, 0, 0, 0, 0, 0, 0, 0, 0, 0, 0, 0, 0, 0, 0, 0, 0,\n",
       "       0, 0, 0, 0, 0, 0, 0, 0, 0, 0, 0, 0, 0, 0, 0, 0, 0, 0])"
      ]
     },
     "execution_count": 246,
     "metadata": {},
     "output_type": "execute_result"
    }
   ],
   "source": [
    "predict(get_softmax(get_score(theta, X)))"
   ]
  },
  {
   "cell_type": "code",
   "execution_count": 222,
   "metadata": {},
   "outputs": [],
   "source": [
    "# Training\n",
    "# TODO: softmax muss als parameter übergeben werden!!!\n",
    "def fit(theta, X, y, eta=0.1, n_iter=100):\n",
    "    for epoch in range(n_iter):\n",
    "        for i, cat_theta in enumerate(theta):\n",
    "            bla = 1 / m * np.sum((softmax[:,i] - y[:,i]).dot(X))\n",
    "            theta[i] = cat_theta - eta * bla"
   ]
  },
  {
   "cell_type": "code",
   "execution_count": 244,
   "metadata": {},
   "outputs": [
    {
     "data": {
      "text/plain": [
       "(3, 2)"
      ]
     },
     "execution_count": 244,
     "metadata": {},
     "output_type": "execute_result"
    }
   ],
   "source": [
    "fit(theta, X, y_new)\n",
    "theta.shape"
   ]
  },
  {
   "cell_type": "code",
   "execution_count": 245,
   "metadata": {},
   "outputs": [
    {
     "data": {
      "text/plain": [
       "array([[115.05982681, 114.88982339],\n",
       "       [         nan,          nan],\n",
       "       [505.78644648, 504.88144292]])"
      ]
     },
     "execution_count": 245,
     "metadata": {},
     "output_type": "execute_result"
    }
   ],
   "source": [
    "theta"
   ]
  },
  {
   "cell_type": "markdown",
   "metadata": {},
   "source": [
    "Reihenfolge\n",
    "1. score berechnen\n",
    "2. softmax funktion berechnen\n",
    "3. trainieren\n",
    "4. validieren\n",
    "5. trainieren\n",
    "6. validieren\n",
    "7. ...\n",
    "8. testen"
   ]
  },
  {
   "cell_type": "code",
   "execution_count": null,
   "metadata": {},
   "outputs": [],
   "source": []
  },
  {
   "cell_type": "code",
   "execution_count": null,
   "metadata": {},
   "outputs": [],
   "source": []
  },
  {
   "cell_type": "code",
   "execution_count": null,
   "metadata": {},
   "outputs": [],
   "source": []
  },
  {
   "cell_type": "code",
   "execution_count": null,
   "metadata": {},
   "outputs": [],
   "source": []
  },
  {
   "cell_type": "code",
   "execution_count": null,
   "metadata": {},
   "outputs": [],
   "source": []
  },
  {
   "cell_type": "code",
   "execution_count": null,
   "metadata": {},
   "outputs": [],
   "source": []
  },
  {
   "cell_type": "code",
   "execution_count": null,
   "metadata": {},
   "outputs": [],
   "source": []
  },
  {
   "cell_type": "code",
   "execution_count": null,
   "metadata": {},
   "outputs": [],
   "source": []
  }
 ],
 "metadata": {
  "kernelspec": {
   "display_name": "Python 3",
   "language": "python",
   "name": "python3"
  },
  "language_info": {
   "codemirror_mode": {
    "name": "ipython",
    "version": 3
   },
   "file_extension": ".py",
   "mimetype": "text/x-python",
   "name": "python",
   "nbconvert_exporter": "python",
   "pygments_lexer": "ipython3",
   "version": "3.6.5"
  }
 },
 "nbformat": 4,
 "nbformat_minor": 2
}
