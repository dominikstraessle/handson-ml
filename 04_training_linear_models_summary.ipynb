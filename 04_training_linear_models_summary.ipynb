{
 "cells": [
  {
   "cell_type": "markdown",
   "metadata": {},
   "source": [
    "# Lineare Regression\n",
    "\n",
    "**Lineare Regression in der Vektorschreibweise:**  \n",
    "$\\hat y = h_{\\theta}(\\textbf{x})=\\theta^{T}*\\textbf{x}$\n",
    "\n",
    "* $\\theta$: Parametervektor mit Bias-Term (Achsenabschnitt) und der $\\theta_{0}$ Gewichte aller Merkmale\n",
    "* $\\theta^{T}$: Zeilenvektor (transponiert) mit allen Merkmalsgewichten\n",
    "* $\\textbf{x}$: Zeilenvektor mit allen Merkmalen\n",
    "* **Wichtig:** $x_{0}$ ist immer 1. Somit ist $\\theta_{0}$ immer der Achsenabschnitt.\n",
    "* $\\theta^{T} * \\textbf{x}$ ist das Skalarprodukt\n",
    "\n",
    "Damit man das Modell trainieren (respektive die besten Werte für $\\Theta$) ermitteln kann, braucht man ein Qualitätsmass für die Anpassung.\n",
    "Häufig wird der RMSE (Root Mean Square Error) oder auch nur der MSE (Mean Square Error) verwendet.\n",
    "\n",
    "$MSE(X, h_{\\theta})=\\frac{1}{m}\\sum_{i=1}^m(\\theta^{T}*x^{(i)}-y^{(i)})^2$\n",
    "\n",
    "* $h_{\\theta}$ sagt aus, dass das Modell durch den Vektor $\\theta$ paramet"
   ]
  },
  {
   "cell_type": "markdown",
   "metadata": {},
   "source": [
    "## Normalengleichung\n",
    "\n",
    "Mit der Normalengleichung kann man einen Wert für $\\theta$ finden, welcher die Kostenfunktion minimiert.\n",
    "\n",
    "$\\hat \\theta = (X^{T}* X)^{-1} * X^{T} * y$\n",
    "\n",
    "* $y$ ist der Vektor mit den Zielwerten (Labels)\n",
    "* Das Hoch minus 1 macht die Matrix inversiv. Siehe: [Inverse Matrix](https://de.wikipedia.org/wiki/Inverse_Matrix)"
   ]
  },
  {
   "cell_type": "code",
   "execution_count": 1,
   "metadata": {},
   "outputs": [],
   "source": [
    "import numpy as np\n",
    "\n",
    "X = 2 * np.random.rand(100, 1)\n",
    "y = 4 + 3 * X + np.random.randn(100,1)"
   ]
  },
  {
   "cell_type": "code",
   "execution_count": 5,
   "metadata": {},
   "outputs": [
    {
     "data": {
      "text/plain": [
       "Text(0,0.5,'$y$')"
      ]
     },
     "execution_count": 5,
     "metadata": {},
     "output_type": "execute_result"
    },
    {
     "data": {
      "image/png": "[encoded data removed]",
      "text/plain": [
       "<Figure size 432x288 with 1 Axes>"
      ]
     },
     "metadata": {},
     "output_type": "display_data"
    }
   ],
   "source": [
    "import matplotlib.pyplot as plt\n",
    "%matplotlib inline\n",
    "\n",
    "plt.scatter(X, y)\n",
    "plt.xlabel('$X$')\n",
    "plt.ylabel('$y$')"
   ]
  },
  {
   "cell_type": "code",
   "execution_count": 6,
   "metadata": {},
   "outputs": [
    {
     "data": {
      "text/plain": [
       "(100, 1)"
      ]
     },
     "execution_count": 6,
     "metadata": {},
     "output_type": "execute_result"
    }
   ],
   "source": [
    "X.shape"
   ]
  },
  {
   "cell_type": "code",
   "execution_count": 8,
   "metadata": {},
   "outputs": [
    {
     "data": {
      "text/plain": [
       "(100, 2)"
      ]
     },
     "execution_count": 8,
     "metadata": {},
     "output_type": "execute_result"
    }
   ],
   "source": [
    "# Füge x0 = 1 zu jedem Datenpunkt hinzu\n",
    "X_b = np.c_[np.ones((100,1)), X]\n",
    "X_b.shape"
   ]
  },
  {
   "cell_type": "code",
   "execution_count": 10,
   "metadata": {},
   "outputs": [
    {
     "data": {
      "text/plain": [
       "array([[4.09866443],\n",
       "       [3.01355153]])"
      ]
     },
     "execution_count": 10,
     "metadata": {},
     "output_type": "execute_result"
    }
   ],
   "source": [
    "theta_best = np.linalg.inv(X_b.T.dot(X_b)).dot(X_b.T).dot(y)\n",
    "theta_best"
   ]
  },
  {
   "cell_type": "code",
   "execution_count": 13,
   "metadata": {},
   "outputs": [
    {
     "data": {
      "text/plain": [
       "array([[1., 0.],\n",
       "       [1., 2.]])"
      ]
     },
     "execution_count": 13,
     "metadata": {},
     "output_type": "execute_result"
    }
   ],
   "source": [
    "X_new = np.array([[0], [2]])\n",
    "# Füge x0 = 1 zu jedem Datenpunkt hinzu\n",
    "X_new_b = np.c_[np.ones((2,1)), X_new]\n",
    "X_new_b"
   ]
  },
  {
   "cell_type": "code",
   "execution_count": 14,
   "metadata": {},
   "outputs": [
    {
     "data": {
      "text/plain": [
       "array([[ 4.09866443],\n",
       "       [10.12576749]])"
      ]
     },
     "execution_count": 14,
     "metadata": {},
     "output_type": "execute_result"
    }
   ],
   "source": [
    "y_predict = X_new_b.dot(theta_best)\n",
    "y_predict"
   ]
  },
  {
   "cell_type": "code",
   "execution_count": 23,
   "metadata": {},
   "outputs": [
    {
     "data": {
      "image/png": "[encoded data removed]",
      "text/plain": [
       "<Figure size 432x288 with 1 Axes>"
      ]
     },
     "metadata": {},
     "output_type": "display_data"
    }
   ],
   "source": [
    "plt.plot(X_new, y_predict, \"r\")\n",
    "plt.plot(X, y, \"b.\")\n",
    "plt.axis([0,2,0,15])\n",
    "plt.legend([\"Vorhersagen\", \"Trainingsdaten\"])\n",
    "plt.show()"
   ]
  },
  {
   "cell_type": "markdown",
   "metadata": {},
   "source": [
    "## Mit Sklearn"
   ]
  },
  {
   "cell_type": "code",
   "execution_count": 28,
   "metadata": {},
   "outputs": [
    {
     "name": "stdout",
     "output_type": "stream",
     "text": [
      "Achsenabweichung: [4.09866443]\n",
      "Gewichte: [[3.01355153]]\n"
     ]
    }
   ],
   "source": [
    "from sklearn.linear_model import LinearRegression\n",
    "lin_reg = LinearRegression()\n",
    "lin_reg.fit(X, y)\n",
    "print(F'Achsenabweichung: {lin_reg.intercept_}\\nGewichte: {lin_reg.coef_}')"
   ]
  },
  {
   "cell_type": "code",
   "execution_count": 26,
   "metadata": {},
   "outputs": [
    {
     "data": {
      "text/plain": [
       "array([[ 4.09866443],\n",
       "       [10.12576749]])"
      ]
     },
     "execution_count": 26,
     "metadata": {},
     "output_type": "execute_result"
    }
   ],
   "source": [
    "lin_reg.predict(X_new)"
   ]
  },
  {
   "cell_type": "markdown",
   "metadata": {},
   "source": [
    "### Nachteil der Normalengleichung\n",
    "Die Normalengleichung wird bei sehr vielen Merkmalen sehr langsam.\n",
    "\n",
    "### Vorteil der Normalengleichung\n",
    "Sie kann grosse Datensätze sehr effizient behandeln.  \n",
    "Vorhersagen bei doppelt so vielen Datensätzen dauern nur etwa doppel so lange."
   ]
  },
  {
   "cell_type": "markdown",
   "metadata": {},
   "source": [
    "## Gradientenverfahren\n",
    "\n",
    "Das Gradientenverfahren verändert die Parameter iterativ um so die Kostenfunktion zu minimieren.\n",
    "\n",
    "1. $\\theta$ wird mit Zufallszahlen befüllt (zufällige Initialisierung)\n",
    "2. Die Parameter werden schrittweise verbessert um die Kostenfunktion zu senken\n",
    "3. Der Algorithmus konvergiert bei einem Minimum\n",
    "\n",
    "Die Lernrate (ein Hyperparameter) bestimmt die Grösse der Schritte:\n",
    "* Bei einer zu kleinen Lernrate kann es sehr lange dauern, bis ein Minimum gefunden wird.\n",
    "* Bei einer zu grossen Lernrate kann es passieren, dass nie das Minimum gefunden wird, da dieses ständig übersprungen wird.\n",
    "\n",
    "MSE ist als Kostenfunktin für lineare Regressionsmodelle eine **konvexe Funktion**. Dies bedeutet, dass wenn man zwei beliebige Punkte auf der Kurve auswählt, ihre lineare Verbindung niemals die Kurve schneidet.\n",
    "\n",
    "<img src=\"images/training_linear_models/konvex.png\" alt=\"konvex function\" width=\"400\"/>\n",
    "\n",
    "Somit hat die Kostenfunktion die Form einer Schüssel mit einem Minimum. Damit man dieses Minimum möglichst schnell findet, ist es wichtig, dass **alle Merkmale ähnlich skaliert sind**.\n",
    "Dies macht die Schüssel schön rund, also zu einer Halbkugel. Bei unskalierten Merkmalen kann man sich auch eine Ellipse-artige Schüssel vorstellen, bei einer solchen kann es länger dauern, bis man das Minimum erreicht."
   ]
  },
  {
   "cell_type": "markdown",
   "metadata": {},
   "source": [
    "### Batch-Gradientenverfahren\n",
    "\n",
    "Das Batch-Gradientenverfahren funktioniert mit partieller Ableitung. Es rechnet aus, wie stark sich die Kostenfunktion ändert, wenn man den Parameter $\\theta_{j}$ ändert.\n",
    "\n",
    "$$\\frac{\\delta}{\\delta \\theta_{j}} * MSE(X, h_{\\theta})=\\frac{2}{m}\\sum_{i=1}^m(\\theta^{T}*x^{(i)}-y^{(i)})x_{j}^{(i)}$$\n",
    "\n",
    "Diese Ableitung wird aber nicht einzeln sondern gleich als Vektor für alle Modellparameter berechnet.\n",
    "\n",
    "$$\\nabla_{\\theta}MSE(\\theta)=\\frac{2}{m}X^T*(X*\\theta-y)$$\n",
    "\n",
    "Mit dieser Formel kann man den Gradientenvektor ermitteln, der vom Minimum weg weist. Um sich dem Minimum zu nähern muss man also in die entgegengesetzte Richtung gehen. Dazu subtrahiert man $\\nabla_{\\theta}MSE(\\theta)$ von $\\theta$.\n",
    "Die Lernrate $\\eta$ bestimmt, wie gross die Schritte sein sollen.\n",
    "$$\\theta^{nächster Schritt}=\\theta - \\eta\\nabla_{\\theta}MSE(\\theta)$$\n",
    "\n",
    "> Das Batch-Gradientenverfahren ist bei grossen Datensätzen sehr langsam, dafür ist es geeignet bei vielen Merkmalen.\n",
    "\n",
    "Mit Hilfe der Gittersuche kann eine geeignete Lernrate gefunden werden.  \n",
    "Um die Anzahl Iterationen zu bestimmen kann man die Anzahl Iterationen auf einen sehr hohen Wert setzen und den Algorithmus anhalten, sobald der Gradientenvektor ganz klein wird. Der Gradientenvektor ist dann so klein, das er sich dem Minimum kaum noch nähern kann. Dies wird als Toleranz bezeichnet."
   ]
  },
  {
   "cell_type": "code",
   "execution_count": 33,
   "metadata": {},
   "outputs": [],
   "source": [
    "# Lernrate eta\n",
    "eta = 0.1\n",
    "n_iter = 1000\n",
    "m = 100"
   ]
  },
  {
   "cell_type": "code",
   "execution_count": 34,
   "metadata": {},
   "outputs": [],
   "source": [
    "# Zufällige Initialisierung\n",
    "theta = np.random.randn(2,1)\n",
    "\n",
    "for iteration in range(n_iter):\n",
    "    gradients = 2/m * X_b.T.dot(X_b.dot(theta)-y)\n",
    "    theta = theta -eta * gradients"
   ]
  },
  {
   "cell_type": "code",
   "execution_count": 35,
   "metadata": {},
   "outputs": [
    {
     "data": {
      "text/plain": [
       "array([[4.09866443],\n",
       "       [3.01355153]])"
      ]
     },
     "execution_count": 35,
     "metadata": {},
     "output_type": "execute_result"
    }
   ],
   "source": [
    "theta"
   ]
  },
  {
   "cell_type": "markdown",
   "metadata": {},
   "source": [
    "### Stochastisches Gradientenverfahren\n",
    "\n",
    "Das SGD (Stochastic Gradient Descent) wählt für jeden Schritt nur einen Datenpunkt zufällig aus. Dies macht ihn viel schneller als das Batch-Gradientenverfahren, aber durch seine Zufälligkeit hüpftf die Kostenfunktion ständig auf und ab und findet nie das perfekte Minimum.\n",
    "> SGD lässt sich auch als Out-of-Core-Algorithmus implementieren\n",
    "\n",
    "SGD kann durch die Zufälligkeit gut lokalen Minima entfliehen, kommt aber beim Minimum nie zur Ruhe.  \n",
    "**Simulated Annealing:**  \n",
    "Man wählt die Schritte zu Beginn gross um den lokalen Minima zu entfliehen und dann immer kleiner, damit der Algorithmus beim globalen Minima stehen bleibt.\n",
    "Durch dieses \"langsame Abkühlen\" wird ein bestmögliches Resultat erzielt.\n",
    "\n",
    "**Learning Schedule:**  \n",
    "Dies ist die Funktion zum festlegen der Lernrate."
   ]
  },
  {
   "cell_type": "code",
   "execution_count": 88,
   "metadata": {},
   "outputs": [],
   "source": [
    "n_epochs = 50\n",
    "# Hyperparameter für den Learning Schedule\n",
    "t0, t1 = 5, 50\n",
    "def learning_schedule(t):\n",
    "    return t0 / (t + t1)"
   ]
  },
  {
   "cell_type": "code",
   "execution_count": 89,
   "metadata": {},
   "outputs": [],
   "source": [
    "# Zufällige Initialisierung\n",
    "theta = np.random.randn(2,1)"
   ]
  },
  {
   "cell_type": "code",
   "execution_count": 90,
   "metadata": {},
   "outputs": [],
   "source": [
    "for epoch in range(n_epochs):\n",
    "    for i in range(m):\n",
    "        random_index = np.random.randint(m)\n",
    "        xi = X_b[random_index:random_index + 1]\n",
    "        yi = y[random_index:random_index + 1]\n",
    "        gradients = 2 * xi.T.dot(xi.dot(theta) - yi)\n",
    "        eta = learning_schedule(epoch * m + i)\n",
    "        theta = theta - eta * gradients"
   ]
  },
  {
   "cell_type": "code",
   "execution_count": 91,
   "metadata": {},
   "outputs": [
    {
     "data": {
      "text/plain": [
       "array([[4.11822041],\n",
       "       [3.03029418]])"
      ]
     },
     "execution_count": 91,
     "metadata": {},
     "output_type": "execute_result"
    }
   ],
   "source": [
    "theta"
   ]
  },
  {
   "cell_type": "markdown",
   "metadata": {},
   "source": [
    "### Mit Sklearn"
   ]
  },
  {
   "cell_type": "code",
   "execution_count": 93,
   "metadata": {},
   "outputs": [
    {
     "name": "stdout",
     "output_type": "stream",
     "text": [
      "Achsenabweichung: [4.07981117]\n",
      "Gewichte: [3.00847528]\n"
     ]
    }
   ],
   "source": [
    "from sklearn.linear_model import SGDRegressor\n",
    "sgd_reg = SGDRegressor(n_iter=50, penalty=None, eta0=0.1)\n",
    "sgd_reg.fit(X, y.ravel())\n",
    "print(F'Achsenabweichung: {sgd_reg.intercept_}\\nGewichte: {sgd_reg.coef_}')"
   ]
  },
  {
   "cell_type": "code",
   "execution_count": null,
   "metadata": {},
   "outputs": [],
   "source": []
  },
  {
   "cell_type": "code",
   "execution_count": null,
   "metadata": {},
   "outputs": [],
   "source": []
  },
  {
   "cell_type": "code",
   "execution_count": null,
   "metadata": {},
   "outputs": [],
   "source": []
  },
  {
   "cell_type": "code",
   "execution_count": null,
   "metadata": {},
   "outputs": [],
   "source": []
  },
  {
   "cell_type": "code",
   "execution_count": null,
   "metadata": {},
   "outputs": [],
   "source": []
  },
  {
   "cell_type": "code",
   "execution_count": null,
   "metadata": {},
   "outputs": [],
   "source": []
  },
  {
   "cell_type": "code",
   "execution_count": null,
   "metadata": {},
   "outputs": [],
   "source": []
  },
  {
   "cell_type": "code",
   "execution_count": null,
   "metadata": {},
   "outputs": [],
   "source": []
  },
  {
   "cell_type": "code",
   "execution_count": null,
   "metadata": {},
   "outputs": [],
   "source": []
  },
  {
   "cell_type": "code",
   "execution_count": null,
   "metadata": {},
   "outputs": [],
   "source": []
  },
  {
   "cell_type": "code",
   "execution_count": null,
   "metadata": {},
   "outputs": [],
   "source": []
  },
  {
   "cell_type": "code",
   "execution_count": null,
   "metadata": {},
   "outputs": [],
   "source": []
  },
  {
   "cell_type": "code",
   "execution_count": null,
   "metadata": {},
   "outputs": [],
   "source": []
  },
  {
   "cell_type": "code",
   "execution_count": null,
   "metadata": {},
   "outputs": [],
   "source": []
  },
  {
   "cell_type": "code",
   "execution_count": null,
   "metadata": {},
   "outputs": [],
   "source": []
  },
  {
   "cell_type": "code",
   "execution_count": null,
   "metadata": {},
   "outputs": [],
   "source": []
  },
  {
   "cell_type": "code",
   "execution_count": null,
   "metadata": {},
   "outputs": [],
   "source": []
  },
  {
   "cell_type": "code",
   "execution_count": null,
   "metadata": {},
   "outputs": [],
   "source": []
  }
 ],
 "metadata": {
  "kernelspec": {
   "display_name": "Python 3",
   "language": "python",
   "name": "python3"
  },
  "language_info": {
   "codemirror_mode": {
    "name": "ipython",
    "version": 3
   },
   "file_extension": ".py",
   "mimetype": "text/x-python",
   "name": "python",
   "nbconvert_exporter": "python",
   "pygments_lexer": "ipython3",
   "version": "3.6.5"
  }
 },
 "nbformat": 4,
 "nbformat_minor": 2
}
