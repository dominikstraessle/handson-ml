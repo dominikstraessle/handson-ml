{
 "cells": [
  {
   "cell_type": "markdown",
   "metadata": {},
   "source": [
    "# Dieses Notebook war nur zum ausprobieren!!"
   ]
  },
  {
   "cell_type": "code",
   "execution_count": 1,
   "metadata": {},
   "outputs": [],
   "source": [
    "import numpy as np\n",
    "import matplotlib.pyplot as plt\n",
    "%matplotlib inline\n",
    "from sklearn.datasets import load_iris"
   ]
  },
  {
   "cell_type": "code",
   "execution_count": 2,
   "metadata": {},
   "outputs": [],
   "source": [
    "iris = load_iris()\n",
    "X = iris['data'][:, (2,3)]\n",
    "y = iris['target']"
   ]
  },
  {
   "cell_type": "markdown",
   "metadata": {},
   "source": [
    "Dem Input X muss ein Achsenabschnitt (Bias-Term) hinzugefügt werden: $\\theta_0$  \n",
    "* X (150, 2)  \n",
    "* X_with_bias (150, 3)"
   ]
  },
  {
   "cell_type": "code",
   "execution_count": 9,
   "metadata": {},
   "outputs": [],
   "source": [
    "# np.ones erstellt ein (150, 1) array und np.c_ fügt dieses und X zusammen\n",
    "X_with_bias = np.c_[np.ones([len(X), 1]), X]"
   ]
  },
  {
   "cell_type": "markdown",
   "metadata": {},
   "source": [
    "Erstelle trainings, validation und test sets"
   ]
  },
  {
   "cell_type": "code",
   "execution_count": 11,
   "metadata": {},
   "outputs": [],
   "source": [
    "from sklearn.model_selection import train_test_split\n",
    "\n",
    "X_train, X_test, y_train, y_test = train_test_split(X_with_bias, y, test_size=0.2, random_state=42)"
   ]
  },
  {
   "cell_type": "code",
   "execution_count": 17,
   "metadata": {},
   "outputs": [],
   "source": [
    "X_train, X_val, y_train, y_val = X_train[:100], X_train[100:], y_train[:100], y_train[100:]"
   ]
  },
  {
   "cell_type": "code",
   "execution_count": 29,
   "metadata": {},
   "outputs": [],
   "source": [
    "def to_one_hot(y):\n",
    "    \"\"\"Die labels werden mithilfe von one-hot umgewandelt\"\"\"\n",
    "    cats = [y==cat for cat in range(y.max() + 1)]\n",
    "    return np.array(cats).astype(np.int).T"
   ]
  },
  {
   "cell_type": "code",
   "execution_count": 30,
   "metadata": {},
   "outputs": [],
   "source": [
    "Y_train_one_hot = to_one_hot(y_train)\n",
    "Y_val_one_hot = to_one_hot(y_val)\n",
    "Y_test_one_hot = to_one_hot(y_test)"
   ]
  },
  {
   "cell_type": "markdown",
   "metadata": {},
   "source": [
    "Softmax funktion:\n",
    "$$\\hat p_k = \\sigma(s(x())_k = \\frac{exp(s_k(x))}{\\sum_{j=1}^Kexp(s_j(x))}$$\n"
   ]
  },
  {
   "cell_type": "code",
   "execution_count": 32,
   "metadata": {},
   "outputs": [],
   "source": [
    "def softmax(logits):\n",
    "    \"\"\"Wendet die Softmax-Funktion auf berechnete Softmax-Score für eine Kategorie an.\"\"\"\n",
    "    exps = np.exp(logits)\n",
    "    exp_sums = np.sum(exps, axis=1, keepdims=True)\n",
    "    return exps / exp_sums"
   ]
  },
  {
   "cell_type": "markdown",
   "metadata": {},
   "source": [
    "Wir brauchen die Anzahl der Merkmale und der Kategorien"
   ]
  },
  {
   "cell_type": "code",
   "execution_count": 35,
   "metadata": {},
   "outputs": [],
   "source": [
    "n_inputs = X_train.shape[1] # => 3 (2 Merkmale plus den Achsenabschnitt)\n",
    "n_outputs = Y_test_one_hot.shape[1] # => 3 (drei verschiedene Kategorien)"
   ]
  },
  {
   "cell_type": "markdown",
   "metadata": {},
   "source": [
    "Kostenfunktion:  \n",
    "$J(\\mathbf{\\Theta}) =\n",
    "- \\dfrac{1}{m}\\sum\\limits_{i=1}^{m}\\sum\\limits_{k=1}^{K}{y_k^{(i)}\\log\\left(\\hat{p}_k^{(i)}\\right)}$\n",
    "\n",
    "Gradientenvektor:  \n",
    "$\\nabla_{\\mathbf{\\theta}^{(k)}} \\, J(\\mathbf{\\Theta}) = \\dfrac{1}{m} \\sum\\limits_{i=1}^{m}{ \\left ( \\hat{p}^{(i)}_k - y_k^{(i)} \\right ) \\mathbf{x}^{(i)}}$\n",
    "\n",
    "Note that $\\log\\left(\\hat{p}_k^{(i)}\\right)$ may not be computable if $\\hat{p}_k^{(i)} = 0$. So we will add a tiny value $\\epsilon$ to $\\log\\left(\\hat{p}_k^{(i)}\\right)$ to avoid getting `nan` values."
   ]
  },
  {
   "cell_type": "code",
   "execution_count": 65,
   "metadata": {},
   "outputs": [
    {
     "name": "stdout",
     "output_type": "stream",
     "text": [
      "Epoch: 0, Loss: 1.2191585568450913\n",
      "Epoch: 500, Loss: 0.7360576290888219\n",
      "Epoch: 1000, Loss: 0.6260262212306025\n",
      "Epoch: 1500, Loss: 0.5577668297803011\n",
      "Epoch: 2000, Loss: 0.5113008189214988\n",
      "Epoch: 2500, Loss: 0.47721551030290577\n",
      "Epoch: 3000, Loss: 0.45078170068234436\n",
      "Epoch: 3500, Loss: 0.42942239728259474\n",
      "Epoch: 4000, Loss: 0.4116245988525047\n",
      "Epoch: 4500, Loss: 0.3964417215267641\n",
      "Epoch: 5000, Loss: 0.38324935700511437\n"
     ]
    }
   ],
   "source": [
    "eta = 0.01 # Lernrate\n",
    "max_iter = 5001\n",
    "m = len(X_train) # Anzahl Datenpunkte\n",
    "epsilon = 1e-7 # Verhindert nan Werte beim log-rechnen\n",
    "\n",
    "Theta = np.random.randn(n_inputs, n_outputs)\n",
    "\n",
    "for epoch in range(max_iter):\n",
    "    scores = X_train.dot(Theta)\n",
    "    Y_proba = softmax(scores)\n",
    "    loss = -np.mean(np.sum(\n",
    "            Y_train_one_hot * np.log(Y_proba + epsilon), axis=1\n",
    "    ))\n",
    "    error = Y_proba - Y_train_one_hot\n",
    "    if epoch % 500 == 0:\n",
    "        print(F'Epoch: {epoch}, Loss: {loss}')\n",
    "        pass\n",
    "    # TODO: ich habe in meiner eigenen Version zu viel erledigt (np.sum wird gar nicht benötigt...)\n",
    "    gradients = 1 / m * X_train.T.dot(error)\n",
    "    Theta = Theta - eta * gradients"
   ]
  },
  {
   "cell_type": "code",
   "execution_count": 66,
   "metadata": {},
   "outputs": [
    {
     "data": {
      "text/plain": [
       "array([[ 3.72665469,  0.08499043, -2.26622633],\n",
       "       [-0.56698803,  0.26471754,  0.03922486],\n",
       "       [-2.91250873, -0.81754659,  1.30250599]])"
      ]
     },
     "execution_count": 66,
     "metadata": {},
     "output_type": "execute_result"
    }
   ],
   "source": [
    "Theta"
   ]
  },
  {
   "cell_type": "code",
   "execution_count": 67,
   "metadata": {},
   "outputs": [
    {
     "data": {
      "text/plain": [
       "0.95"
      ]
     },
     "execution_count": 67,
     "metadata": {},
     "output_type": "execute_result"
    }
   ],
   "source": [
    "# Validierung\n",
    "scores = X_val.dot(Theta)\n",
    "Y_proba = softmax(scores)\n",
    "y_predict = np.argmax(Y_proba, axis=1)\n",
    "accuracy_score = np.mean(y_predict == y_val)\n",
    "accuracy_score"
   ]
  },
  {
   "cell_type": "code",
   "execution_count": 83,
   "metadata": {},
   "outputs": [
    {
     "name": "stdout",
     "output_type": "stream",
     "text": [
      "Itertion: 0, loss: 2.9050797476581396\n",
      "Itertion: 500, loss: 2.9050797476581396\n",
      "Itertion: 1000, loss: 2.9050797476581396\n",
      "Itertion: 1500, loss: 2.9050797476581396\n",
      "Itertion: 2000, loss: 2.9050797476581396\n",
      "Itertion: 2500, loss: 2.9050797476581396\n",
      "Itertion: 3000, loss: 2.9050797476581396\n",
      "Itertion: 3500, loss: 2.9050797476581396\n",
      "Itertion: 4000, loss: 2.9050797476581396\n",
      "Itertion: 4500, loss: 2.9050797476581396\n",
      "Itertion: 5000, loss: 2.9050797476581396\n"
     ]
    }
   ],
   "source": [
    "eta = 0.1\n",
    "max_iterations = 5001\n",
    "m = len(X_train)\n",
    "epsilon = 1e-7\n",
    "alpha = 0.1 # Regularisierungs hyperparameter\n",
    "\n",
    "Theta = np.random.randn(n_inputs, n_outputs)\n",
    "\n",
    "for epoch in range(max_iter):\n",
    "    scores = X_train.dot(Theta)\n",
    "    Y_proba = softmax(scores)\n",
    "    xentropy_loss = -np.mean(np.sum(Y_train_one_hot * np.log(Y_proba + epsilon), axis=1))\n",
    "    l2_loss = 0.5 * np.sum(np.square(Theta[1:]))\n",
    "    loss = xentropy_loss + alpha * l2_loss\n",
    "    error = Y_proba - Y_train_one_hot\n",
    "    if epoch % 500 == 0:\n",
    "        print(F'Itertion: {epoch}, loss: {loss}')\n",
    "    # Gradienten mit der l2-regulation berechnen\n",
    "    gradients = 1/m * X_train.T.dot(error) + np.r_[np.zeros([1, n_outputs]), alpha * Theta[1:]]"
   ]
  },
  {
   "cell_type": "code",
   "execution_count": 89,
   "metadata": {},
   "outputs": [
    {
     "data": {
      "text/plain": [
       "0.3"
      ]
     },
     "execution_count": 89,
     "metadata": {},
     "output_type": "execute_result"
    }
   ],
   "source": [
    "logits = X_val.dot(Theta)\n",
    "Y_proba = softmax(logits)\n",
    "y_predict = np.argmax(Y_proba, axis=1)\n",
    "\n",
    "accuracy_score = np.mean(y_predict == y_val)\n",
    "accuracy_score"
   ]
  },
  {
   "cell_type": "code",
   "execution_count": 142,
   "metadata": {},
   "outputs": [
    {
     "name": "stdout",
     "output_type": "stream",
     "text": [
      "Itertion: 0, loss: 1.3401825392701279\n",
      "Itertion: 500, loss: 0.5814692580768537\n",
      "Itertion: 1000, loss: 0.5594655198166198\n",
      "Itertion: 1500, loss: 0.5514292443728923\n",
      "Itertion: 2000, loss: 0.5479757638386404\n",
      "Itertion: 2500, loss: 0.5463687674015348\n",
      "Itertion: 3000, loss: 0.545569548311599\n",
      "Itertion: 3500, loss: 0.54514768614606\n",
      "Itertion: 4000, loss: 0.5449129731318272\n",
      "Itertion: 4500, loss: 0.5447763919251096\n",
      "Itertion: 5000, loss: 0.5446939580232468\n"
     ]
    }
   ],
   "source": [
    "# mit regularisierung und early-stopping\n",
    "# Man könnte zusätzlich noch die lernrate senken\n",
    "eta = 0.1\n",
    "max_iter = 5001\n",
    "m = len(X_train)\n",
    "epsilon = 1e-7\n",
    "alpha = 0.1\n",
    "best_loss = np.infty\n",
    "\n",
    "Theta = np.random.randn(n_inputs, n_outputs)\n",
    "\n",
    "for epoch in range(max_iter):\n",
    "    scores = X_train.dot(Theta)\n",
    "    Y_proba = softmax(scores)\n",
    "    xentropy_loss = -np.mean(np.sum(Y_train_one_hot * np.log(Y_proba + epsilon), axis=1))\n",
    "    l2_loss = 0.5 * np.sum(np.square(Theta[1:]))\n",
    "    loss = xentropy_loss + alpha * l2_loss\n",
    "    error = Y_proba - Y_train_one_hot\n",
    "    gradients = 1/m * X_train.T.dot(error) + np.r_[np.zeros([1, n_outputs]), alpha * Theta[1:]]\n",
    "    Theta = Theta - eta * gradients\n",
    "    \n",
    "    # validation\n",
    "    scores = X_val.dot(Theta)\n",
    "    Y_proba = softmax(scores)\n",
    "    xentropy_loss = -np.mean(np.sum(Y_val_one_hot * np.log(Y_proba + epsilon), axis=1))\n",
    "    l2_loss = 0.5 * np.sum(np.square(Theta[1:]))\n",
    "    loss = xentropy_loss + alpha * l2_loss\n",
    "    if epoch % 500 == 0:\n",
    "        print(F'Itertion: {epoch}, loss: {loss}')\n",
    "    if loss < best_loss:\n",
    "        best_loss = loss\n",
    "    else:\n",
    "        print(F'Itertion: {epoch - 1}, loss: {best_loss} best')\n",
    "        print(F'Itertion: {epoch}, loss: {loss} stopping!')\n",
    "        break"
   ]
  },
  {
   "cell_type": "code",
   "execution_count": 139,
   "metadata": {},
   "outputs": [
    {
     "data": {
      "text/plain": [
       "0.1"
      ]
     },
     "execution_count": 139,
     "metadata": {},
     "output_type": "execute_result"
    }
   ],
   "source": [
    "eta"
   ]
  },
  {
   "cell_type": "code",
   "execution_count": 146,
   "metadata": {},
   "outputs": [
    {
     "data": {
      "text/plain": [
       "numpy.ndarray"
      ]
     },
     "execution_count": 146,
     "metadata": {},
     "output_type": "execute_result"
    }
   ],
   "source": [
    "type(Theta)"
   ]
  },
  {
   "cell_type": "code",
   "execution_count": 147,
   "metadata": {},
   "outputs": [
    {
     "data": {
      "text/plain": [
       "(3, 3)"
      ]
     },
     "execution_count": 147,
     "metadata": {},
     "output_type": "execute_result"
    }
   ],
   "source": [
    "Theta.shape"
   ]
  },
  {
   "cell_type": "code",
   "execution_count": 148,
   "metadata": {},
   "outputs": [
    {
     "data": {
      "text/plain": [
       "array([[ 4.194398  ,  0.3001704 , -4.84803457],\n",
       "       [-1.11015333,  0.15069875,  0.95945458],\n",
       "       [-0.44216325, -0.1191537 ,  0.56131696]])"
      ]
     },
     "execution_count": 148,
     "metadata": {},
     "output_type": "execute_result"
    }
   ],
   "source": [
    "Theta"
   ]
  },
  {
   "cell_type": "code",
   "execution_count": 143,
   "metadata": {},
   "outputs": [
    {
     "data": {
      "text/plain": [
       "0.95"
      ]
     },
     "execution_count": 143,
     "metadata": {},
     "output_type": "execute_result"
    }
   ],
   "source": [
    "logits = X_val.dot(Theta)\n",
    "Y_proba = softmax(logits)\n",
    "y_predict = np.argmax(Y_proba, axis=1)\n",
    "\n",
    "accuracy_score = np.mean(y_predict == y_val)\n",
    "accuracy_score"
   ]
  },
  {
   "cell_type": "code",
   "execution_count": 144,
   "metadata": {},
   "outputs": [
    {
     "data": {
      "text/plain": [
       "1.0"
      ]
     },
     "execution_count": 144,
     "metadata": {},
     "output_type": "execute_result"
    }
   ],
   "source": [
    "logits = X_test.dot(Theta)\n",
    "Y_proba = softmax(logits)\n",
    "y_predict = np.argmax(Y_proba, axis=1)\n",
    "\n",
    "accuracy_score = np.mean(y_predict == y_test)\n",
    "accuracy_score"
   ]
  },
  {
   "cell_type": "code",
   "execution_count": 68,
   "metadata": {},
   "outputs": [],
   "source": []
  },
  {
   "cell_type": "code",
   "execution_count": null,
   "metadata": {},
   "outputs": [],
   "source": []
  },
  {
   "cell_type": "code",
   "execution_count": null,
   "metadata": {},
   "outputs": [],
   "source": []
  },
  {
   "cell_type": "code",
   "execution_count": null,
   "metadata": {},
   "outputs": [],
   "source": []
  },
  {
   "cell_type": "code",
   "execution_count": null,
   "metadata": {},
   "outputs": [],
   "source": []
  },
  {
   "cell_type": "code",
   "execution_count": null,
   "metadata": {},
   "outputs": [],
   "source": []
  },
  {
   "cell_type": "code",
   "execution_count": null,
   "metadata": {},
   "outputs": [],
   "source": []
  },
  {
   "cell_type": "code",
   "execution_count": null,
   "metadata": {},
   "outputs": [],
   "source": []
  }
 ],
 "metadata": {
  "kernelspec": {
   "display_name": "Python 3",
   "language": "python",
   "name": "python3"
  },
  "language_info": {
   "codemirror_mode": {
    "name": "ipython",
    "version": 3
   },
   "file_extension": ".py",
   "mimetype": "text/x-python",
   "name": "python",
   "nbconvert_exporter": "python",
   "pygments_lexer": "ipython3",
   "version": "3.6.5"
  }
 },
 "nbformat": 4,
 "nbformat_minor": 2
}
